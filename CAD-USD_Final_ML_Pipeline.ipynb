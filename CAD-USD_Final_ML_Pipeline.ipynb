{
 "cells": [
  {
   "cell_type": "markdown",
   "id": "c1bf41c4",
   "metadata": {},
   "source": [
    "## Final Machine Learning Pipeline for CAD-USD Price"
   ]
  },
  {
   "cell_type": "markdown",
   "id": "f878e821",
   "metadata": {},
   "source": [
    "This file contains the code for the ML pipeline that will deployed for forecasting CAD-USD price"
   ]
  },
  {
   "cell_type": "markdown",
   "id": "480d4762",
   "metadata": {},
   "source": [
    "Its important to set seed for any step that involves randomness"
   ]
  },
  {
   "cell_type": "code",
   "execution_count": 1,
   "id": "7cf4e6d7",
   "metadata": {},
   "outputs": [],
   "source": [
    "import numpy as np\n",
    "import pandas as pd\n",
    "from matplotlib import pyplot as plt\n",
    "from sklearn.metrics import mean_squared_error\n",
    "from prophet import Prophet\n",
    "from statsmodels.tools.eval_measures import rmse\n",
    "from prophet.diagnostics import cross_validation, performance_metrics\n",
    "from prophet.plot import plot_cross_validation_metric\n",
    "import joblib"
   ]
  },
  {
   "cell_type": "markdown",
   "id": "6482ebb4",
   "metadata": {},
   "source": [
    "Load the Dataset"
   ]
  },
  {
   "cell_type": "code",
   "execution_count": 2,
   "id": "b6461808",
   "metadata": {},
   "outputs": [],
   "source": [
    "#Load the dataset"
   ]
  },
  {
   "cell_type": "code",
   "execution_count": 3,
   "id": "f8f2d80f",
   "metadata": {},
   "outputs": [
    {
     "data": {
      "text/html": [
       "<div>\n",
       "<style scoped>\n",
       "    .dataframe tbody tr th:only-of-type {\n",
       "        vertical-align: middle;\n",
       "    }\n",
       "\n",
       "    .dataframe tbody tr th {\n",
       "        vertical-align: top;\n",
       "    }\n",
       "\n",
       "    .dataframe thead th {\n",
       "        text-align: right;\n",
       "    }\n",
       "</style>\n",
       "<table border=\"1\" class=\"dataframe\">\n",
       "  <thead>\n",
       "    <tr style=\"text-align: right;\">\n",
       "      <th></th>\n",
       "      <th>Date</th>\n",
       "      <th>Open</th>\n",
       "      <th>High</th>\n",
       "      <th>Low</th>\n",
       "      <th>Close</th>\n",
       "      <th>Adj Close</th>\n",
       "      <th>Volume</th>\n",
       "    </tr>\n",
       "  </thead>\n",
       "  <tbody>\n",
       "    <tr>\n",
       "      <th>0</th>\n",
       "      <td>2017-11-22</td>\n",
       "      <td>0.782963</td>\n",
       "      <td>0.786411</td>\n",
       "      <td>0.782791</td>\n",
       "      <td>0.782840</td>\n",
       "      <td>0.782840</td>\n",
       "      <td>0.0</td>\n",
       "    </tr>\n",
       "    <tr>\n",
       "      <th>1</th>\n",
       "      <td>2017-11-23</td>\n",
       "      <td>0.786999</td>\n",
       "      <td>0.789204</td>\n",
       "      <td>0.785960</td>\n",
       "      <td>0.787092</td>\n",
       "      <td>0.787092</td>\n",
       "      <td>0.0</td>\n",
       "    </tr>\n",
       "    <tr>\n",
       "      <th>2</th>\n",
       "      <td>2017-11-24</td>\n",
       "      <td>0.786596</td>\n",
       "      <td>0.787836</td>\n",
       "      <td>0.784560</td>\n",
       "      <td>0.786621</td>\n",
       "      <td>0.786621</td>\n",
       "      <td>0.0</td>\n",
       "    </tr>\n",
       "    <tr>\n",
       "      <th>3</th>\n",
       "      <td>2017-11-27</td>\n",
       "      <td>0.786559</td>\n",
       "      <td>0.788706</td>\n",
       "      <td>0.784252</td>\n",
       "      <td>0.786535</td>\n",
       "      <td>0.786535</td>\n",
       "      <td>0.0</td>\n",
       "    </tr>\n",
       "    <tr>\n",
       "      <th>4</th>\n",
       "      <td>2017-11-28</td>\n",
       "      <td>0.783816</td>\n",
       "      <td>0.784191</td>\n",
       "      <td>0.779818</td>\n",
       "      <td>0.783797</td>\n",
       "      <td>0.783797</td>\n",
       "      <td>0.0</td>\n",
       "    </tr>\n",
       "  </tbody>\n",
       "</table>\n",
       "</div>"
      ],
      "text/plain": [
       "         Date      Open      High       Low     Close  Adj Close  Volume\n",
       "0  2017-11-22  0.782963  0.786411  0.782791  0.782840   0.782840     0.0\n",
       "1  2017-11-23  0.786999  0.789204  0.785960  0.787092   0.787092     0.0\n",
       "2  2017-11-24  0.786596  0.787836  0.784560  0.786621   0.786621     0.0\n",
       "3  2017-11-27  0.786559  0.788706  0.784252  0.786535   0.786535     0.0\n",
       "4  2017-11-28  0.783816  0.784191  0.779818  0.783797   0.783797     0.0"
      ]
     },
     "execution_count": 3,
     "metadata": {},
     "output_type": "execute_result"
    }
   ],
   "source": [
    "data = pd.read_csv('CADUSD.csv')\n",
    "data.head()"
   ]
  },
  {
   "cell_type": "code",
   "execution_count": 4,
   "id": "09a78697",
   "metadata": {},
   "outputs": [
    {
     "name": "stdout",
     "output_type": "stream",
     "text": [
      "<class 'pandas.core.frame.DataFrame'>\n",
      "RangeIndex: 1305 entries, 0 to 1304\n",
      "Data columns (total 7 columns):\n",
      " #   Column     Non-Null Count  Dtype  \n",
      "---  ------     --------------  -----  \n",
      " 0   Date       1305 non-null   object \n",
      " 1   Open       1304 non-null   float64\n",
      " 2   High       1304 non-null   float64\n",
      " 3   Low        1304 non-null   float64\n",
      " 4   Close      1304 non-null   float64\n",
      " 5   Adj Close  1304 non-null   float64\n",
      " 6   Volume     1304 non-null   float64\n",
      "dtypes: float64(6), object(1)\n",
      "memory usage: 71.5+ KB\n"
     ]
    }
   ],
   "source": [
    "data.info()"
   ]
  },
  {
   "cell_type": "markdown",
   "id": "f7cd16e4",
   "metadata": {},
   "source": [
    "There is a missing value in the Date column, lets drop it. "
   ]
  },
  {
   "cell_type": "code",
   "execution_count": 5,
   "id": "d27dfcfc",
   "metadata": {},
   "outputs": [
    {
     "name": "stdout",
     "output_type": "stream",
     "text": [
      "<class 'pandas.core.frame.DataFrame'>\n",
      "Int64Index: 1304 entries, 0 to 1304\n",
      "Data columns (total 7 columns):\n",
      " #   Column     Non-Null Count  Dtype  \n",
      "---  ------     --------------  -----  \n",
      " 0   Date       1304 non-null   object \n",
      " 1   Open       1304 non-null   float64\n",
      " 2   High       1304 non-null   float64\n",
      " 3   Low        1304 non-null   float64\n",
      " 4   Close      1304 non-null   float64\n",
      " 5   Adj Close  1304 non-null   float64\n",
      " 6   Volume     1304 non-null   float64\n",
      "dtypes: float64(6), object(1)\n",
      "memory usage: 81.5+ KB\n"
     ]
    }
   ],
   "source": [
    "#Dropping missing values \n",
    "data.dropna(axis = 0, how ='any', inplace = True)\n",
    "data.info()"
   ]
  },
  {
   "cell_type": "code",
   "execution_count": 6,
   "id": "ba4476c1",
   "metadata": {},
   "outputs": [],
   "source": [
    "#Drop the unwanted data\n",
    "data.drop(labels=['Adj Close', 'Volume', 'Open', 'High', 'Low'], axis = 1, inplace=True)"
   ]
  },
  {
   "cell_type": "code",
   "execution_count": 7,
   "id": "a3a4cc3b",
   "metadata": {},
   "outputs": [],
   "source": [
    "#rename columns \n",
    "data = data.rename(columns = {'Date': 'ds', 'Close':'y'})"
   ]
  },
  {
   "cell_type": "code",
   "execution_count": 8,
   "id": "e295d08a",
   "metadata": {},
   "outputs": [
    {
     "data": {
      "text/html": [
       "<div>\n",
       "<style scoped>\n",
       "    .dataframe tbody tr th:only-of-type {\n",
       "        vertical-align: middle;\n",
       "    }\n",
       "\n",
       "    .dataframe tbody tr th {\n",
       "        vertical-align: top;\n",
       "    }\n",
       "\n",
       "    .dataframe thead th {\n",
       "        text-align: right;\n",
       "    }\n",
       "</style>\n",
       "<table border=\"1\" class=\"dataframe\">\n",
       "  <thead>\n",
       "    <tr style=\"text-align: right;\">\n",
       "      <th></th>\n",
       "      <th>ds</th>\n",
       "      <th>y</th>\n",
       "    </tr>\n",
       "  </thead>\n",
       "  <tbody>\n",
       "    <tr>\n",
       "      <th>0</th>\n",
       "      <td>2017-11-22</td>\n",
       "      <td>0.782840</td>\n",
       "    </tr>\n",
       "    <tr>\n",
       "      <th>1</th>\n",
       "      <td>2017-11-23</td>\n",
       "      <td>0.787092</td>\n",
       "    </tr>\n",
       "    <tr>\n",
       "      <th>2</th>\n",
       "      <td>2017-11-24</td>\n",
       "      <td>0.786621</td>\n",
       "    </tr>\n",
       "    <tr>\n",
       "      <th>3</th>\n",
       "      <td>2017-11-27</td>\n",
       "      <td>0.786535</td>\n",
       "    </tr>\n",
       "    <tr>\n",
       "      <th>4</th>\n",
       "      <td>2017-11-28</td>\n",
       "      <td>0.783797</td>\n",
       "    </tr>\n",
       "    <tr>\n",
       "      <th>...</th>\n",
       "      <td>...</td>\n",
       "      <td>...</td>\n",
       "    </tr>\n",
       "    <tr>\n",
       "      <th>1300</th>\n",
       "      <td>2022-11-16</td>\n",
       "      <td>0.753381</td>\n",
       "    </tr>\n",
       "    <tr>\n",
       "      <th>1301</th>\n",
       "      <td>2022-11-17</td>\n",
       "      <td>0.749878</td>\n",
       "    </tr>\n",
       "    <tr>\n",
       "      <th>1302</th>\n",
       "      <td>2022-11-18</td>\n",
       "      <td>0.750672</td>\n",
       "    </tr>\n",
       "    <tr>\n",
       "      <th>1303</th>\n",
       "      <td>2022-11-21</td>\n",
       "      <td>0.747557</td>\n",
       "    </tr>\n",
       "    <tr>\n",
       "      <th>1304</th>\n",
       "      <td>2022-11-22</td>\n",
       "      <td>0.747641</td>\n",
       "    </tr>\n",
       "  </tbody>\n",
       "</table>\n",
       "<p>1304 rows × 2 columns</p>\n",
       "</div>"
      ],
      "text/plain": [
       "              ds         y\n",
       "0     2017-11-22  0.782840\n",
       "1     2017-11-23  0.787092\n",
       "2     2017-11-24  0.786621\n",
       "3     2017-11-27  0.786535\n",
       "4     2017-11-28  0.783797\n",
       "...          ...       ...\n",
       "1300  2022-11-16  0.753381\n",
       "1301  2022-11-17  0.749878\n",
       "1302  2022-11-18  0.750672\n",
       "1303  2022-11-21  0.747557\n",
       "1304  2022-11-22  0.747641\n",
       "\n",
       "[1304 rows x 2 columns]"
      ]
     },
     "execution_count": 8,
     "metadata": {},
     "output_type": "execute_result"
    }
   ],
   "source": [
    "data"
   ]
  },
  {
   "cell_type": "code",
   "execution_count": 9,
   "id": "608f2c30",
   "metadata": {},
   "outputs": [],
   "source": [
    "#Change the ds column to datetime object\n",
    "data['ds'] = pd.to_datetime(data['ds'])"
   ]
  },
  {
   "cell_type": "markdown",
   "id": "324e1f5e",
   "metadata": {},
   "source": [
    "## Train/Test Split"
   ]
  },
  {
   "cell_type": "code",
   "execution_count": 10,
   "id": "5a0acbf6",
   "metadata": {},
   "outputs": [],
   "source": [
    "#I want my model to be able to predict 6 months in advance but to add more safety net, I will use 9 months data for the test set\n",
    "train = data[:1124]\n",
    "test = data[1124:]"
   ]
  },
  {
   "cell_type": "code",
   "execution_count": 11,
   "id": "b3f694ec",
   "metadata": {},
   "outputs": [],
   "source": [
    "#Create the model\n",
    "model = Prophet()"
   ]
  },
  {
   "cell_type": "code",
   "execution_count": 12,
   "id": "02190826",
   "metadata": {},
   "outputs": [
    {
     "name": "stderr",
     "output_type": "stream",
     "text": [
      "23:15:12 - cmdstanpy - INFO - Chain [1] start processing\n",
      "23:15:13 - cmdstanpy - INFO - Chain [1] done processing\n"
     ]
    },
    {
     "data": {
      "text/plain": [
       "<prophet.forecaster.Prophet at 0x214d84d1700>"
      ]
     },
     "execution_count": 12,
     "metadata": {},
     "output_type": "execute_result"
    }
   ],
   "source": [
    "model.fit(train)"
   ]
  },
  {
   "cell_type": "code",
   "execution_count": 13,
   "id": "57c39c2a",
   "metadata": {},
   "outputs": [],
   "source": [
    "#make future dataframe\n",
    "future = model.make_future_dataframe(periods = 180, freq='B')"
   ]
  },
  {
   "cell_type": "code",
   "execution_count": 14,
   "id": "ac4d67b9",
   "metadata": {},
   "outputs": [],
   "source": [
    "forecast = model.predict(future)"
   ]
  },
  {
   "cell_type": "code",
   "execution_count": 15,
   "id": "17f26ca0",
   "metadata": {},
   "outputs": [
    {
     "data": {
      "text/html": [
       "<div>\n",
       "<style scoped>\n",
       "    .dataframe tbody tr th:only-of-type {\n",
       "        vertical-align: middle;\n",
       "    }\n",
       "\n",
       "    .dataframe tbody tr th {\n",
       "        vertical-align: top;\n",
       "    }\n",
       "\n",
       "    .dataframe thead th {\n",
       "        text-align: right;\n",
       "    }\n",
       "</style>\n",
       "<table border=\"1\" class=\"dataframe\">\n",
       "  <thead>\n",
       "    <tr style=\"text-align: right;\">\n",
       "      <th></th>\n",
       "      <th>ds</th>\n",
       "      <th>trend</th>\n",
       "      <th>yhat_lower</th>\n",
       "      <th>yhat_upper</th>\n",
       "      <th>trend_lower</th>\n",
       "      <th>trend_upper</th>\n",
       "      <th>additive_terms</th>\n",
       "      <th>additive_terms_lower</th>\n",
       "      <th>additive_terms_upper</th>\n",
       "      <th>weekly</th>\n",
       "      <th>weekly_lower</th>\n",
       "      <th>weekly_upper</th>\n",
       "      <th>yearly</th>\n",
       "      <th>yearly_lower</th>\n",
       "      <th>yearly_upper</th>\n",
       "      <th>multiplicative_terms</th>\n",
       "      <th>multiplicative_terms_lower</th>\n",
       "      <th>multiplicative_terms_upper</th>\n",
       "      <th>yhat</th>\n",
       "    </tr>\n",
       "  </thead>\n",
       "  <tbody>\n",
       "    <tr>\n",
       "      <th>0</th>\n",
       "      <td>2017-11-22</td>\n",
       "      <td>0.783085</td>\n",
       "      <td>0.774573</td>\n",
       "      <td>0.790709</td>\n",
       "      <td>0.783085</td>\n",
       "      <td>0.783085</td>\n",
       "      <td>-0.000477</td>\n",
       "      <td>-0.000477</td>\n",
       "      <td>-0.000477</td>\n",
       "      <td>0.000617</td>\n",
       "      <td>0.000617</td>\n",
       "      <td>0.000617</td>\n",
       "      <td>-0.001093</td>\n",
       "      <td>-0.001093</td>\n",
       "      <td>-0.001093</td>\n",
       "      <td>0.0</td>\n",
       "      <td>0.0</td>\n",
       "      <td>0.0</td>\n",
       "      <td>0.782609</td>\n",
       "    </tr>\n",
       "    <tr>\n",
       "      <th>1</th>\n",
       "      <td>2017-11-23</td>\n",
       "      <td>0.783199</td>\n",
       "      <td>0.774969</td>\n",
       "      <td>0.790898</td>\n",
       "      <td>0.783199</td>\n",
       "      <td>0.783199</td>\n",
       "      <td>-0.000257</td>\n",
       "      <td>-0.000257</td>\n",
       "      <td>-0.000257</td>\n",
       "      <td>0.000814</td>\n",
       "      <td>0.000814</td>\n",
       "      <td>0.000814</td>\n",
       "      <td>-0.001071</td>\n",
       "      <td>-0.001071</td>\n",
       "      <td>-0.001071</td>\n",
       "      <td>0.0</td>\n",
       "      <td>0.0</td>\n",
       "      <td>0.0</td>\n",
       "      <td>0.782942</td>\n",
       "    </tr>\n",
       "    <tr>\n",
       "      <th>2</th>\n",
       "      <td>2017-11-24</td>\n",
       "      <td>0.783313</td>\n",
       "      <td>0.774581</td>\n",
       "      <td>0.790994</td>\n",
       "      <td>0.783313</td>\n",
       "      <td>0.783313</td>\n",
       "      <td>-0.000366</td>\n",
       "      <td>-0.000366</td>\n",
       "      <td>-0.000366</td>\n",
       "      <td>0.000668</td>\n",
       "      <td>0.000668</td>\n",
       "      <td>0.000668</td>\n",
       "      <td>-0.001034</td>\n",
       "      <td>-0.001034</td>\n",
       "      <td>-0.001034</td>\n",
       "      <td>0.0</td>\n",
       "      <td>0.0</td>\n",
       "      <td>0.0</td>\n",
       "      <td>0.782946</td>\n",
       "    </tr>\n",
       "    <tr>\n",
       "      <th>3</th>\n",
       "      <td>2017-11-27</td>\n",
       "      <td>0.783653</td>\n",
       "      <td>0.775216</td>\n",
       "      <td>0.791794</td>\n",
       "      <td>0.783653</td>\n",
       "      <td>0.783653</td>\n",
       "      <td>-0.000220</td>\n",
       "      <td>-0.000220</td>\n",
       "      <td>-0.000220</td>\n",
       "      <td>0.000648</td>\n",
       "      <td>0.000648</td>\n",
       "      <td>0.000648</td>\n",
       "      <td>-0.000868</td>\n",
       "      <td>-0.000868</td>\n",
       "      <td>-0.000868</td>\n",
       "      <td>0.0</td>\n",
       "      <td>0.0</td>\n",
       "      <td>0.0</td>\n",
       "      <td>0.783433</td>\n",
       "    </tr>\n",
       "    <tr>\n",
       "      <th>4</th>\n",
       "      <td>2017-11-28</td>\n",
       "      <td>0.783767</td>\n",
       "      <td>0.776038</td>\n",
       "      <td>0.792156</td>\n",
       "      <td>0.783767</td>\n",
       "      <td>0.783767</td>\n",
       "      <td>-0.000006</td>\n",
       "      <td>-0.000006</td>\n",
       "      <td>-0.000006</td>\n",
       "      <td>0.000801</td>\n",
       "      <td>0.000801</td>\n",
       "      <td>0.000801</td>\n",
       "      <td>-0.000808</td>\n",
       "      <td>-0.000808</td>\n",
       "      <td>-0.000808</td>\n",
       "      <td>0.0</td>\n",
       "      <td>0.0</td>\n",
       "      <td>0.0</td>\n",
       "      <td>0.783760</td>\n",
       "    </tr>\n",
       "    <tr>\n",
       "      <th>...</th>\n",
       "      <td>...</td>\n",
       "      <td>...</td>\n",
       "      <td>...</td>\n",
       "      <td>...</td>\n",
       "      <td>...</td>\n",
       "      <td>...</td>\n",
       "      <td>...</td>\n",
       "      <td>...</td>\n",
       "      <td>...</td>\n",
       "      <td>...</td>\n",
       "      <td>...</td>\n",
       "      <td>...</td>\n",
       "      <td>...</td>\n",
       "      <td>...</td>\n",
       "      <td>...</td>\n",
       "      <td>...</td>\n",
       "      <td>...</td>\n",
       "      <td>...</td>\n",
       "      <td>...</td>\n",
       "    </tr>\n",
       "    <tr>\n",
       "      <th>1299</th>\n",
       "      <td>2022-11-16</td>\n",
       "      <td>0.744660</td>\n",
       "      <td>0.637697</td>\n",
       "      <td>0.851679</td>\n",
       "      <td>0.638156</td>\n",
       "      <td>0.850831</td>\n",
       "      <td>-0.000069</td>\n",
       "      <td>-0.000069</td>\n",
       "      <td>-0.000069</td>\n",
       "      <td>0.000617</td>\n",
       "      <td>0.000617</td>\n",
       "      <td>0.000617</td>\n",
       "      <td>-0.000686</td>\n",
       "      <td>-0.000686</td>\n",
       "      <td>-0.000686</td>\n",
       "      <td>0.0</td>\n",
       "      <td>0.0</td>\n",
       "      <td>0.0</td>\n",
       "      <td>0.744590</td>\n",
       "    </tr>\n",
       "    <tr>\n",
       "      <th>1300</th>\n",
       "      <td>2022-11-17</td>\n",
       "      <td>0.744533</td>\n",
       "      <td>0.636330</td>\n",
       "      <td>0.852243</td>\n",
       "      <td>0.637498</td>\n",
       "      <td>0.851991</td>\n",
       "      <td>-0.000012</td>\n",
       "      <td>-0.000012</td>\n",
       "      <td>-0.000012</td>\n",
       "      <td>0.000814</td>\n",
       "      <td>0.000814</td>\n",
       "      <td>0.000814</td>\n",
       "      <td>-0.000826</td>\n",
       "      <td>-0.000826</td>\n",
       "      <td>-0.000826</td>\n",
       "      <td>0.0</td>\n",
       "      <td>0.0</td>\n",
       "      <td>0.0</td>\n",
       "      <td>0.744521</td>\n",
       "    </tr>\n",
       "    <tr>\n",
       "      <th>1301</th>\n",
       "      <td>2022-11-18</td>\n",
       "      <td>0.744407</td>\n",
       "      <td>0.636292</td>\n",
       "      <td>0.852483</td>\n",
       "      <td>0.635976</td>\n",
       "      <td>0.853047</td>\n",
       "      <td>-0.000268</td>\n",
       "      <td>-0.000268</td>\n",
       "      <td>-0.000268</td>\n",
       "      <td>0.000668</td>\n",
       "      <td>0.000668</td>\n",
       "      <td>0.000668</td>\n",
       "      <td>-0.000936</td>\n",
       "      <td>-0.000936</td>\n",
       "      <td>-0.000936</td>\n",
       "      <td>0.0</td>\n",
       "      <td>0.0</td>\n",
       "      <td>0.0</td>\n",
       "      <td>0.744139</td>\n",
       "    </tr>\n",
       "    <tr>\n",
       "      <th>1302</th>\n",
       "      <td>2022-11-21</td>\n",
       "      <td>0.744028</td>\n",
       "      <td>0.631928</td>\n",
       "      <td>0.855724</td>\n",
       "      <td>0.633277</td>\n",
       "      <td>0.853394</td>\n",
       "      <td>-0.000445</td>\n",
       "      <td>-0.000445</td>\n",
       "      <td>-0.000445</td>\n",
       "      <td>0.000648</td>\n",
       "      <td>0.000648</td>\n",
       "      <td>0.000648</td>\n",
       "      <td>-0.001093</td>\n",
       "      <td>-0.001093</td>\n",
       "      <td>-0.001093</td>\n",
       "      <td>0.0</td>\n",
       "      <td>0.0</td>\n",
       "      <td>0.0</td>\n",
       "      <td>0.743583</td>\n",
       "    </tr>\n",
       "    <tr>\n",
       "      <th>1303</th>\n",
       "      <td>2022-11-22</td>\n",
       "      <td>0.743902</td>\n",
       "      <td>0.631306</td>\n",
       "      <td>0.853878</td>\n",
       "      <td>0.632375</td>\n",
       "      <td>0.853994</td>\n",
       "      <td>-0.000294</td>\n",
       "      <td>-0.000294</td>\n",
       "      <td>-0.000294</td>\n",
       "      <td>0.000801</td>\n",
       "      <td>0.000801</td>\n",
       "      <td>0.000801</td>\n",
       "      <td>-0.001096</td>\n",
       "      <td>-0.001096</td>\n",
       "      <td>-0.001096</td>\n",
       "      <td>0.0</td>\n",
       "      <td>0.0</td>\n",
       "      <td>0.0</td>\n",
       "      <td>0.743607</td>\n",
       "    </tr>\n",
       "  </tbody>\n",
       "</table>\n",
       "<p>1304 rows × 19 columns</p>\n",
       "</div>"
      ],
      "text/plain": [
       "             ds     trend  yhat_lower  yhat_upper  trend_lower  trend_upper  \\\n",
       "0    2017-11-22  0.783085    0.774573    0.790709     0.783085     0.783085   \n",
       "1    2017-11-23  0.783199    0.774969    0.790898     0.783199     0.783199   \n",
       "2    2017-11-24  0.783313    0.774581    0.790994     0.783313     0.783313   \n",
       "3    2017-11-27  0.783653    0.775216    0.791794     0.783653     0.783653   \n",
       "4    2017-11-28  0.783767    0.776038    0.792156     0.783767     0.783767   \n",
       "...         ...       ...         ...         ...          ...          ...   \n",
       "1299 2022-11-16  0.744660    0.637697    0.851679     0.638156     0.850831   \n",
       "1300 2022-11-17  0.744533    0.636330    0.852243     0.637498     0.851991   \n",
       "1301 2022-11-18  0.744407    0.636292    0.852483     0.635976     0.853047   \n",
       "1302 2022-11-21  0.744028    0.631928    0.855724     0.633277     0.853394   \n",
       "1303 2022-11-22  0.743902    0.631306    0.853878     0.632375     0.853994   \n",
       "\n",
       "      additive_terms  additive_terms_lower  additive_terms_upper    weekly  \\\n",
       "0          -0.000477             -0.000477             -0.000477  0.000617   \n",
       "1          -0.000257             -0.000257             -0.000257  0.000814   \n",
       "2          -0.000366             -0.000366             -0.000366  0.000668   \n",
       "3          -0.000220             -0.000220             -0.000220  0.000648   \n",
       "4          -0.000006             -0.000006             -0.000006  0.000801   \n",
       "...              ...                   ...                   ...       ...   \n",
       "1299       -0.000069             -0.000069             -0.000069  0.000617   \n",
       "1300       -0.000012             -0.000012             -0.000012  0.000814   \n",
       "1301       -0.000268             -0.000268             -0.000268  0.000668   \n",
       "1302       -0.000445             -0.000445             -0.000445  0.000648   \n",
       "1303       -0.000294             -0.000294             -0.000294  0.000801   \n",
       "\n",
       "      weekly_lower  weekly_upper    yearly  yearly_lower  yearly_upper  \\\n",
       "0         0.000617      0.000617 -0.001093     -0.001093     -0.001093   \n",
       "1         0.000814      0.000814 -0.001071     -0.001071     -0.001071   \n",
       "2         0.000668      0.000668 -0.001034     -0.001034     -0.001034   \n",
       "3         0.000648      0.000648 -0.000868     -0.000868     -0.000868   \n",
       "4         0.000801      0.000801 -0.000808     -0.000808     -0.000808   \n",
       "...            ...           ...       ...           ...           ...   \n",
       "1299      0.000617      0.000617 -0.000686     -0.000686     -0.000686   \n",
       "1300      0.000814      0.000814 -0.000826     -0.000826     -0.000826   \n",
       "1301      0.000668      0.000668 -0.000936     -0.000936     -0.000936   \n",
       "1302      0.000648      0.000648 -0.001093     -0.001093     -0.001093   \n",
       "1303      0.000801      0.000801 -0.001096     -0.001096     -0.001096   \n",
       "\n",
       "      multiplicative_terms  multiplicative_terms_lower  \\\n",
       "0                      0.0                         0.0   \n",
       "1                      0.0                         0.0   \n",
       "2                      0.0                         0.0   \n",
       "3                      0.0                         0.0   \n",
       "4                      0.0                         0.0   \n",
       "...                    ...                         ...   \n",
       "1299                   0.0                         0.0   \n",
       "1300                   0.0                         0.0   \n",
       "1301                   0.0                         0.0   \n",
       "1302                   0.0                         0.0   \n",
       "1303                   0.0                         0.0   \n",
       "\n",
       "      multiplicative_terms_upper      yhat  \n",
       "0                            0.0  0.782609  \n",
       "1                            0.0  0.782942  \n",
       "2                            0.0  0.782946  \n",
       "3                            0.0  0.783433  \n",
       "4                            0.0  0.783760  \n",
       "...                          ...       ...  \n",
       "1299                         0.0  0.744590  \n",
       "1300                         0.0  0.744521  \n",
       "1301                         0.0  0.744139  \n",
       "1302                         0.0  0.743583  \n",
       "1303                         0.0  0.743607  \n",
       "\n",
       "[1304 rows x 19 columns]"
      ]
     },
     "execution_count": 15,
     "metadata": {},
     "output_type": "execute_result"
    }
   ],
   "source": [
    "forecast"
   ]
  },
  {
   "cell_type": "code",
   "execution_count": 16,
   "id": "3232e2a1",
   "metadata": {},
   "outputs": [],
   "source": [
    "predictions = forecast.iloc[-180:]"
   ]
  },
  {
   "cell_type": "code",
   "execution_count": 26,
   "id": "7a3f9e6a",
   "metadata": {},
   "outputs": [],
   "source": [
    "pred = list(predictions['ds'])"
   ]
  },
  {
   "cell_type": "code",
   "execution_count": 27,
   "id": "2a288735",
   "metadata": {},
   "outputs": [
    {
     "data": {
      "text/plain": [
       "pandas._libs.tslibs.timestamps.Timestamp"
      ]
     },
     "execution_count": 27,
     "metadata": {},
     "output_type": "execute_result"
    }
   ],
   "source": [
    "type(pred[0])"
   ]
  },
  {
   "cell_type": "code",
   "execution_count": 15,
   "id": "60097803",
   "metadata": {},
   "outputs": [
    {
     "data": {
      "text/plain": [
       "<AxesSubplot:xlabel='ds'>"
      ]
     },
     "execution_count": 15,
     "metadata": {},
     "output_type": "execute_result"
    },
    {
     "data": {
      "image/png": "[encoded data removed]",
      "text/plain": [
       "<Figure size 1200x800 with 1 Axes>"
      ]
     },
     "metadata": {},
     "output_type": "display_data"
    }
   ],
   "source": [
    "ax = forecast.plot(x='ds', y = 'yhat', label='Predictions', legend=True, figsize=(12,8))\n",
    "test.plot(x='ds', y='y', label ='True Test data', legend=True, ax=ax, xlim = ('2022-03-15','2022-11-22'))"
   ]
  },
  {
   "cell_type": "code",
   "execution_count": 16,
   "id": "ea79de8a",
   "metadata": {},
   "outputs": [
    {
     "data": {
      "text/plain": [
       "1124    0.770164\n",
       "1125    0.769607\n",
       "1126    0.768783\n",
       "1127    0.767233\n",
       "1128    0.767053\n",
       "          ...   \n",
       "1299    0.744590\n",
       "1300    0.744521\n",
       "1301    0.744139\n",
       "1302    0.743583\n",
       "1303    0.743607\n",
       "Name: yhat, Length: 180, dtype: float64"
      ]
     },
     "execution_count": 16,
     "metadata": {},
     "output_type": "execute_result"
    }
   ],
   "source": [
    "#calculate RMSE\n",
    "predictions = forecast.iloc[-180:]['yhat']\n",
    "predictions"
   ]
  },
  {
   "cell_type": "code",
   "execution_count": 17,
   "id": "5d613511",
   "metadata": {},
   "outputs": [
    {
     "data": {
      "text/plain": [
       "0.01863211618564846"
      ]
     },
     "execution_count": 17,
     "metadata": {},
     "output_type": "execute_result"
    }
   ],
   "source": [
    "rmse(test['y'], predictions)"
   ]
  },
  {
   "cell_type": "code",
   "execution_count": 18,
   "id": "4dedc00e",
   "metadata": {},
   "outputs": [
    {
     "name": "stderr",
     "output_type": "stream",
     "text": [
      "22:58:36 - cmdstanpy - INFO - Chain [1] start processing\n",
      "22:58:37 - cmdstanpy - INFO - Chain [1] done processing\n"
     ]
    }
   ],
   "source": [
    "##Fit the model on the full data\n",
    "final_model = Prophet().fit(data)"
   ]
  },
  {
   "cell_type": "code",
   "execution_count": 19,
   "id": "2862a93e",
   "metadata": {},
   "outputs": [],
   "source": [
    "##Test to forecast the future\n",
    "prices = final_model.make_future_dataframe(periods = 180, freq='B')"
   ]
  },
  {
   "cell_type": "code",
   "execution_count": 20,
   "id": "b7a7f772",
   "metadata": {},
   "outputs": [],
   "source": [
    "forecast = final_model.predict(prices)"
   ]
  },
  {
   "cell_type": "code",
   "execution_count": 22,
   "id": "7199658f",
   "metadata": {},
   "outputs": [
    {
     "data": {
      "text/plain": [
       "1304    0.732185\n",
       "1305    0.732007\n",
       "1306    0.731460\n",
       "1307    0.730321\n",
       "1308    0.730128\n",
       "          ...   \n",
       "1479    0.712271\n",
       "1480    0.712353\n",
       "1481    0.712039\n",
       "1482    0.711448\n",
       "1483    0.711394\n",
       "Name: yhat, Length: 180, dtype: float64"
      ]
     },
     "execution_count": 22,
     "metadata": {},
     "output_type": "execute_result"
    }
   ],
   "source": [
    "forecast.iloc[-180:]['yhat']"
   ]
  },
  {
   "cell_type": "code",
   "execution_count": 25,
   "id": "d38d0be6",
   "metadata": {},
   "outputs": [
    {
     "data": {
      "text/plain": [
       "0      2017-11-22\n",
       "1      2017-11-23\n",
       "2      2017-11-24\n",
       "3      2017-11-27\n",
       "4      2017-11-28\n",
       "          ...    \n",
       "1479   2023-07-26\n",
       "1480   2023-07-27\n",
       "1481   2023-07-28\n",
       "1482   2023-07-31\n",
       "1483   2023-08-01\n",
       "Name: ds, Length: 1484, dtype: datetime64[ns]"
      ]
     },
     "execution_count": 25,
     "metadata": {},
     "output_type": "execute_result"
    }
   ],
   "source": [
    "forecast['ds']"
   ]
  },
  {
   "cell_type": "code",
   "execution_count": 23,
   "id": "0ffe18b5",
   "metadata": {},
   "outputs": [
    {
     "data": {
      "text/plain": [
       "<matplotlib.lines.Line2D at 0x28e6defffd0>"
      ]
     },
     "execution_count": 23,
     "metadata": {},
     "output_type": "execute_result"
    },
    {
     "data": {
      "image/png": "[encoded data removed]",
      "text/plain": [
       "<Figure size 1200x800 with 1 Axes>"
      ]
     },
     "metadata": {},
     "output_type": "display_data"
    }
   ],
   "source": [
    "ax = forecast.plot(x='ds', y = 'yhat', label='Predictions', legend=True, figsize=(12,8))\n",
    "ax.axvline(x= '2022-11-21', c='r', ls='--' )"
   ]
  },
  {
   "cell_type": "code",
   "execution_count": 36,
   "id": "4bd0ca22",
   "metadata": {},
   "outputs": [
    {
     "data": {
      "text/plain": [
       "['forecast_cadusd.joblib']"
      ]
     },
     "execution_count": 36,
     "metadata": {},
     "output_type": "execute_result"
    }
   ],
   "source": [
    "#persist the model with joblib\n",
    "joblib.dump(final_model, 'forecast_cadusd.joblib') "
   ]
  },
  {
   "cell_type": "markdown",
   "id": "e51aa6ac",
   "metadata": {},
   "source": [
    "So how do I make this product code???\n",
    "\n",
    "1. ApparentlyI have to create a directory for the model package"
   ]
  },
  {
   "cell_type": "code",
   "execution_count": null,
   "id": "42ef89c7",
   "metadata": {},
   "outputs": [],
   "source": []
  }
 ],
 "metadata": {
  "kernelspec": {
   "display_name": "Python 3 (ipykernel)",
   "language": "python",
   "name": "python3"
  },
  "language_info": {
   "codemirror_mode": {
    "name": "ipython",
    "version": 3
   },
   "file_extension": ".py",
   "mimetype": "text/x-python",
   "name": "python",
   "nbconvert_exporter": "python",
   "pygments_lexer": "ipython3",
   "version": "3.9.13"
  }
 },
 "nbformat": 4,
 "nbformat_minor": 5
}
