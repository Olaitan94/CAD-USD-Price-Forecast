{
 "cells": [
  {
   "cell_type": "markdown",
   "id": "ec5932c2",
   "metadata": {},
   "source": [
    "# Forecasting the Price & Trend of CAD-USD Exchange based on historical Data "
   ]
  },
  {
   "cell_type": "markdown",
   "id": "7177a377",
   "metadata": {},
   "source": [
    "In the previous notebook (\"CAD-USD Price - Part 1 - Analysis\"), I cleaned & analysed historic data (Nov 21, 2017 to Nov 21, 2022) on CAD-USD price. The analysis involved ETS Decomposition as well as Holt-Winters methods to identify if there is any Trend or seasonality in the data.\n",
    "\n",
    "In this section, I will use the same dataset to predict future prices using a variety of Forecasting Models. At the end, the performance of each of the models will be evaluated. "
   ]
  },
  {
   "cell_type": "markdown",
   "id": "d54e1e92",
   "metadata": {},
   "source": [
    "### Goal\n",
    "\n",
    "Since I am dealing with exchange prices, this can be very tricky to predict as it's dependent on several other factors apart from time. \n",
    "So I will attempt the forecast the price & the future trend "
   ]
  },
  {
   "cell_type": "markdown",
   "id": "f023dfb8",
   "metadata": {},
   "source": [
    "### Importing Libraries"
   ]
  },
  {
   "cell_type": "code",
   "execution_count": 3,
   "id": "158ccfd2",
   "metadata": {},
   "outputs": [],
   "source": [
    "import numpy as np\n",
    "import pandas as pd\n",
    "from matplotlib import pyplot as plt\n",
    "from matplotlib import dates \n",
    "from statsmodels.tsa.filters.hp_filter import hpfilter\n",
    "from statsmodels.tsa.seasonal import seasonal_decompose\n",
    "from statsmodels.tsa.holtwinters import ExponentialSmoothing\n",
    "from sklearn.metrics import mean_squared_error, mean_absolute_error"
   ]
  },
  {
   "cell_type": "markdown",
   "id": "65496c14",
   "metadata": {},
   "source": [
    "### Dataset"
   ]
  },
  {
   "cell_type": "markdown",
   "id": "45b6e920",
   "metadata": {},
   "source": [
    "I will use the data on daily CAD/USD conversion rates from November 21, 2017 - November 21, 2022 from Yahoo finance\n"
   ]
  },
  {
   "cell_type": "code",
   "execution_count": 660,
   "id": "6edf6a38",
   "metadata": {},
   "outputs": [
    {
     "data": {
      "text/html": [
       "<div>\n",
       "<style scoped>\n",
       "    .dataframe tbody tr th:only-of-type {\n",
       "        vertical-align: middle;\n",
       "    }\n",
       "\n",
       "    .dataframe tbody tr th {\n",
       "        vertical-align: top;\n",
       "    }\n",
       "\n",
       "    .dataframe thead th {\n",
       "        text-align: right;\n",
       "    }\n",
       "</style>\n",
       "<table border=\"1\" class=\"dataframe\">\n",
       "  <thead>\n",
       "    <tr style=\"text-align: right;\">\n",
       "      <th></th>\n",
       "      <th>Date</th>\n",
       "      <th>Open</th>\n",
       "      <th>High</th>\n",
       "      <th>Low</th>\n",
       "      <th>Close</th>\n",
       "      <th>Adj Close</th>\n",
       "      <th>Volume</th>\n",
       "    </tr>\n",
       "  </thead>\n",
       "  <tbody>\n",
       "    <tr>\n",
       "      <th>0</th>\n",
       "      <td>2017-11-22</td>\n",
       "      <td>0.782963</td>\n",
       "      <td>0.786411</td>\n",
       "      <td>0.782791</td>\n",
       "      <td>0.782840</td>\n",
       "      <td>0.782840</td>\n",
       "      <td>0.0</td>\n",
       "    </tr>\n",
       "    <tr>\n",
       "      <th>1</th>\n",
       "      <td>2017-11-23</td>\n",
       "      <td>0.786999</td>\n",
       "      <td>0.789204</td>\n",
       "      <td>0.785960</td>\n",
       "      <td>0.787092</td>\n",
       "      <td>0.787092</td>\n",
       "      <td>0.0</td>\n",
       "    </tr>\n",
       "    <tr>\n",
       "      <th>2</th>\n",
       "      <td>2017-11-24</td>\n",
       "      <td>0.786596</td>\n",
       "      <td>0.787836</td>\n",
       "      <td>0.784560</td>\n",
       "      <td>0.786621</td>\n",
       "      <td>0.786621</td>\n",
       "      <td>0.0</td>\n",
       "    </tr>\n",
       "    <tr>\n",
       "      <th>3</th>\n",
       "      <td>2017-11-27</td>\n",
       "      <td>0.786559</td>\n",
       "      <td>0.788706</td>\n",
       "      <td>0.784252</td>\n",
       "      <td>0.786535</td>\n",
       "      <td>0.786535</td>\n",
       "      <td>0.0</td>\n",
       "    </tr>\n",
       "    <tr>\n",
       "      <th>4</th>\n",
       "      <td>2017-11-28</td>\n",
       "      <td>0.783816</td>\n",
       "      <td>0.784191</td>\n",
       "      <td>0.779818</td>\n",
       "      <td>0.783797</td>\n",
       "      <td>0.783797</td>\n",
       "      <td>0.0</td>\n",
       "    </tr>\n",
       "  </tbody>\n",
       "</table>\n",
       "</div>"
      ],
      "text/plain": [
       "         Date      Open      High       Low     Close  Adj Close  Volume\n",
       "0  2017-11-22  0.782963  0.786411  0.782791  0.782840   0.782840     0.0\n",
       "1  2017-11-23  0.786999  0.789204  0.785960  0.787092   0.787092     0.0\n",
       "2  2017-11-24  0.786596  0.787836  0.784560  0.786621   0.786621     0.0\n",
       "3  2017-11-27  0.786559  0.788706  0.784252  0.786535   0.786535     0.0\n",
       "4  2017-11-28  0.783816  0.784191  0.779818  0.783797   0.783797     0.0"
      ]
     },
     "execution_count": 660,
     "metadata": {},
     "output_type": "execute_result"
    }
   ],
   "source": [
    "data = pd.read_csv(r'C:\\Users\\olalawal\\Downloads\\CADUSD.csv')\n",
    "data.head()"
   ]
  },
  {
   "cell_type": "markdown",
   "id": "c71cf2d4",
   "metadata": {},
   "source": [
    "### Data Cleaning"
   ]
  },
  {
   "cell_type": "markdown",
   "id": "ff8034fe",
   "metadata": {},
   "source": [
    "From the analysis in Part 1, we already discovered there were some unwanted columns & NAN entries, so we will remove them"
   ]
  },
  {
   "cell_type": "code",
   "execution_count": 661,
   "id": "56fb249f",
   "metadata": {},
   "outputs": [
    {
     "data": {
      "text/plain": [
       "DatetimeIndex(['2017-11-22', '2017-11-23', '2017-11-24', '2017-11-27',\n",
       "               '2017-11-28', '2017-11-29', '2017-11-30', '2017-12-01',\n",
       "               '2017-12-04', '2017-12-05',\n",
       "               ...\n",
       "               '2022-11-09', '2022-11-10', '2022-11-11', '2022-11-14',\n",
       "               '2022-11-15', '2022-11-16', '2022-11-17', '2022-11-18',\n",
       "               '2022-11-21', '2022-11-22'],\n",
       "              dtype='datetime64[ns]', name='Date', length=1305, freq='B')"
      ]
     },
     "execution_count": 661,
     "metadata": {},
     "output_type": "execute_result"
    }
   ],
   "source": [
    "data['Date'] = pd.to_datetime(data['Date'])\n",
    "\n",
    "data.set_index('Date', drop=True, inplace=True)\n",
    "# We will use a business day frequency since we only have prices from Monday to Friday\n",
    "data.index.freq='B'\n",
    "data.index"
   ]
  },
  {
   "cell_type": "code",
   "execution_count": 662,
   "id": "ac4e574c",
   "metadata": {},
   "outputs": [
    {
     "data": {
      "text/plain": [
       "(1304, 4)"
      ]
     },
     "execution_count": 662,
     "metadata": {},
     "output_type": "execute_result"
    }
   ],
   "source": [
    "data.drop(labels=['Adj Close', 'Volume'], axis = 1, inplace=True)\n",
    "data.dropna(axis =0, how = 'any', inplace=True)\n",
    "data.shape"
   ]
  },
  {
   "cell_type": "code",
   "execution_count": 663,
   "id": "24b6a9cd",
   "metadata": {},
   "outputs": [
    {
     "data": {
      "text/plain": [
       "DatetimeIndex(['2017-11-22', '2017-11-23', '2017-11-24', '2017-11-27',\n",
       "               '2017-11-28', '2017-11-29', '2017-11-30', '2017-12-01',\n",
       "               '2017-12-04', '2017-12-05',\n",
       "               ...\n",
       "               '2022-11-09', '2022-11-10', '2022-11-11', '2022-11-14',\n",
       "               '2022-11-15', '2022-11-16', '2022-11-17', '2022-11-18',\n",
       "               '2022-11-21', '2022-11-22'],\n",
       "              dtype='datetime64[ns]', name='Date', length=1304, freq=None)"
      ]
     },
     "execution_count": 663,
     "metadata": {},
     "output_type": "execute_result"
    }
   ],
   "source": [
    "data.index"
   ]
  },
  {
   "cell_type": "code",
   "execution_count": 664,
   "id": "c9fe9ac4",
   "metadata": {},
   "outputs": [],
   "source": [
    "#The freq has been reverted to None. Dont know how to deal with this \n",
    "data.index=data.index.to_period('B')"
   ]
  },
  {
   "cell_type": "code",
   "execution_count": 665,
   "id": "f67656b3",
   "metadata": {},
   "outputs": [
    {
     "data": {
      "text/plain": [
       "PeriodIndex(['2017-11-22', '2017-11-23', '2017-11-24', '2017-11-27',\n",
       "             '2017-11-28', '2017-11-29', '2017-11-30', '2017-12-01',\n",
       "             '2017-12-04', '2017-12-05',\n",
       "             ...\n",
       "             '2022-11-09', '2022-11-10', '2022-11-11', '2022-11-14',\n",
       "             '2022-11-15', '2022-11-16', '2022-11-17', '2022-11-18',\n",
       "             '2022-11-21', '2022-11-22'],\n",
       "            dtype='period[B]', name='Date', length=1304)"
      ]
     },
     "execution_count": 665,
     "metadata": {},
     "output_type": "execute_result"
    }
   ],
   "source": [
    "data.index"
   ]
  },
  {
   "cell_type": "markdown",
   "id": "07f18e2c",
   "metadata": {},
   "source": [
    "### Train/Test Split"
   ]
  },
  {
   "cell_type": "markdown",
   "id": "93c9f28e",
   "metadata": {},
   "source": [
    "I want the model to be able to forecast prices within 6 months into the future, so my test set should have data for at least 6 months after the train set.\n",
    "so for the train set: I will select approximately the last 9 months in the dataset (20 business days in a month for 9 months is 180)"
   ]
  },
  {
   "cell_type": "code",
   "execution_count": 666,
   "id": "144d39fd",
   "metadata": {},
   "outputs": [
    {
     "data": {
      "text/plain": [
       "<BusinessDay>"
      ]
     },
     "execution_count": 666,
     "metadata": {},
     "output_type": "execute_result"
    }
   ],
   "source": [
    "train_set = data[:1124]\n",
    "test_set = data[1124:]\n",
    "test_set.index.freq "
   ]
  },
  {
   "cell_type": "markdown",
   "id": "b7700157",
   "metadata": {},
   "source": [
    "### Implementing different Models"
   ]
  },
  {
   "cell_type": "markdown",
   "id": "6fbf405f",
   "metadata": {},
   "source": [
    "### Model 1 - Holt-Winters Triple Exponential Smoothing "
   ]
  },
  {
   "cell_type": "markdown",
   "id": "cb221864",
   "metadata": {},
   "source": [
    "The Holt-Winters Triple ES can be used to model data that has both trends & seasonality\n",
    "\n",
    "From the analysis in part 1, I saw that the data has trends and a little bit of seasonality (although, not a lot)\n",
    "\n",
    "After carefully analysing the seasonality plot from the ETS decomposition, I'll say the data has some monthly seasonality\n",
    "\n",
    "However I will use 3 different values for seasonal periods:\n",
    "- 5 business days for weekly cycle\n",
    "- 20 business days in a monthly cycle\n",
    "- 260 for year"
   ]
  },
  {
   "cell_type": "code",
   "execution_count": 667,
   "id": "2674fba1",
   "metadata": {},
   "outputs": [],
   "source": [
    "#Using a seasonal period of 260 (5 business days in a week & 52 weeks in a year)\n",
    "\n",
    "\n",
    "fitted_model_weekly = ExponentialSmoothing(train_set['Close'], trend ='add', seasonal = 'add', seasonal_periods=5).fit()\n",
    "fitted_model_monthly = ExponentialSmoothing(train_set['Close'], trend ='add', seasonal = 'add', seasonal_periods=20).fit()\n",
    "fitted_model_annual = ExponentialSmoothing(train_set['Close'], trend ='add', seasonal = 'add', seasonal_periods=260).fit()\n",
    "predicted_prices_week = fitted_model_weekly.forecast(180) #Using 180 because thats the amount of data points that we want to forecast (just like the data set )\n",
    "predicted_prices_month = fitted_model_monthly.forecast(180)\n",
    "predicted_prices_annual = fitted_model_annual.forecast(180)"
   ]
  },
  {
   "cell_type": "markdown",
   "id": "e4e16bd2",
   "metadata": {},
   "source": [
    "#### Evaluating Model 1 - Holt-Winters Triple Exponential Smoothing "
   ]
  },
  {
   "cell_type": "markdown",
   "id": "3bcd646d",
   "metadata": {},
   "source": [
    "Now let's see how the model performed by plotting the result & calculating the RMSE for each model "
   ]
  },
  {
   "cell_type": "code",
   "execution_count": 668,
   "id": "5cac6026",
   "metadata": {},
   "outputs": [
    {
     "data": {
      "text/plain": [
       "<AxesSubplot:xlabel='Date'>"
      ]
     },
     "execution_count": 668,
     "metadata": {},
     "output_type": "execute_result"
    },
    {
     "data": {
      "image/png": "[encoded data removed]",
      "text/plain": [
       "<Figure size 864x360 with 1 Axes>"
      ]
     },
     "metadata": {
      "needs_background": "light"
     },
     "output_type": "display_data"
    }
   ],
   "source": [
    "train_set['Close'].plot(legend = True, label = 'TRAIN SET', figsize = (12,5))\n",
    "test_set['Close'].plot(legend = True, label = 'TEST SET')\n",
    "predicted_prices_week.plot(legend = True, label = 'Predicted Prices - Weekly Seasonality')\n",
    "predicted_prices_month.plot(legend = True, label = 'Predicted Prices - Monthly Seasonality')\n",
    "predicted_prices_annual.plot(legend = True, label = 'Predicted Prices - Annual Seasonality')"
   ]
  },
  {
   "cell_type": "code",
   "execution_count": 669,
   "id": "72035e74",
   "metadata": {},
   "outputs": [
    {
     "data": {
      "text/plain": [
       "<AxesSubplot:xlabel='Date'>"
      ]
     },
     "execution_count": 669,
     "metadata": {},
     "output_type": "execute_result"
    },
    {
     "data": {
      "image/png": "[encoded data removed]",
      "text/plain": [
       "<Figure size 432x288 with 1 Axes>"
      ]
     },
     "metadata": {
      "needs_background": "light"
     },
     "output_type": "display_data"
    }
   ],
   "source": [
    "test_set['Close'].plot(legend = True, label = 'TEST SET')\n",
    "predicted_prices_week.plot(legend = True, label = 'Predicted Prices - Weekly Seasonality')\n",
    "predicted_prices_month.plot(legend = True, label = 'Predicted Prices - Monthly Seasonality')\n",
    "predicted_prices_annual.plot(legend = True, label = 'Predicted Prices - Annual Seasonality')"
   ]
  },
  {
   "cell_type": "markdown",
   "id": "42329422",
   "metadata": {},
   "source": [
    "### Evaluate Model 1- Holt-Winters ET model"
   ]
  },
  {
   "cell_type": "markdown",
   "id": "ab5e0159",
   "metadata": {},
   "source": [
    "### Calculate RMSE "
   ]
  },
  {
   "cell_type": "code",
   "execution_count": 670,
   "id": "469c22fe",
   "metadata": {},
   "outputs": [
    {
     "name": "stdout",
     "output_type": "stream",
     "text": [
      "The RMSE for the Holt-Winters ET model with weekly seasonality is 0.024502088350959086\n",
      "The RMSE for the Holt-Winters ET model with monthly seasonality is 0.02410175027437978\n",
      "The RMSE for the Holt-Winters ET model with weekly seasonality is 0.03380904834072822\n"
     ]
    }
   ],
   "source": [
    "#The rmse for the weekly seasnonality model \n",
    "rmse_weekly = mean_squared_error(test_set['Close'],predicted_prices_week, squared=False )\n",
    "\n",
    "#The rmse for the monthly seasonality model \n",
    "rmse_monthly = mean_squared_error(test_set['Close'],predicted_prices_month, squared=False )\n",
    "\n",
    "#The rmse for the annual seasonality model \n",
    "rmse_annual = mean_squared_error(test_set['Close'],predicted_prices_annual, squared=False )\n",
    "\n",
    "print(f'The RMSE for the Holt-Winters ET model with weekly seasonality is {rmse_weekly}')\n",
    "print(f'The RMSE for the Holt-Winters ET model with monthly seasonality is {rmse_monthly}')\n",
    "print(f'The RMSE for the Holt-Winters ET model with weekly seasonality is {rmse_annual}')"
   ]
  },
  {
   "cell_type": "code",
   "execution_count": 671,
   "id": "1adf26e0",
   "metadata": {},
   "outputs": [
    {
     "data": {
      "text/plain": [
       "count    180.000000\n",
       "mean       0.768410\n",
       "std        0.021806\n",
       "min        0.721761\n",
       "25%        0.754429\n",
       "50%        0.773500\n",
       "75%        0.782154\n",
       "max        0.801134\n",
       "Name: Close, dtype: float64"
      ]
     },
     "execution_count": 671,
     "metadata": {},
     "output_type": "execute_result"
    }
   ],
   "source": [
    "test_set['Close'].describe()"
   ]
  },
  {
   "cell_type": "markdown",
   "id": "b02e540a",
   "metadata": {},
   "source": [
    "### How did the Models perform?"
   ]
  },
  {
   "cell_type": "markdown",
   "id": "5fc7f557",
   "metadata": {},
   "source": [
    "**Which seasonality period gave the best performance?**\n",
    "   - The model with the monthly seasonality period gave the best performance, This is not surprising as the ETS decomposition already gave an idea that there is a bit of monthly seasonality in the data"
   ]
  },
  {
   "cell_type": "markdown",
   "id": "9e65ea16",
   "metadata": {},
   "source": [
    "**Is the RMSE good or bad?**\n",
    "  - The relative RMSE (RMSE/mean of the dataset) = 0.031 (about 3%)\n",
    "  - The RMSE is greater than the SD of the dataset\n",
    "  \n",
    " My conclusion is that the RMSE is not so good "
   ]
  },
  {
   "cell_type": "markdown",
   "id": "429302d9",
   "metadata": {},
   "source": [
    "**Was the model able to predict the future trend? i.e prices stable, increasing or decreasing**\n",
    "   - The three models were not able to correctly predict the future trends. Infact two of the models predicted the prices being relatively stable for the period and we can see that was not the case "
   ]
  },
  {
   "cell_type": "markdown",
   "id": "e5412959",
   "metadata": {},
   "source": [
    "### Conclusion & Recommendation\n",
    "\n",
    "This Holt-Winters ET model didnt correctly predict the price or the future trend. This could be because this kind of data (CAD/USD exhange prices) depends on a lot more factors rather than the time stamp.\n",
    "I'll try other models to see if they will give better performance"
   ]
  },
  {
   "cell_type": "markdown",
   "id": "1448e0d4",
   "metadata": {},
   "source": [
    "#### Model 2 - Auto Regression Model"
   ]
  },
  {
   "cell_type": "markdown",
   "id": "462947a2",
   "metadata": {},
   "source": [
    "AR - Just like regression but the parameters is the time series data with lags. \n",
    "So parameter one can be the time series itself with one lag backwards.\n",
    "The order of the AR model is the no of lags used. So in the example above, the order is 1.\n",
    "The more order you use, the better performance but it will reach a stage when performance starts to decline. So this is why you need to select the optimal order to use."
   ]
  },
  {
   "cell_type": "code",
   "execution_count": 672,
   "id": "1f94ebc9",
   "metadata": {},
   "outputs": [],
   "source": [
    "from statsmodels.tsa.ar_model import AutoReg,ARResults"
   ]
  },
  {
   "cell_type": "code",
   "execution_count": 673,
   "id": "7956ce34",
   "metadata": {},
   "outputs": [
    {
     "data": {
      "text/plain": [
       "<AxesSubplot:xlabel='Date'>"
      ]
     },
     "execution_count": 673,
     "metadata": {},
     "output_type": "execute_result"
    },
    {
     "data": {
      "image/png": "[encoded data removed]",
      "text/plain": [
       "<Figure size 432x288 with 1 Axes>"
      ]
     },
     "metadata": {
      "needs_background": "light"
     },
     "output_type": "display_data"
    }
   ],
   "source": [
    "data['Close'].plot()"
   ]
  },
  {
   "cell_type": "markdown",
   "id": "42013c99",
   "metadata": {},
   "source": [
    "Seeing the way my data is right now, AR model will most likely not perform well since there isnt a clear linearity. But let me find out!"
   ]
  },
  {
   "cell_type": "code",
   "execution_count": 674,
   "id": "b3842a18",
   "metadata": {},
   "outputs": [],
   "source": [
    "import warnings\n",
    "warnings.filterwarnings('ignore')"
   ]
  },
  {
   "cell_type": "markdown",
   "id": "518a78f7",
   "metadata": {},
   "source": [
    "### Training a 1st order AR model"
   ]
  },
  {
   "cell_type": "code",
   "execution_count": 675,
   "id": "c437174c",
   "metadata": {},
   "outputs": [],
   "source": [
    "AR_Order1 = AutoReg(train_set['Close'], lags=1).fit()"
   ]
  },
  {
   "cell_type": "code",
   "execution_count": 676,
   "id": "4c75b048",
   "metadata": {},
   "outputs": [],
   "source": [
    "start = len(train_set['Close']) + 1"
   ]
  },
  {
   "cell_type": "code",
   "execution_count": 677,
   "id": "ab87dd11",
   "metadata": {},
   "outputs": [],
   "source": [
    "end = len(train_set['Close']) + len(test_set['Close'])"
   ]
  },
  {
   "cell_type": "code",
   "execution_count": 678,
   "id": "d0e77f86",
   "metadata": {},
   "outputs": [],
   "source": [
    "predictions1 = AR_Order1.predict(start = start, end = end).rename('AR(1) Predictions')"
   ]
  },
  {
   "cell_type": "code",
   "execution_count": 679,
   "id": "a795f65c",
   "metadata": {},
   "outputs": [
    {
     "data": {
      "text/plain": [
       "2022-03-16    0.779753\n",
       "2022-03-17    0.779649\n",
       "2022-03-18    0.779545\n",
       "2022-03-21    0.779443\n",
       "2022-03-22    0.779342\n",
       "                ...   \n",
       "2022-11-16    0.770777\n",
       "2022-11-17    0.770756\n",
       "2022-11-18    0.770737\n",
       "2022-11-21    0.770717\n",
       "2022-11-22    0.770697\n",
       "Freq: B, Name: AR(1) Predictions, Length: 180, dtype: float64"
      ]
     },
     "execution_count": 679,
     "metadata": {},
     "output_type": "execute_result"
    }
   ],
   "source": [
    "predictions1\n"
   ]
  },
  {
   "cell_type": "code",
   "execution_count": 680,
   "id": "31355063",
   "metadata": {},
   "outputs": [],
   "source": [
    "AR_Order2 = AutoReg(train_set['Close'], lags=2).fit()"
   ]
  },
  {
   "cell_type": "code",
   "execution_count": 681,
   "id": "8cc548e5",
   "metadata": {},
   "outputs": [],
   "source": [
    "predictions2 = AR_Order2.predict(start = start, end = end).rename('AR(2) Predictions')"
   ]
  },
  {
   "cell_type": "markdown",
   "id": "f6b74855",
   "metadata": {},
   "source": [
    "### Evaluating Model 2 - AutoRegression Model"
   ]
  },
  {
   "cell_type": "code",
   "execution_count": 682,
   "id": "aa9ca27b",
   "metadata": {},
   "outputs": [
    {
     "data": {
      "text/plain": [
       "<AxesSubplot:xlabel='Date'>"
      ]
     },
     "execution_count": 682,
     "metadata": {},
     "output_type": "execute_result"
    },
    {
     "data": {
      "image/png": "[encoded data removed]",
      "text/plain": [
       "<Figure size 432x288 with 1 Axes>"
      ]
     },
     "metadata": {
      "needs_background": "light"
     },
     "output_type": "display_data"
    }
   ],
   "source": [
    "test_set['Close'].plot(legend = True)\n",
    "predictions1.plot(legend=True)\n",
    "predictions2.plot(legend=True)"
   ]
  },
  {
   "cell_type": "markdown",
   "id": "a5d1f324",
   "metadata": {},
   "source": [
    "### Calculate the RMSE"
   ]
  },
  {
   "cell_type": "code",
   "execution_count": 683,
   "id": "2c1b71c5",
   "metadata": {},
   "outputs": [
    {
     "name": "stdout",
     "output_type": "stream",
     "text": [
      "RMSE for first order AR model is 0.0204744407499538\n",
      "RMSE for second order AR model is 0.020361060586043315\n"
     ]
    }
   ],
   "source": [
    "rmse_lag1 = mean_squared_error(test_set['Close'],predictions1, squared=False)\n",
    "rmse_lag2 = mean_squared_error(test_set['Close'],predictions2, squared=False)\n",
    "print(f'RMSE for first order AR model is {rmse_lag1}')\n",
    "print(f'RMSE for second order AR model is {rmse_lag2}')"
   ]
  },
  {
   "cell_type": "markdown",
   "id": "504286a0",
   "metadata": {},
   "source": [
    "### How did the AR Models perform?"
   ]
  },
  {
   "cell_type": "markdown",
   "id": "0ccf89d1",
   "metadata": {},
   "source": [
    "**Which lag gave the best performance?**\n",
    "   - The second order AR model gave a slightly lower RMSE than the other model."
   ]
  },
  {
   "cell_type": "markdown",
   "id": "b0443b54",
   "metadata": {},
   "source": [
    "**How do I select the best lag (order) to use for the AR model?**\n",
    "  - Lets have statsmodels tell us the best order to use "
   ]
  },
  {
   "cell_type": "code",
   "execution_count": 684,
   "id": "d991192a",
   "metadata": {},
   "outputs": [],
   "source": [
    "from statsmodels.tsa.ar_model import ar_select_order"
   ]
  },
  {
   "cell_type": "code",
   "execution_count": 685,
   "id": "bfcdbd25",
   "metadata": {},
   "outputs": [],
   "source": [
    "select_order = ar_select_order(data['Close'], maxlag = 20, ic = 'aic')"
   ]
  },
  {
   "cell_type": "code",
   "execution_count": 686,
   "id": "07fc9cde",
   "metadata": {},
   "outputs": [
    {
     "data": {
      "text/plain": [
       "[1, 2, 3]"
      ]
     },
     "execution_count": 686,
     "metadata": {},
     "output_type": "execute_result"
    }
   ],
   "source": [
    "select_order.ar_lags"
   ]
  },
  {
   "cell_type": "markdown",
   "id": "a5051bfd",
   "metadata": {},
   "source": [
    "Statsmodel says a lag of 1 is the optimal lag, even though lag 2 gave less rmse. This is probably because statsmodel uses aic to judge the best lag and this penalises more complex models. "
   ]
  },
  {
   "cell_type": "markdown",
   "id": "4435e46d",
   "metadata": {},
   "source": [
    "**Was the model able to predict the future trend?**"
   ]
  },
  {
   "cell_type": "markdown",
   "id": "263eac6a",
   "metadata": {},
   "source": [
    "- In my opinion, This AR model did not give a good performance. \n",
    "- Even though the RMSE is lower than that of the Holt-Winters model, this AR model tries to plot a best fit line for the stock prices which is not appropriate for this kind of dataset because it doesnt have a linear relationship with time. \n",
    "- Hence, the model was not able to accurately forecast the future prices or trends\n",
    "- Let's try more models"
   ]
  },
  {
   "cell_type": "markdown",
   "id": "37e5d4e7",
   "metadata": {},
   "source": [
    "### Model 3 - AutoRegressive Integrated Moving Average (ARIMA)"
   ]
  },
  {
   "cell_type": "markdown",
   "id": "01a99bca",
   "metadata": {},
   "source": [
    "From Analysis, I also confirmed that the data is not stationary, So I will need to transform it to be stationary in order to evaluate it & what type of parameters to use for ARIMA."
   ]
  },
  {
   "cell_type": "markdown",
   "id": "1e6dae48",
   "metadata": {},
   "source": [
    "The Differencing technique can be used to transform the dataset to stationary. You may have to difference multiple times before finally reaching stationarity."
   ]
  },
  {
   "cell_type": "markdown",
   "id": "6ba2055c",
   "metadata": {},
   "source": [
    "Pyramid arima is a library that can be used to do a grid search for p,d,q and it will also tell you whether to use a seasonal arima model (by giving P,D,Q).\n",
    "It uses the AIC metric to decide on the optimal p,d,q for you."
   ]
  },
  {
   "cell_type": "code",
   "execution_count": 687,
   "id": "1bcaa748",
   "metadata": {},
   "outputs": [],
   "source": [
    "from pmdarima import auto_arima"
   ]
  },
  {
   "cell_type": "code",
   "execution_count": 688,
   "id": "15d66825",
   "metadata": {},
   "outputs": [
    {
     "name": "stdout",
     "output_type": "stream",
     "text": [
      "Performing stepwise search to minimize aic\n",
      " ARIMA(0,1,0)(0,0,0)[0] intercept   : AIC=-11031.002, Time=0.30 sec\n",
      " ARIMA(1,1,0)(0,0,0)[0] intercept   : AIC=-11029.464, Time=0.31 sec\n",
      " ARIMA(0,1,1)(0,0,0)[0] intercept   : AIC=-11029.551, Time=0.31 sec\n",
      " ARIMA(0,1,0)(0,0,0)[0]             : AIC=-11032.924, Time=0.09 sec\n",
      " ARIMA(1,1,1)(0,0,0)[0] intercept   : AIC=-11028.173, Time=0.33 sec\n",
      "\n",
      "Best model:  ARIMA(0,1,0)(0,0,0)[0]          \n",
      "Total fit time: 1.398 seconds\n"
     ]
    }
   ],
   "source": [
    "grid_search = auto_arima(data['Close'], start_p = 0, start_q = 0, max_q = 4, max_p = 6, trace = True, seasonal = True) #you can use the entire data\n"
   ]
  },
  {
   "cell_type": "code",
   "execution_count": 689,
   "id": "031b4b90",
   "metadata": {},
   "outputs": [
    {
     "data": {
      "text/html": [
       "<table class=\"simpletable\">\n",
       "<caption>SARIMAX Results</caption>\n",
       "<tr>\n",
       "  <th>Dep. Variable:</th>           <td>y</td>        <th>  No. Observations:  </th>    <td>1304</td>   \n",
       "</tr>\n",
       "<tr>\n",
       "  <th>Model:</th>           <td>SARIMAX(0, 1, 0)</td> <th>  Log Likelihood     </th>  <td>5517.462</td> \n",
       "</tr>\n",
       "<tr>\n",
       "  <th>Date:</th>            <td>Wed, 30 Nov 2022</td> <th>  AIC                </th> <td>-11032.924</td>\n",
       "</tr>\n",
       "<tr>\n",
       "  <th>Time:</th>                <td>16:28:06</td>     <th>  BIC                </th> <td>-11027.752</td>\n",
       "</tr>\n",
       "<tr>\n",
       "  <th>Sample:</th>             <td>11-22-2017</td>    <th>  HQIC               </th> <td>-11030.984</td>\n",
       "</tr>\n",
       "<tr>\n",
       "  <th></th>                   <td>- 11-22-2022</td>   <th>                     </th>      <td> </td>    \n",
       "</tr>\n",
       "<tr>\n",
       "  <th>Covariance Type:</th>        <td>opg</td>       <th>                     </th>      <td> </td>    \n",
       "</tr>\n",
       "</table>\n",
       "<table class=\"simpletable\">\n",
       "<tr>\n",
       "     <td></td>       <th>coef</th>     <th>std err</th>      <th>z</th>      <th>P>|z|</th>  <th>[0.025</th>    <th>0.975]</th>  \n",
       "</tr>\n",
       "<tr>\n",
       "  <th>sigma2</th> <td> 1.228e-05</td> <td> 2.71e-07</td> <td>   45.350</td> <td> 0.000</td> <td> 1.17e-05</td> <td> 1.28e-05</td>\n",
       "</tr>\n",
       "</table>\n",
       "<table class=\"simpletable\">\n",
       "<tr>\n",
       "  <th>Ljung-Box (L1) (Q):</th>     <td>0.46</td> <th>  Jarque-Bera (JB):  </th> <td>1006.89</td>\n",
       "</tr>\n",
       "<tr>\n",
       "  <th>Prob(Q):</th>                <td>0.50</td> <th>  Prob(JB):          </th>  <td>0.00</td>  \n",
       "</tr>\n",
       "<tr>\n",
       "  <th>Heteroskedasticity (H):</th> <td>1.25</td> <th>  Skew:              </th>  <td>0.05</td>  \n",
       "</tr>\n",
       "<tr>\n",
       "  <th>Prob(H) (two-sided):</th>    <td>0.02</td> <th>  Kurtosis:          </th>  <td>7.31</td>  \n",
       "</tr>\n",
       "</table><br/><br/>Warnings:<br/>[1] Covariance matrix calculated using the outer product of gradients (complex-step)."
      ],
      "text/plain": [
       "<class 'statsmodels.iolib.summary.Summary'>\n",
       "\"\"\"\n",
       "                               SARIMAX Results                                \n",
       "==============================================================================\n",
       "Dep. Variable:                      y   No. Observations:                 1304\n",
       "Model:               SARIMAX(0, 1, 0)   Log Likelihood                5517.462\n",
       "Date:                Wed, 30 Nov 2022   AIC                         -11032.924\n",
       "Time:                        16:28:06   BIC                         -11027.752\n",
       "Sample:                    11-22-2017   HQIC                        -11030.984\n",
       "                         - 11-22-2022                                         \n",
       "Covariance Type:                  opg                                         \n",
       "==============================================================================\n",
       "                 coef    std err          z      P>|z|      [0.025      0.975]\n",
       "------------------------------------------------------------------------------\n",
       "sigma2      1.228e-05   2.71e-07     45.350      0.000    1.17e-05    1.28e-05\n",
       "===================================================================================\n",
       "Ljung-Box (L1) (Q):                   0.46   Jarque-Bera (JB):              1006.89\n",
       "Prob(Q):                              0.50   Prob(JB):                         0.00\n",
       "Heteroskedasticity (H):               1.25   Skew:                             0.05\n",
       "Prob(H) (two-sided):                  0.02   Kurtosis:                         7.31\n",
       "===================================================================================\n",
       "\n",
       "Warnings:\n",
       "[1] Covariance matrix calculated using the outer product of gradients (complex-step).\n",
       "\"\"\""
      ]
     },
     "execution_count": 689,
     "metadata": {},
     "output_type": "execute_result"
    }
   ],
   "source": [
    "grid_search.summary()"
   ]
  },
  {
   "cell_type": "markdown",
   "id": "cdf86015",
   "metadata": {},
   "source": [
    "Pyramid Arima suggests:\n",
    "- P = 0\n",
    "- d = 1 - The data should be differenced 1 time\n",
    "- q = 0\n",
    "\n",
    "This is a random walk model (find out more)"
   ]
  },
  {
   "cell_type": "code",
   "execution_count": 690,
   "id": "0f9471c4",
   "metadata": {},
   "outputs": [],
   "source": [
    "from statsmodels.tsa.arima.model import ARIMA, ARIMAResults"
   ]
  },
  {
   "cell_type": "code",
   "execution_count": 691,
   "id": "a9de716a",
   "metadata": {},
   "outputs": [],
   "source": [
    "arima_mod = ARIMA(train_set['Close'], order = (0,1,0)).fit()"
   ]
  },
  {
   "cell_type": "code",
   "execution_count": 692,
   "id": "5c855d1e",
   "metadata": {},
   "outputs": [],
   "source": [
    "predictions_arima = arima_mod.predict(start=start, end = end)"
   ]
  },
  {
   "cell_type": "code",
   "execution_count": 693,
   "id": "20b7b60c",
   "metadata": {},
   "outputs": [
    {
     "data": {
      "text/plain": [
       "2022-03-16    0.779964\n",
       "2022-03-17    0.779964\n",
       "2022-03-18    0.779964\n",
       "2022-03-21    0.779964\n",
       "2022-03-22    0.779964\n",
       "                ...   \n",
       "2022-11-16    0.779964\n",
       "2022-11-17    0.779964\n",
       "2022-11-18    0.779964\n",
       "2022-11-21    0.779964\n",
       "2022-11-22    0.779964\n",
       "Freq: B, Name: predicted_mean, Length: 180, dtype: float64"
      ]
     },
     "execution_count": 693,
     "metadata": {},
     "output_type": "execute_result"
    }
   ],
   "source": [
    "preditions_arima"
   ]
  },
  {
   "cell_type": "markdown",
   "id": "cd2f4312",
   "metadata": {},
   "source": [
    "### Evaluating Model 2 - ARIMA Model"
   ]
  },
  {
   "cell_type": "code",
   "execution_count": 694,
   "id": "3337b351",
   "metadata": {},
   "outputs": [
    {
     "data": {
      "text/plain": [
       "<AxesSubplot:xlabel='Date'>"
      ]
     },
     "execution_count": 694,
     "metadata": {},
     "output_type": "execute_result"
    },
    {
     "data": {
      "image/png": "[encoded data removed]",
      "text/plain": [
       "<Figure size 432x288 with 1 Axes>"
      ]
     },
     "metadata": {
      "needs_background": "light"
     },
     "output_type": "display_data"
    }
   ],
   "source": [
    "test_set['Close'].plot(legend = True)\n",
    "preditions_arima.plot(legend=True)"
   ]
  },
  {
   "cell_type": "code",
   "execution_count": 562,
   "id": "c2dd7658",
   "metadata": {},
   "outputs": [],
   "source": [
    "from statsmodels.tools.eval_measures import rmse"
   ]
  },
  {
   "cell_type": "code",
   "execution_count": 563,
   "id": "57c0147d",
   "metadata": {},
   "outputs": [
    {
     "data": {
      "text/plain": [
       "0.024624180260693164"
      ]
     },
     "execution_count": 563,
     "metadata": {},
     "output_type": "execute_result"
    }
   ],
   "source": [
    "rmse(preditions_arima,test_set['Close'])"
   ]
  },
  {
   "cell_type": "markdown",
   "id": "6d75b1fe",
   "metadata": {},
   "source": [
    "The ARIMA model tries to use the average of the past to predict the future stock prices. This is not such a good performance."
   ]
  },
  {
   "cell_type": "markdown",
   "id": "ea5a4a7c",
   "metadata": {},
   "source": [
    "### Model 4 - Recurrent Neural Network"
   ]
  },
  {
   "cell_type": "markdown",
   "id": "4d397243",
   "metadata": {},
   "source": [
    "### Step 1 - Scale the Dataset"
   ]
  },
  {
   "cell_type": "markdown",
   "id": "79549894",
   "metadata": {},
   "source": [
    "When working with neural networks, you need to scale the data so it all falls between 0 & 1"
   ]
  },
  {
   "cell_type": "code",
   "execution_count": 695,
   "id": "6a76ff0d",
   "metadata": {},
   "outputs": [],
   "source": [
    "from sklearn.preprocessing import MinMaxScaler"
   ]
  },
  {
   "cell_type": "code",
   "execution_count": 696,
   "id": "80d70ab2",
   "metadata": {},
   "outputs": [],
   "source": [
    "scaler = MinMaxScaler()"
   ]
  },
  {
   "cell_type": "code",
   "execution_count": 697,
   "id": "a7d6e99b",
   "metadata": {},
   "outputs": [
    {
     "data": {
      "text/plain": [
       "MinMaxScaler()"
      ]
     },
     "execution_count": 697,
     "metadata": {},
     "output_type": "execute_result"
    }
   ],
   "source": [
    "scaler.fit(train_set[['Close']]) #Only fit on the training data\n",
    "#This will find the max value in the training data"
   ]
  },
  {
   "cell_type": "code",
   "execution_count": 698,
   "id": "cb34dfea",
   "metadata": {},
   "outputs": [],
   "source": [
    "scaled_train = scaler.transform(train_set[['Close']])"
   ]
  },
  {
   "cell_type": "code",
   "execution_count": 699,
   "id": "407668d5",
   "metadata": {},
   "outputs": [],
   "source": [
    "scaled_test = scaler.transform(test_set[['Close']])"
   ]
  },
  {
   "cell_type": "markdown",
   "id": "e02ee50a",
   "metadata": {},
   "source": [
    "### Step 2 - Transofrm the data to this format; Input = [X1, x2, x3, ... Xn] Output = [Y]"
   ]
  },
  {
   "cell_type": "code",
   "execution_count": 700,
   "id": "5024275e",
   "metadata": {},
   "outputs": [],
   "source": [
    "#Use a time series generator for your dataset, to transform it to the way you want \n",
    "from tensorflow.keras.preprocessing.sequence import TimeseriesGenerator"
   ]
  },
  {
   "cell_type": "code",
   "execution_count": 701,
   "id": "845c4053",
   "metadata": {},
   "outputs": [],
   "source": [
    "train_generator = TimeseriesGenerator(scaled_train,scaled_train, length = 20, batch_size=1)"
   ]
  },
  {
   "cell_type": "code",
   "execution_count": 702,
   "id": "310d9b93",
   "metadata": {},
   "outputs": [],
   "source": [
    "X,y = train_generator[0]"
   ]
  },
  {
   "cell_type": "code",
   "execution_count": 703,
   "id": "69dae554",
   "metadata": {},
   "outputs": [
    {
     "data": {
      "text/plain": [
       "(array([[[0.66045459],\n",
       "         [0.69061875],\n",
       "         [0.68727742],\n",
       "         [0.68666733],\n",
       "         [0.66724365],\n",
       "         [0.64281863],\n",
       "         [0.62245853],\n",
       "         [0.60988068],\n",
       "         [0.68486542],\n",
       "         [0.70294831],\n",
       "         [0.69545693],\n",
       "         [0.65485024],\n",
       "         [0.62417531],\n",
       "         [0.62331692],\n",
       "         [0.62631773],\n",
       "         [0.61989047],\n",
       "         [0.6422582 ],\n",
       "         [0.65155858],\n",
       "         [0.61714505],\n",
       "         [0.62121707]]]),\n",
       " array([[0.61552049]]))"
      ]
     },
     "execution_count": 703,
     "metadata": {},
     "output_type": "execute_result"
    }
   ],
   "source": [
    "X,y"
   ]
  },
  {
   "cell_type": "code",
   "execution_count": 704,
   "id": "0e12926c",
   "metadata": {},
   "outputs": [
    {
     "data": {
      "text/plain": [
       "(array([[[0.69061875],\n",
       "         [0.68727742],\n",
       "         [0.68666733],\n",
       "         [0.66724365],\n",
       "         [0.64281863],\n",
       "         [0.62245853],\n",
       "         [0.60988068],\n",
       "         [0.68486542],\n",
       "         [0.70294831],\n",
       "         [0.69545693],\n",
       "         [0.65485024],\n",
       "         [0.62417531],\n",
       "         [0.62331692],\n",
       "         [0.62631773],\n",
       "         [0.61989047],\n",
       "         [0.6422582 ],\n",
       "         [0.65155858],\n",
       "         [0.61714505],\n",
       "         [0.62121707],\n",
       "         [0.61552049]]]),\n",
       " array([[0.63776763]]))"
      ]
     },
     "execution_count": 704,
     "metadata": {},
     "output_type": "execute_result"
    }
   ],
   "source": [
    "train_generator[1]"
   ]
  },
  {
   "cell_type": "markdown",
   "id": "184bb3b1",
   "metadata": {},
   "source": [
    "So I have generated a sequence in our dataset\n",
    "The first sequence takes the first 20 prices as input and has the 21st price as the output\n",
    "If we look at the second sequence, the output from the last sequence is now the 20th value of the input array and this sequence of data will continue till the end."
   ]
  },
  {
   "cell_type": "markdown",
   "id": "752c5830",
   "metadata": {},
   "source": [
    "I have selected 20 as the initial timestep because the data has a monthly seasonality (20 business days in a month)"
   ]
  },
  {
   "cell_type": "code",
   "execution_count": 729,
   "id": "363bf414",
   "metadata": {},
   "outputs": [],
   "source": [
    "from tensorflow.keras.models import Sequential\n",
    "from tensorflow.keras.layers import Dense\n",
    "from tensorflow.keras.layers import LSTM\n",
    "from tensorflow.keras.layers import Dropout\n",
    "from keras.callbacks import EarlyStopping"
   ]
  },
  {
   "cell_type": "markdown",
   "id": "c357926b",
   "metadata": {},
   "source": [
    "### Step 3 - Create the NN"
   ]
  },
  {
   "cell_type": "code",
   "execution_count": 745,
   "id": "97516434",
   "metadata": {},
   "outputs": [],
   "source": [
    "model = Sequential()"
   ]
  },
  {
   "cell_type": "markdown",
   "id": "3342dcc8",
   "metadata": {},
   "source": [
    "Add the LSTM layer.\n",
    "- No of units - 150 # I have chosen this value randomly.This can be changed to try to improve the performance of the model\n",
    "- Activation fxn - 'relu' # I have selected the relu fxn has it usually gives the best performance\n",
    "- input_shape - (20,1) - Since I already transofrmed the data to a sequence with each row being an array of 20 inputs and another array of one output, I need to tell the LSTM layer to expect this as well.\n",
    "- I'm telling the model to use a sequence 20 previous prices to predict the next price.\n",
    "- Ideally you should use the seasonality of this data. so if you have monthly data that has annual seasonality you can use 12, 1\n",
    "- I have selected 20 as the initial timestep because the data has a monthly seasonality (20 business days in a month)"
   ]
  },
  {
   "cell_type": "code",
   "execution_count": 746,
   "id": "4a2737c7",
   "metadata": {},
   "outputs": [],
   "source": [
    "model.add(LSTM(100, activation='relu', input_shape=(20, 1)))"
   ]
  },
  {
   "cell_type": "markdown",
   "id": "6c8cfc5c",
   "metadata": {},
   "source": [
    "Add the dense Layer for the output"
   ]
  },
  {
   "cell_type": "code",
   "execution_count": 747,
   "id": "a7fa9d58",
   "metadata": {},
   "outputs": [],
   "source": [
    "model.add(Dense(1)) #output prediction"
   ]
  },
  {
   "cell_type": "code",
   "execution_count": 748,
   "id": "f4424745",
   "metadata": {},
   "outputs": [],
   "source": [
    "#Add dropout to prevent overfitting"
   ]
  },
  {
   "cell_type": "code",
   "execution_count": 749,
   "id": "f40c152c",
   "metadata": {},
   "outputs": [],
   "source": [
    "#model.add(Dropout(0.1))"
   ]
  },
  {
   "cell_type": "code",
   "execution_count": 750,
   "id": "5cc1b1a5",
   "metadata": {},
   "outputs": [],
   "source": [
    "model.compile(optimizer = 'adam', loss = 'mse')"
   ]
  },
  {
   "cell_type": "code",
   "execution_count": 751,
   "id": "a931b290",
   "metadata": {},
   "outputs": [
    {
     "name": "stdout",
     "output_type": "stream",
     "text": [
      "Model: \"sequential_31\"\n",
      "_________________________________________________________________\n",
      " Layer (type)                Output Shape              Param #   \n",
      "=================================================================\n",
      " lstm_37 (LSTM)              (None, 100)               40800     \n",
      "                                                                 \n",
      " dense_29 (Dense)            (None, 1)                 101       \n",
      "                                                                 \n",
      "=================================================================\n",
      "Total params: 40,901\n",
      "Trainable params: 40,901\n",
      "Non-trainable params: 0\n",
      "_________________________________________________________________\n"
     ]
    }
   ],
   "source": [
    "model.summary()"
   ]
  },
  {
   "cell_type": "markdown",
   "id": "858613d1",
   "metadata": {},
   "source": [
    "### Step 4 - Fit the Model on the sequenced training set"
   ]
  },
  {
   "cell_type": "markdown",
   "id": "cde8c97a",
   "metadata": {},
   "source": [
    "Now we will fit the model on the training generator data (not the original training set)\n",
    "This is because we are using LSTM and our model has been told to expect data with input shape (20,1)\n",
    "\n",
    "Since I cant use the validation split for LSTM, I will use early stopping to prevent the model from overfitting"
   ]
  },
  {
   "cell_type": "code",
   "execution_count": 752,
   "id": "2207717a",
   "metadata": {},
   "outputs": [
    {
     "name": "stdout",
     "output_type": "stream",
     "text": [
      "Epoch 1/30\n",
      "1104/1104 [==============================] - 9s 6ms/step - loss: 0.0053\n",
      "Epoch 2/30\n",
      "1104/1104 [==============================] - 7s 6ms/step - loss: 0.0017\n",
      "Epoch 3/30\n",
      "1104/1104 [==============================] - 7s 6ms/step - loss: 0.0013\n",
      "Epoch 4/30\n",
      "1104/1104 [==============================] - 7s 6ms/step - loss: 0.0011\n",
      "Epoch 5/30\n",
      "1104/1104 [==============================] - 7s 6ms/step - loss: 0.0011\n",
      "Epoch 6/30\n",
      "1104/1104 [==============================] - 7s 6ms/step - loss: 8.4070e-04\n",
      "Epoch 7/30\n",
      "1104/1104 [==============================] - 7s 6ms/step - loss: 8.9973e-04\n",
      "Epoch 8/30\n",
      "1104/1104 [==============================] - 7s 6ms/step - loss: 8.1007e-04\n",
      "Epoch 9/30\n",
      "1104/1104 [==============================] - 7s 6ms/step - loss: 8.2999e-04\n",
      "Epoch 10/30\n",
      "1104/1104 [==============================] - 7s 6ms/step - loss: 8.0178e-04\n",
      "Epoch 11/30\n",
      "1104/1104 [==============================] - 7s 6ms/step - loss: 7.7183e-04\n",
      "Epoch 12/30\n",
      "1104/1104 [==============================] - 7s 6ms/step - loss: 7.8547e-04\n",
      "Epoch 13/30\n",
      "1104/1104 [==============================] - 7s 6ms/step - loss: 7.4440e-04\n",
      "Epoch 14/30\n",
      "1104/1104 [==============================] - 7s 7ms/step - loss: 7.7629e-04\n",
      "Epoch 15/30\n",
      "1104/1104 [==============================] - 7s 6ms/step - loss: 7.5060e-04\n",
      "Epoch 16/30\n",
      "1104/1104 [==============================] - 7s 6ms/step - loss: 7.1000e-04\n",
      "Epoch 17/30\n",
      "1104/1104 [==============================] - 7s 6ms/step - loss: 7.3196e-04\n",
      "Epoch 18/30\n",
      "1104/1104 [==============================] - 7s 6ms/step - loss: 7.2627e-04\n",
      "Epoch 19/30\n",
      "1104/1104 [==============================] - 7s 6ms/step - loss: 7.1918e-04\n",
      "Epoch 20/30\n",
      "1104/1104 [==============================] - 7s 6ms/step - loss: 7.0960e-04\n",
      "Epoch 21/30\n",
      "1104/1104 [==============================] - 7s 6ms/step - loss: 6.9790e-04\n",
      "Epoch 22/30\n",
      "1104/1104 [==============================] - 7s 6ms/step - loss: 7.1157e-04\n",
      "Epoch 23/30\n",
      "1104/1104 [==============================] - 7s 6ms/step - loss: 7.0059e-04\n",
      "Epoch 24/30\n",
      "1104/1104 [==============================] - 7s 6ms/step - loss: 7.0673e-04\n",
      "Epoch 25/30\n",
      "1104/1104 [==============================] - 7s 6ms/step - loss: 6.7852e-04\n",
      "Epoch 26/30\n",
      "1104/1104 [==============================] - 7s 6ms/step - loss: 6.7242e-04\n",
      "Epoch 27/30\n",
      "1104/1104 [==============================] - 7s 6ms/step - loss: 6.6942e-04\n",
      "Epoch 28/30\n",
      "1104/1104 [==============================] - 7s 6ms/step - loss: 6.7417e-04\n",
      "Epoch 29/30\n",
      "1104/1104 [==============================] - 7s 6ms/step - loss: 6.7732e-04\n",
      "Epoch 30/30\n",
      "1104/1104 [==============================] - 7s 6ms/step - loss: 6.5554e-04\n"
     ]
    },
    {
     "data": {
      "text/plain": [
       "<keras.callbacks.History at 0x2a121ba3550>"
      ]
     },
     "execution_count": 752,
     "metadata": {},
     "output_type": "execute_result"
    }
   ],
   "source": [
    "model.fit(train_generator,epochs = 30)"
   ]
  },
  {
   "cell_type": "markdown",
   "id": "36153267",
   "metadata": {},
   "source": [
    "I can see that the loss was already converging around 0.0007, which means that the training has been effective and the no of epochs selected was okay.\n",
    "If the loss didnt converge, then it means the no of epochs wasnt enough"
   ]
  },
  {
   "cell_type": "code",
   "execution_count": 753,
   "id": "852e21fc",
   "metadata": {},
   "outputs": [
    {
     "data": {
      "text/plain": [
       "dict_keys(['loss'])"
      ]
     },
     "execution_count": 753,
     "metadata": {},
     "output_type": "execute_result"
    }
   ],
   "source": [
    "model.history.history.keys()"
   ]
  },
  {
   "cell_type": "code",
   "execution_count": 754,
   "id": "d5f2a5e6",
   "metadata": {},
   "outputs": [
    {
     "data": {
      "text/plain": [
       "[<matplotlib.lines.Line2D at 0x2a12793b760>]"
      ]
     },
     "execution_count": 754,
     "metadata": {},
     "output_type": "execute_result"
    },
    {
     "data": {
      "image/png": "[encoded data removed]",
      "text/plain": [
       "<Figure size 432x288 with 1 Axes>"
      ]
     },
     "metadata": {
      "needs_background": "light"
     },
     "output_type": "display_data"
    }
   ],
   "source": [
    "plt.plot(range(len(model.history.history['loss'])),model.history.history['loss'] )"
   ]
  },
  {
   "cell_type": "markdown",
   "id": "c0bb9f6b",
   "metadata": {},
   "source": [
    "### Step 5 - Evaluate on the Test Data"
   ]
  },
  {
   "cell_type": "markdown",
   "id": "1db97460",
   "metadata": {},
   "source": [
    "Evaluate on test data"
   ]
  },
  {
   "cell_type": "markdown",
   "id": "27e4a660",
   "metadata": {},
   "source": [
    "so currently this network will see 20 history prices and predict the 21st price \n",
    "so we need the last 20 points of the training data to predict the first point of the test data"
   ]
  },
  {
   "cell_type": "markdown",
   "id": "d85f9419",
   "metadata": {},
   "source": [
    "Let's test with the last 20 points in the train set and see what the model will predict"
   ]
  },
  {
   "cell_type": "code",
   "execution_count": 755,
   "id": "c639e0f7",
   "metadata": {},
   "outputs": [],
   "source": [
    "first_eval_batch = scaled_train[-20:]"
   ]
  },
  {
   "cell_type": "code",
   "execution_count": 756,
   "id": "460e5b84",
   "metadata": {},
   "outputs": [],
   "source": [
    "#reshape to what the network expects\n",
    "first_eval_batch = first_eval_batch.reshape((1,20,1))"
   ]
  },
  {
   "cell_type": "code",
   "execution_count": 757,
   "id": "b3a52432",
   "metadata": {},
   "outputs": [
    {
     "data": {
      "text/plain": [
       "(1, 20, 1)"
      ]
     },
     "execution_count": 757,
     "metadata": {},
     "output_type": "execute_result"
    }
   ],
   "source": [
    "first_eval_batch.shape"
   ]
  },
  {
   "cell_type": "code",
   "execution_count": 758,
   "id": "a53f9ee7",
   "metadata": {},
   "outputs": [
    {
     "name": "stdout",
     "output_type": "stream",
     "text": [
      "1/1 [==============================] - 0s 188ms/step\n"
     ]
    },
    {
     "data": {
      "text/plain": [
       "array([[0.630296]], dtype=float32)"
      ]
     },
     "execution_count": 758,
     "metadata": {},
     "output_type": "execute_result"
    }
   ],
   "source": [
    "model.predict(first_eval_batch)"
   ]
  },
  {
   "cell_type": "markdown",
   "id": "cffaf479",
   "metadata": {},
   "source": [
    "Now lets predict for the entire test set"
   ]
  },
  {
   "cell_type": "markdown",
   "id": "76530c82",
   "metadata": {},
   "source": [
    "### Forecast Using the Model"
   ]
  },
  {
   "cell_type": "code",
   "execution_count": 759,
   "id": "d3616657",
   "metadata": {},
   "outputs": [],
   "source": [
    "# This will hold the predictions as we go along\n",
    "test_predictions = []\n",
    "\n",
    "#create the first evaluation batch with the last 20 inputs from the train set\n",
    "#This will be used to predict the first value in the test set\n",
    "first_eval_batch = scaled_train[-20:]\n",
    "\n",
    "#reshape to what the RNN wants (same format as output of time series generator)\n",
    "current_batch = first_eval_batch.reshape((1,20,1))"
   ]
  },
  {
   "cell_type": "code",
   "execution_count": 760,
   "id": "9358e502",
   "metadata": {},
   "outputs": [
    {
     "name": "stdout",
     "output_type": "stream",
     "text": [
      "1/1 [==============================] - 0s 24ms/step\n",
      "1/1 [==============================] - 0s 23ms/step\n",
      "1/1 [==============================] - 0s 22ms/step\n",
      "1/1 [==============================] - 0s 35ms/step\n",
      "1/1 [==============================] - 0s 23ms/step\n",
      "1/1 [==============================] - 0s 23ms/step\n",
      "1/1 [==============================] - 0s 21ms/step\n",
      "1/1 [==============================] - 0s 37ms/step\n",
      "1/1 [==============================] - 0s 23ms/step\n",
      "1/1 [==============================] - 0s 24ms/step\n",
      "1/1 [==============================] - 0s 21ms/step\n",
      "1/1 [==============================] - 0s 22ms/step\n",
      "1/1 [==============================] - 0s 20ms/step\n",
      "1/1 [==============================] - 0s 21ms/step\n",
      "1/1 [==============================] - 0s 21ms/step\n",
      "1/1 [==============================] - 0s 20ms/step\n",
      "1/1 [==============================] - 0s 22ms/step\n",
      "1/1 [==============================] - 0s 21ms/step\n",
      "1/1 [==============================] - 0s 21ms/step\n",
      "1/1 [==============================] - 0s 20ms/step\n",
      "1/1 [==============================] - 0s 20ms/step\n",
      "1/1 [==============================] - 0s 21ms/step\n",
      "1/1 [==============================] - 0s 20ms/step\n",
      "1/1 [==============================] - 0s 24ms/step\n",
      "1/1 [==============================] - 0s 20ms/step\n",
      "1/1 [==============================] - 0s 19ms/step\n",
      "1/1 [==============================] - 0s 21ms/step\n",
      "1/1 [==============================] - 0s 21ms/step\n",
      "1/1 [==============================] - 0s 20ms/step\n",
      "1/1 [==============================] - 0s 21ms/step\n",
      "1/1 [==============================] - 0s 20ms/step\n",
      "1/1 [==============================] - 0s 20ms/step\n",
      "1/1 [==============================] - 0s 25ms/step\n",
      "1/1 [==============================] - 0s 23ms/step\n",
      "1/1 [==============================] - 0s 21ms/step\n",
      "1/1 [==============================] - 0s 23ms/step\n",
      "1/1 [==============================] - 0s 21ms/step\n",
      "1/1 [==============================] - 0s 22ms/step\n",
      "1/1 [==============================] - 0s 26ms/step\n",
      "1/1 [==============================] - 0s 22ms/step\n",
      "1/1 [==============================] - 0s 27ms/step\n",
      "1/1 [==============================] - 0s 22ms/step\n",
      "1/1 [==============================] - 0s 21ms/step\n",
      "1/1 [==============================] - 0s 23ms/step\n",
      "1/1 [==============================] - 0s 24ms/step\n",
      "1/1 [==============================] - 0s 23ms/step\n",
      "1/1 [==============================] - 0s 21ms/step\n",
      "1/1 [==============================] - 0s 21ms/step\n",
      "1/1 [==============================] - 0s 23ms/step\n",
      "1/1 [==============================] - 0s 23ms/step\n",
      "1/1 [==============================] - 0s 24ms/step\n",
      "1/1 [==============================] - 0s 22ms/step\n",
      "1/1 [==============================] - 0s 22ms/step\n",
      "1/1 [==============================] - 0s 20ms/step\n",
      "1/1 [==============================] - 0s 24ms/step\n",
      "1/1 [==============================] - 0s 25ms/step\n",
      "1/1 [==============================] - 0s 20ms/step\n",
      "1/1 [==============================] - 0s 23ms/step\n",
      "1/1 [==============================] - 0s 22ms/step\n",
      "1/1 [==============================] - 0s 22ms/step\n",
      "1/1 [==============================] - 0s 23ms/step\n",
      "1/1 [==============================] - 0s 21ms/step\n",
      "1/1 [==============================] - 0s 19ms/step\n",
      "1/1 [==============================] - 0s 21ms/step\n",
      "1/1 [==============================] - 0s 27ms/step\n",
      "1/1 [==============================] - 0s 25ms/step\n",
      "1/1 [==============================] - 0s 23ms/step\n",
      "1/1 [==============================] - 0s 23ms/step\n",
      "1/1 [==============================] - 0s 28ms/step\n",
      "1/1 [==============================] - 0s 25ms/step\n",
      "1/1 [==============================] - 0s 25ms/step\n",
      "1/1 [==============================] - 0s 23ms/step\n",
      "1/1 [==============================] - 0s 24ms/step\n",
      "1/1 [==============================] - 0s 24ms/step\n",
      "1/1 [==============================] - 0s 24ms/step\n",
      "1/1 [==============================] - 0s 25ms/step\n",
      "1/1 [==============================] - 0s 24ms/step\n",
      "1/1 [==============================] - 0s 26ms/step\n",
      "1/1 [==============================] - 0s 26ms/step\n",
      "1/1 [==============================] - 0s 24ms/step\n",
      "1/1 [==============================] - 0s 27ms/step\n",
      "1/1 [==============================] - 0s 24ms/step\n",
      "1/1 [==============================] - 0s 24ms/step\n",
      "1/1 [==============================] - 0s 26ms/step\n",
      "1/1 [==============================] - 0s 27ms/step\n",
      "1/1 [==============================] - 0s 25ms/step\n",
      "1/1 [==============================] - 0s 24ms/step\n",
      "1/1 [==============================] - 0s 26ms/step\n",
      "1/1 [==============================] - 0s 25ms/step\n",
      "1/1 [==============================] - 0s 25ms/step\n",
      "1/1 [==============================] - 0s 26ms/step\n",
      "1/1 [==============================] - 0s 26ms/step\n",
      "1/1 [==============================] - 0s 25ms/step\n",
      "1/1 [==============================] - 0s 27ms/step\n",
      "1/1 [==============================] - 0s 27ms/step\n",
      "1/1 [==============================] - 0s 30ms/step\n",
      "1/1 [==============================] - 0s 27ms/step\n",
      "1/1 [==============================] - 0s 27ms/step\n",
      "1/1 [==============================] - 0s 21ms/step\n",
      "1/1 [==============================] - 0s 22ms/step\n",
      "1/1 [==============================] - 0s 21ms/step\n",
      "1/1 [==============================] - 0s 20ms/step\n",
      "1/1 [==============================] - 0s 20ms/step\n",
      "1/1 [==============================] - 0s 21ms/step\n",
      "1/1 [==============================] - 0s 21ms/step\n",
      "1/1 [==============================] - 0s 22ms/step\n",
      "1/1 [==============================] - 0s 26ms/step\n",
      "1/1 [==============================] - 0s 24ms/step\n",
      "1/1 [==============================] - 0s 22ms/step\n",
      "1/1 [==============================] - 0s 25ms/step\n",
      "1/1 [==============================] - 0s 24ms/step\n",
      "1/1 [==============================] - 0s 26ms/step\n",
      "1/1 [==============================] - 0s 23ms/step\n",
      "1/1 [==============================] - 0s 26ms/step\n",
      "1/1 [==============================] - 0s 25ms/step\n",
      "1/1 [==============================] - 0s 25ms/step\n",
      "1/1 [==============================] - 0s 27ms/step\n",
      "1/1 [==============================] - 0s 24ms/step\n",
      "1/1 [==============================] - 0s 22ms/step\n",
      "1/1 [==============================] - 0s 21ms/step\n",
      "1/1 [==============================] - 0s 23ms/step\n",
      "1/1 [==============================] - 0s 20ms/step\n",
      "1/1 [==============================] - 0s 29ms/step\n",
      "1/1 [==============================] - 0s 22ms/step\n",
      "1/1 [==============================] - 0s 21ms/step\n",
      "1/1 [==============================] - 0s 21ms/step\n",
      "1/1 [==============================] - 0s 21ms/step\n",
      "1/1 [==============================] - 0s 21ms/step\n",
      "1/1 [==============================] - 0s 21ms/step\n",
      "1/1 [==============================] - 0s 21ms/step\n",
      "1/1 [==============================] - 0s 21ms/step\n",
      "1/1 [==============================] - 0s 20ms/step\n",
      "1/1 [==============================] - 0s 21ms/step\n",
      "1/1 [==============================] - 0s 20ms/step\n",
      "1/1 [==============================] - 0s 21ms/step\n",
      "1/1 [==============================] - 0s 23ms/step\n",
      "1/1 [==============================] - 0s 21ms/step\n",
      "1/1 [==============================] - 0s 21ms/step\n",
      "1/1 [==============================] - 0s 21ms/step\n",
      "1/1 [==============================] - 0s 22ms/step\n",
      "1/1 [==============================] - 0s 21ms/step\n",
      "1/1 [==============================] - 0s 21ms/step\n",
      "1/1 [==============================] - 0s 20ms/step\n",
      "1/1 [==============================] - 0s 20ms/step\n",
      "1/1 [==============================] - 0s 21ms/step\n",
      "1/1 [==============================] - 0s 21ms/step\n",
      "1/1 [==============================] - 0s 21ms/step\n",
      "1/1 [==============================] - 0s 23ms/step\n",
      "1/1 [==============================] - 0s 22ms/step\n",
      "1/1 [==============================] - 0s 21ms/step\n",
      "1/1 [==============================] - 0s 21ms/step\n",
      "1/1 [==============================] - 0s 21ms/step\n",
      "1/1 [==============================] - 0s 22ms/step\n",
      "1/1 [==============================] - 0s 20ms/step\n",
      "1/1 [==============================] - 0s 21ms/step\n",
      "1/1 [==============================] - 0s 22ms/step\n",
      "1/1 [==============================] - 0s 21ms/step\n",
      "1/1 [==============================] - 0s 26ms/step\n",
      "1/1 [==============================] - 0s 25ms/step\n",
      "1/1 [==============================] - 0s 21ms/step\n",
      "1/1 [==============================] - 0s 21ms/step\n",
      "1/1 [==============================] - 0s 20ms/step\n",
      "1/1 [==============================] - 0s 19ms/step\n",
      "1/1 [==============================] - 0s 22ms/step\n",
      "1/1 [==============================] - 0s 21ms/step\n",
      "1/1 [==============================] - 0s 22ms/step\n",
      "1/1 [==============================] - 0s 20ms/step\n",
      "1/1 [==============================] - 0s 21ms/step\n",
      "1/1 [==============================] - 0s 20ms/step\n",
      "1/1 [==============================] - 0s 22ms/step\n",
      "1/1 [==============================] - 0s 21ms/step\n",
      "1/1 [==============================] - 0s 22ms/step\n",
      "1/1 [==============================] - 0s 22ms/step\n",
      "1/1 [==============================] - 0s 23ms/step\n",
      "1/1 [==============================] - 0s 20ms/step\n",
      "1/1 [==============================] - 0s 21ms/step\n",
      "1/1 [==============================] - 0s 22ms/step\n",
      "1/1 [==============================] - 0s 22ms/step\n",
      "1/1 [==============================] - 0s 22ms/step\n",
      "1/1 [==============================] - 0s 22ms/step\n"
     ]
    }
   ],
   "source": [
    "for i in range(len(test_set['Close'])):\n",
    "    \n",
    "    #Get the prediction one time step ahead of the past 20 points\n",
    "    current_pred = model.predict(current_batch)[0]\n",
    "    \n",
    "    #store the prediction\n",
    "    test_predictions.append(current_pred)\n",
    "    \n",
    "    #Update the current batch to include the prediction\n",
    "    #you need to drop the first value from the current batch and add the prediction to the end\n",
    "    #the indexing below is because the shape is 1,20,1.\n",
    "    #x =1 , y = 20, z = 1\n",
    "    #so we are grabbing the full sample ( x= 1), only from the 2nd up to the last of the y dimension\n",
    "    # and then add the new prediction\n",
    "    current_batch = np.append(current_batch[:,1:,:],[[current_pred]], axis = 1)\n",
    "    "
   ]
  },
  {
   "cell_type": "code",
   "execution_count": 761,
   "id": "bddeb758",
   "metadata": {},
   "outputs": [
    {
     "data": {
      "text/plain": [
       "[array([0.630296], dtype=float32),\n",
       " array([0.62816674], dtype=float32),\n",
       " array([0.6217693], dtype=float32),\n",
       " array([0.6152964], dtype=float32),\n",
       " array([0.60892576], dtype=float32),\n",
       " array([0.6026868], dtype=float32),\n",
       " array([0.59656405], dtype=float32),\n",
       " array([0.5905422], dtype=float32),\n",
       " array([0.584611], dtype=float32),\n",
       " array([0.57876396], dtype=float32),\n",
       " array([0.5729971], dtype=float32),\n",
       " array([0.56730866], dtype=float32),\n",
       " array([0.5616974], dtype=float32),\n",
       " array([0.5561633], dtype=float32),\n",
       " array([0.55070704], dtype=float32),\n",
       " array([0.54532886], dtype=float32),\n",
       " array([0.5400289], dtype=float32),\n",
       " array([0.5348065], dtype=float32),\n",
       " array([0.5296616], dtype=float32),\n",
       " array([0.5245945], dtype=float32),\n",
       " array([0.51960576], dtype=float32),\n",
       " array([0.5146953], dtype=float32),\n",
       " array([0.50986284], dtype=float32),\n",
       " array([0.50510836], dtype=float32),\n",
       " array([0.5004316], dtype=float32),\n",
       " array([0.4958325], dtype=float32),\n",
       " array([0.49131072], dtype=float32),\n",
       " array([0.48686606], dtype=float32),\n",
       " array([0.4824983], dtype=float32),\n",
       " array([0.478207], dtype=float32),\n",
       " array([0.4739917], dtype=float32),\n",
       " array([0.46985215], dtype=float32),\n",
       " array([0.46578777], dtype=float32),\n",
       " array([0.4617982], dtype=float32),\n",
       " array([0.45788276], dtype=float32),\n",
       " array([0.45404106], dtype=float32),\n",
       " array([0.45027244], dtype=float32),\n",
       " array([0.44657636], dtype=float32),\n",
       " array([0.44295216], dtype=float32),\n",
       " array([0.43939906], dtype=float32),\n",
       " array([0.43591648], dtype=float32),\n",
       " array([0.43250388], dtype=float32),\n",
       " array([0.42916036], dtype=float32),\n",
       " array([0.42588514], dtype=float32),\n",
       " array([0.42267758], dtype=float32),\n",
       " array([0.4195369], dtype=float32),\n",
       " array([0.41646218], dtype=float32),\n",
       " array([0.41345263], dtype=float32),\n",
       " array([0.41050738], dtype=float32),\n",
       " array([0.40762568], dtype=float32),\n",
       " array([0.4048066], dtype=float32),\n",
       " array([0.40204936], dtype=float32),\n",
       " array([0.39935303], dtype=float32),\n",
       " array([0.39671677], dtype=float32),\n",
       " array([0.3941396], dtype=float32),\n",
       " array([0.39162064], dtype=float32),\n",
       " array([0.38915896], dtype=float32),\n",
       " array([0.38675368], dtype=float32),\n",
       " array([0.38440394], dtype=float32),\n",
       " array([0.3821088], dtype=float32),\n",
       " array([0.37986723], dtype=float32),\n",
       " array([0.37767845], dtype=float32),\n",
       " array([0.3755415], dtype=float32),\n",
       " array([0.37345535], dtype=float32),\n",
       " array([0.3714192], dtype=float32),\n",
       " array([0.36943212], dtype=float32),\n",
       " array([0.36749315], dtype=float32),\n",
       " array([0.36560145], dtype=float32),\n",
       " array([0.36375606], dtype=float32),\n",
       " array([0.36195612], dtype=float32),\n",
       " array([0.3602007], dtype=float32),\n",
       " array([0.35848892], dtype=float32),\n",
       " array([0.35681987], dtype=float32),\n",
       " array([0.35519272], dtype=float32),\n",
       " array([0.35360664], dtype=float32),\n",
       " array([0.3520607], dtype=float32),\n",
       " array([0.3505541], dtype=float32),\n",
       " array([0.349086], dtype=float32),\n",
       " array([0.34765553], dtype=float32),\n",
       " array([0.34626192], dtype=float32),\n",
       " array([0.3449043], dtype=float32),\n",
       " array([0.3434923], dtype=float32),\n",
       " array([0.34205034], dtype=float32),\n",
       " array([0.3405909], dtype=float32),\n",
       " array([0.33911827], dtype=float32),\n",
       " array([0.3376357], dtype=float32),\n",
       " array([0.3361454], dtype=float32),\n",
       " array([0.3346495], dtype=float32),\n",
       " array([0.33315015], dtype=float32),\n",
       " array([0.331622], dtype=float32),\n",
       " array([0.3300309], dtype=float32),\n",
       " array([0.32836422], dtype=float32),\n",
       " array([0.32661295], dtype=float32),\n",
       " array([0.32477155], dtype=float32),\n",
       " array([0.32283664], dtype=float32),\n",
       " array([0.32080656], dtype=float32),\n",
       " array([0.31868047], dtype=float32),\n",
       " array([0.31645656], dtype=float32),\n",
       " array([0.31413263], dtype=float32),\n",
       " array([0.31170666], dtype=float32),\n",
       " array([0.30917645], dtype=float32),\n",
       " array([0.3065387], dtype=float32),\n",
       " array([0.30379033], dtype=float32),\n",
       " array([0.3009275], dtype=float32),\n",
       " array([0.2979458], dtype=float32),\n",
       " array([0.2948409], dtype=float32),\n",
       " array([0.2916078], dtype=float32),\n",
       " array([0.288241], dtype=float32),\n",
       " array([0.28473464], dtype=float32),\n",
       " array([0.2810826], dtype=float32),\n",
       " array([0.27727824], dtype=float32),\n",
       " array([0.2733146], dtype=float32),\n",
       " array([0.2691843], dtype=float32),\n",
       " array([0.2648793], dtype=float32),\n",
       " array([0.26039112], dtype=float32),\n",
       " array([0.25571087], dtype=float32),\n",
       " array([0.25082916], dtype=float32),\n",
       " array([0.24573588], dtype=float32),\n",
       " array([0.24042034], dtype=float32),\n",
       " array([0.23484223], dtype=float32),\n",
       " array([0.22895525], dtype=float32),\n",
       " array([0.22274703], dtype=float32),\n",
       " array([0.2161492], dtype=float32),\n",
       " array([0.20900768], dtype=float32),\n",
       " array([0.20146072], dtype=float32),\n",
       " array([0.19392361], dtype=float32),\n",
       " array([0.18659818], dtype=float32),\n",
       " array([0.17968974], dtype=float32),\n",
       " array([0.17353243], dtype=float32),\n",
       " array([0.16841991], dtype=float32),\n",
       " array([0.164263], dtype=float32),\n",
       " array([0.16088384], dtype=float32),\n",
       " array([0.15822239], dtype=float32),\n",
       " array([0.15617791], dtype=float32),\n",
       " array([0.15458699], dtype=float32),\n",
       " array([0.15329295], dtype=float32),\n",
       " array([0.15217452], dtype=float32),\n",
       " array([0.1511531], dtype=float32),\n",
       " array([0.15018553], dtype=float32),\n",
       " array([0.14925732], dtype=float32),\n",
       " array([0.14836805], dtype=float32),\n",
       " array([0.14752509], dtype=float32),\n",
       " array([0.14673479], dtype=float32),\n",
       " array([0.14600271], dtype=float32),\n",
       " array([0.14533095], dtype=float32),\n",
       " array([0.14471832], dtype=float32),\n",
       " array([0.14416242], dtype=float32),\n",
       " array([0.14365914], dtype=float32),\n",
       " array([0.14320272], dtype=float32),\n",
       " array([0.14278765], dtype=float32),\n",
       " array([0.14240915], dtype=float32),\n",
       " array([0.14206305], dtype=float32),\n",
       " array([0.14174592], dtype=float32),\n",
       " array([0.14145485], dtype=float32),\n",
       " array([0.14118737], dtype=float32),\n",
       " array([0.14094159], dtype=float32),\n",
       " array([0.14071582], dtype=float32),\n",
       " array([0.1405086], dtype=float32),\n",
       " array([0.1403186], dtype=float32),\n",
       " array([0.14014451], dtype=float32),\n",
       " array([0.13998513], dtype=float32),\n",
       " array([0.13983925], dtype=float32),\n",
       " array([0.13970575], dtype=float32),\n",
       " array([0.13958357], dtype=float32),\n",
       " array([0.13947172], dtype=float32),\n",
       " array([0.13936932], dtype=float32),\n",
       " array([0.13927555], dtype=float32),\n",
       " array([0.13918965], dtype=float32),\n",
       " array([0.13911097], dtype=float32),\n",
       " array([0.13903889], dtype=float32),\n",
       " array([0.13897286], dtype=float32),\n",
       " array([0.13891238], dtype=float32),\n",
       " array([0.13885698], dtype=float32),\n",
       " array([0.13880624], dtype=float32),\n",
       " array([0.13875979], dtype=float32),\n",
       " array([0.13871725], dtype=float32),\n",
       " array([0.1386783], dtype=float32),\n",
       " array([0.13864262], dtype=float32),\n",
       " array([0.13860993], dtype=float32),\n",
       " array([0.13858001], dtype=float32)]"
      ]
     },
     "execution_count": 761,
     "metadata": {},
     "output_type": "execute_result"
    }
   ],
   "source": [
    "test_predictions"
   ]
  },
  {
   "cell_type": "markdown",
   "id": "0d499707",
   "metadata": {},
   "source": [
    "Note that the predictions are still scaled"
   ]
  },
  {
   "cell_type": "markdown",
   "id": "d5f05e79",
   "metadata": {},
   "source": [
    "### Step 5 - Transform predictions back to original data "
   ]
  },
  {
   "cell_type": "code",
   "execution_count": 762,
   "id": "b1ade42b",
   "metadata": {},
   "outputs": [],
   "source": [
    "True_predictions = scaler.inverse_transform(test_predictions)"
   ]
  },
  {
   "cell_type": "code",
   "execution_count": 763,
   "id": "9902929b",
   "metadata": {},
   "outputs": [
    {
     "data": {
      "text/plain": [
       "array([[0.77858878],\n",
       "       [0.77828864],\n",
       "       [0.77738685],\n",
       "       [0.77647441],\n",
       "       [0.77557639],\n",
       "       [0.77469694],\n",
       "       [0.77383386],\n",
       "       [0.77298501],\n",
       "       [0.77214894],\n",
       "       [0.77132473],\n",
       "       [0.77051182],\n",
       "       [0.76970996],\n",
       "       [0.76891899],\n",
       "       [0.76813889],\n",
       "       [0.76736977],\n",
       "       [0.76661165],\n",
       "       [0.76586456],\n",
       "       [0.76512839],\n",
       "       [0.76440316],\n",
       "       [0.76368889],\n",
       "       [0.76298567],\n",
       "       [0.76229348],\n",
       "       [0.76161229],\n",
       "       [0.76094208],\n",
       "       [0.76028284],\n",
       "       [0.75963454],\n",
       "       [0.75899714],\n",
       "       [0.75837061],\n",
       "       [0.75775492],\n",
       "       [0.75715001],\n",
       "       [0.75655582],\n",
       "       [0.7559723 ],\n",
       "       [0.75539938],\n",
       "       [0.754837  ],\n",
       "       [0.75428507],\n",
       "       [0.75374354],\n",
       "       [0.7532123 ],\n",
       "       [0.7526913 ],\n",
       "       [0.75218042],\n",
       "       [0.75167957],\n",
       "       [0.75118866],\n",
       "       [0.75070761],\n",
       "       [0.7502363 ],\n",
       "       [0.74977462],\n",
       "       [0.74932248],\n",
       "       [0.74887976],\n",
       "       [0.74844634],\n",
       "       [0.74802211],\n",
       "       [0.74760694],\n",
       "       [0.74720073],\n",
       "       [0.74680335],\n",
       "       [0.74641468],\n",
       "       [0.7460346 ],\n",
       "       [0.74566299],\n",
       "       [0.7452997 ],\n",
       "       [0.74494463],\n",
       "       [0.74459763],\n",
       "       [0.74425857],\n",
       "       [0.74392735],\n",
       "       [0.74360382],\n",
       "       [0.74328784],\n",
       "       [0.74297931],\n",
       "       [0.74267808],\n",
       "       [0.74238401],\n",
       "       [0.74209699],\n",
       "       [0.74181689],\n",
       "       [0.74154357],\n",
       "       [0.74127691],\n",
       "       [0.74101678],\n",
       "       [0.74076306],\n",
       "       [0.74051561],\n",
       "       [0.74027431],\n",
       "       [0.74003904],\n",
       "       [0.73980968],\n",
       "       [0.7395861 ],\n",
       "       [0.73936818],\n",
       "       [0.73915581],\n",
       "       [0.73894886],\n",
       "       [0.73874722],\n",
       "       [0.73855077],\n",
       "       [0.7383594 ],\n",
       "       [0.73816036],\n",
       "       [0.7379571 ],\n",
       "       [0.73775137],\n",
       "       [0.73754379],\n",
       "       [0.7373348 ],\n",
       "       [0.73712473],\n",
       "       [0.73691386],\n",
       "       [0.73670251],\n",
       "       [0.7364871 ],\n",
       "       [0.73626281],\n",
       "       [0.73602788],\n",
       "       [0.73578101],\n",
       "       [0.73552145],\n",
       "       [0.7352487 ],\n",
       "       [0.73496253],\n",
       "       [0.73466284],\n",
       "       [0.73434935],\n",
       "       [0.73402176],\n",
       "       [0.73367979],\n",
       "       [0.73332313],\n",
       "       [0.73295131],\n",
       "       [0.73256389],\n",
       "       [0.73216034],\n",
       "       [0.73174004],\n",
       "       [0.73130236],\n",
       "       [0.73084662],\n",
       "       [0.73037203],\n",
       "       [0.72987776],\n",
       "       [0.72936297],\n",
       "       [0.7288267 ],\n",
       "       [0.72826797],\n",
       "       [0.72768576],\n",
       "       [0.72707891],\n",
       "       [0.72644625],\n",
       "       [0.72578652],\n",
       "       [0.72509838],\n",
       "       [0.72438042],\n",
       "       [0.72363113],\n",
       "       [0.72284483],\n",
       "       [0.72201499],\n",
       "       [0.72113987],\n",
       "       [0.72020982],\n",
       "       [0.71920314],\n",
       "       [0.71813931],\n",
       "       [0.71707686],\n",
       "       [0.71604425],\n",
       "       [0.71507042],\n",
       "       [0.71420248],\n",
       "       [0.71348181],\n",
       "       [0.71289584],\n",
       "       [0.71241951],\n",
       "       [0.71204434],\n",
       "       [0.71175615],\n",
       "       [0.71153189],\n",
       "       [0.71134948],\n",
       "       [0.71119182],\n",
       "       [0.71104784],\n",
       "       [0.71091145],\n",
       "       [0.71078061],\n",
       "       [0.71065526],\n",
       "       [0.71053643],\n",
       "       [0.71042503],\n",
       "       [0.71032183],\n",
       "       [0.71022714],\n",
       "       [0.71014078],\n",
       "       [0.71006242],\n",
       "       [0.70999148],\n",
       "       [0.70992714],\n",
       "       [0.70986863],\n",
       "       [0.70981528],\n",
       "       [0.70976649],\n",
       "       [0.70972179],\n",
       "       [0.70968076],\n",
       "       [0.70964305],\n",
       "       [0.70960841],\n",
       "       [0.70957658],\n",
       "       [0.70954737],\n",
       "       [0.70952059],\n",
       "       [0.70949605],\n",
       "       [0.70947358],\n",
       "       [0.70945302],\n",
       "       [0.7094342 ],\n",
       "       [0.70941698],\n",
       "       [0.70940121],\n",
       "       [0.70938678],\n",
       "       [0.70937356],\n",
       "       [0.70936145],\n",
       "       [0.70935036],\n",
       "       [0.7093402 ],\n",
       "       [0.70933089],\n",
       "       [0.70932237],\n",
       "       [0.70931456],\n",
       "       [0.70930741],\n",
       "       [0.70930086],\n",
       "       [0.70929486],\n",
       "       [0.70928937],\n",
       "       [0.70928434],\n",
       "       [0.70927973],\n",
       "       [0.70927552]])"
      ]
     },
     "execution_count": 763,
     "metadata": {},
     "output_type": "execute_result"
    }
   ],
   "source": [
    "True_predictions"
   ]
  },
  {
   "cell_type": "markdown",
   "id": "0f28092f",
   "metadata": {},
   "source": [
    "Now I have the original values"
   ]
  },
  {
   "cell_type": "code",
   "execution_count": 764,
   "id": "760d1085",
   "metadata": {},
   "outputs": [],
   "source": [
    "original_test = test_set[['Close']]"
   ]
  },
  {
   "cell_type": "code",
   "execution_count": 765,
   "id": "3e4ccf70",
   "metadata": {},
   "outputs": [],
   "source": [
    "original_test['predictions'] = True_predictions"
   ]
  },
  {
   "cell_type": "markdown",
   "id": "bc653021",
   "metadata": {},
   "source": [
    "### Step 6 - Evaluate RNN Performance"
   ]
  },
  {
   "cell_type": "code",
   "execution_count": 767,
   "id": "4ae6bc87",
   "metadata": {},
   "outputs": [
    {
     "data": {
      "text/plain": [
       "<AxesSubplot:xlabel='Date'>"
      ]
     },
     "execution_count": 767,
     "metadata": {},
     "output_type": "execute_result"
    },
    {
     "data": {
      "image/png": "[encoded data removed]",
      "text/plain": [
       "<Figure size 432x288 with 1 Axes>"
      ]
     },
     "metadata": {
      "needs_background": "light"
     },
     "output_type": "display_data"
    }
   ],
   "source": [
    "original_test.plot(legend=True)"
   ]
  },
  {
   "cell_type": "code",
   "execution_count": 768,
   "id": "bc01bd4f",
   "metadata": {},
   "outputs": [
    {
     "data": {
      "text/plain": [
       "0.03507562465172962"
      ]
     },
     "execution_count": 768,
     "metadata": {},
     "output_type": "execute_result"
    }
   ],
   "source": [
    "mean_squared_error(original_test['Close'],original_test['predictions'],squared = False)"
   ]
  },
  {
   "cell_type": "code",
   "execution_count": null,
   "id": "94103d48",
   "metadata": {},
   "outputs": [],
   "source": [
    "### Step 7 - Tuning Model - Improving Performance"
   ]
  },
  {
   "cell_type": "markdown",
   "id": "649045fc",
   "metadata": {},
   "source": [
    "So far, this RNN has given the highest RMSE. Why did it give such poor performance compared to the rest?\n",
    "I will continue tweaking to see if there will be improvements \n",
    "so far I have changed sequence length from 5 to 20 and this caused the rmse to drop but still on (0.03963)\n",
    "Try different timesteps & plot the results "
   ]
  },
  {
   "cell_type": "markdown",
   "id": "95c2f032",
   "metadata": {},
   "source": [
    "1. I'll try different timesteps values & compare performances"
   ]
  },
  {
   "cell_type": "code",
   "execution_count": 636,
   "id": "a4dd4d70",
   "metadata": {},
   "outputs": [
    {
     "name": "stdout",
     "output_type": "stream",
     "text": [
      "Epoch 1/25\n",
      "1104/1104 [==============================] - 9s 7ms/step - loss: 0.0068\n",
      "Epoch 2/25\n",
      "1104/1104 [==============================] - 7s 6ms/step - loss: 0.0018\n",
      "Epoch 3/25\n",
      "1104/1104 [==============================] - 7s 7ms/step - loss: 0.0013\n",
      "Epoch 4/25\n",
      "1104/1104 [==============================] - 7s 7ms/step - loss: 0.0011\n",
      "Epoch 5/25\n",
      "1104/1104 [==============================] - 7s 7ms/step - loss: 0.0010\n",
      "Epoch 6/25\n",
      "1104/1104 [==============================] - 7s 7ms/step - loss: 9.3508e-04\n",
      "Epoch 7/25\n",
      "1104/1104 [==============================] - 7s 7ms/step - loss: 9.0222e-04\n",
      "Epoch 8/25\n",
      "1104/1104 [==============================] - 7s 7ms/step - loss: 8.1627e-04\n",
      "Epoch 9/25\n",
      "1104/1104 [==============================] - 7s 6ms/step - loss: 9.0808e-04\n",
      "Epoch 10/25\n",
      "1104/1104 [==============================] - 7s 7ms/step - loss: 8.4012e-04\n",
      "Epoch 11/25\n",
      "1104/1104 [==============================] - 7s 7ms/step - loss: 7.8424e-04\n",
      "Epoch 12/25\n",
      "1104/1104 [==============================] - 7s 6ms/step - loss: 7.3269e-04\n",
      "Epoch 13/25\n",
      "1104/1104 [==============================] - 7s 6ms/step - loss: 7.9770e-04\n",
      "Epoch 14/25\n",
      "1104/1104 [==============================] - 7s 6ms/step - loss: 7.3843e-04\n",
      "Epoch 15/25\n",
      "1104/1104 [==============================] - 7s 7ms/step - loss: 8.4881e-04\n",
      "Epoch 16/25\n",
      "1104/1104 [==============================] - 7s 7ms/step - loss: 7.1602e-04\n",
      "Epoch 17/25\n",
      "1104/1104 [==============================] - 7s 6ms/step - loss: 7.7065e-04\n",
      "Epoch 18/25\n",
      "1104/1104 [==============================] - 7s 7ms/step - loss: 7.2248e-04\n",
      "Epoch 19/25\n",
      "1104/1104 [==============================] - 7s 6ms/step - loss: 7.1454e-04\n",
      "Epoch 20/25\n",
      "1104/1104 [==============================] - 7s 6ms/step - loss: 7.2414e-04\n",
      "Epoch 21/25\n",
      "1104/1104 [==============================] - 7s 6ms/step - loss: 7.3582e-04\n",
      "Epoch 22/25\n",
      "1104/1104 [==============================] - 7s 6ms/step - loss: 6.7618e-04\n",
      "Epoch 23/25\n",
      "1104/1104 [==============================] - 7s 6ms/step - loss: 7.2188e-04\n",
      "Epoch 24/25\n",
      "1104/1104 [==============================] - 7s 6ms/step - loss: 7.1915e-04\n",
      "Epoch 25/25\n",
      "1104/1104 [==============================] - 7s 6ms/step - loss: 6.9249e-04\n",
      "1/1 [==============================] - 0s 187ms/step\n",
      "1/1 [==============================] - 0s 22ms/step\n",
      "1/1 [==============================] - 0s 20ms/step\n",
      "1/1 [==============================] - 0s 22ms/step\n",
      "1/1 [==============================] - 0s 38ms/step\n",
      "1/1 [==============================] - 0s 21ms/step\n",
      "1/1 [==============================] - 0s 19ms/step\n",
      "1/1 [==============================] - 0s 21ms/step\n",
      "1/1 [==============================] - 0s 21ms/step\n",
      "1/1 [==============================] - 0s 20ms/step\n",
      "1/1 [==============================] - 0s 20ms/step\n",
      "1/1 [==============================] - 0s 21ms/step\n",
      "1/1 [==============================] - 0s 21ms/step\n",
      "1/1 [==============================] - 0s 21ms/step\n",
      "1/1 [==============================] - 0s 21ms/step\n",
      "1/1 [==============================] - 0s 19ms/step\n",
      "1/1 [==============================] - 0s 21ms/step\n",
      "1/1 [==============================] - 0s 21ms/step\n",
      "1/1 [==============================] - 0s 20ms/step\n",
      "1/1 [==============================] - 0s 20ms/step\n",
      "1/1 [==============================] - 0s 20ms/step\n",
      "1/1 [==============================] - 0s 21ms/step\n",
      "1/1 [==============================] - 0s 28ms/step\n",
      "1/1 [==============================] - 0s 20ms/step\n",
      "1/1 [==============================] - 0s 31ms/step\n",
      "1/1 [==============================] - 0s 21ms/step\n",
      "1/1 [==============================] - 0s 21ms/step\n",
      "1/1 [==============================] - 0s 20ms/step\n",
      "1/1 [==============================] - 0s 19ms/step\n",
      "1/1 [==============================] - 0s 24ms/step\n",
      "1/1 [==============================] - 0s 20ms/step\n",
      "1/1 [==============================] - 0s 21ms/step\n",
      "1/1 [==============================] - 0s 22ms/step\n",
      "1/1 [==============================] - 0s 22ms/step\n",
      "1/1 [==============================] - 0s 21ms/step\n",
      "1/1 [==============================] - 0s 21ms/step\n",
      "1/1 [==============================] - 0s 23ms/step\n",
      "1/1 [==============================] - 0s 22ms/step\n",
      "1/1 [==============================] - 0s 23ms/step\n",
      "1/1 [==============================] - 0s 26ms/step\n",
      "1/1 [==============================] - 0s 21ms/step\n",
      "1/1 [==============================] - 0s 19ms/step\n",
      "1/1 [==============================] - 0s 21ms/step\n",
      "1/1 [==============================] - 0s 20ms/step\n",
      "1/1 [==============================] - 0s 20ms/step\n",
      "1/1 [==============================] - 0s 20ms/step\n",
      "1/1 [==============================] - 0s 20ms/step\n",
      "1/1 [==============================] - 0s 21ms/step\n",
      "1/1 [==============================] - 0s 32ms/step\n",
      "1/1 [==============================] - 0s 22ms/step\n",
      "1/1 [==============================] - 0s 22ms/step\n",
      "1/1 [==============================] - 0s 21ms/step\n",
      "1/1 [==============================] - 0s 22ms/step\n",
      "1/1 [==============================] - 0s 20ms/step\n",
      "1/1 [==============================] - 0s 20ms/step\n",
      "1/1 [==============================] - 0s 20ms/step\n",
      "1/1 [==============================] - 0s 21ms/step\n",
      "1/1 [==============================] - 0s 20ms/step\n",
      "1/1 [==============================] - 0s 20ms/step\n",
      "1/1 [==============================] - 0s 21ms/step\n",
      "1/1 [==============================] - 0s 21ms/step\n",
      "1/1 [==============================] - 0s 20ms/step\n",
      "1/1 [==============================] - 0s 20ms/step\n",
      "1/1 [==============================] - 0s 21ms/step\n",
      "1/1 [==============================] - 0s 21ms/step\n",
      "1/1 [==============================] - 0s 21ms/step\n",
      "1/1 [==============================] - 0s 20ms/step\n",
      "1/1 [==============================] - 0s 21ms/step\n",
      "1/1 [==============================] - 0s 43ms/step\n",
      "1/1 [==============================] - 0s 20ms/step\n",
      "1/1 [==============================] - 0s 20ms/step\n",
      "1/1 [==============================] - 0s 22ms/step\n",
      "1/1 [==============================] - 0s 21ms/step\n",
      "1/1 [==============================] - 0s 21ms/step\n",
      "1/1 [==============================] - 0s 22ms/step\n",
      "1/1 [==============================] - 0s 21ms/step\n",
      "1/1 [==============================] - 0s 30ms/step\n",
      "1/1 [==============================] - 0s 31ms/step\n",
      "1/1 [==============================] - 0s 20ms/step\n",
      "1/1 [==============================] - 0s 20ms/step\n",
      "1/1 [==============================] - 0s 19ms/step\n",
      "1/1 [==============================] - 0s 22ms/step\n",
      "1/1 [==============================] - 0s 22ms/step\n",
      "1/1 [==============================] - 0s 20ms/step\n",
      "1/1 [==============================] - 0s 19ms/step\n",
      "1/1 [==============================] - 0s 21ms/step\n",
      "1/1 [==============================] - 0s 22ms/step\n",
      "1/1 [==============================] - 0s 24ms/step\n",
      "1/1 [==============================] - 0s 24ms/step\n",
      "1/1 [==============================] - 0s 20ms/step\n",
      "1/1 [==============================] - 0s 22ms/step\n",
      "1/1 [==============================] - 0s 20ms/step\n",
      "1/1 [==============================] - 0s 21ms/step\n",
      "1/1 [==============================] - 0s 21ms/step\n",
      "1/1 [==============================] - 0s 21ms/step\n",
      "1/1 [==============================] - 0s 20ms/step\n",
      "1/1 [==============================] - 0s 21ms/step\n",
      "1/1 [==============================] - 0s 20ms/step\n",
      "1/1 [==============================] - 0s 22ms/step\n",
      "1/1 [==============================] - 0s 20ms/step\n",
      "1/1 [==============================] - 0s 20ms/step\n",
      "1/1 [==============================] - 0s 19ms/step\n",
      "1/1 [==============================] - 0s 23ms/step\n",
      "1/1 [==============================] - 0s 20ms/step\n",
      "1/1 [==============================] - 0s 21ms/step\n",
      "1/1 [==============================] - 0s 20ms/step\n",
      "1/1 [==============================] - 0s 20ms/step\n",
      "1/1 [==============================] - 0s 19ms/step\n",
      "1/1 [==============================] - 0s 20ms/step\n",
      "1/1 [==============================] - 0s 21ms/step\n",
      "1/1 [==============================] - 0s 20ms/step\n",
      "1/1 [==============================] - 0s 37ms/step\n",
      "1/1 [==============================] - 0s 21ms/step\n",
      "1/1 [==============================] - 0s 19ms/step\n",
      "1/1 [==============================] - 0s 20ms/step\n",
      "1/1 [==============================] - 0s 20ms/step\n",
      "1/1 [==============================] - 0s 20ms/step\n",
      "1/1 [==============================] - 0s 19ms/step\n",
      "1/1 [==============================] - 0s 20ms/step\n",
      "1/1 [==============================] - 0s 21ms/step\n",
      "1/1 [==============================] - 0s 21ms/step\n",
      "1/1 [==============================] - 0s 20ms/step\n",
      "1/1 [==============================] - 0s 21ms/step\n",
      "1/1 [==============================] - 0s 20ms/step\n",
      "1/1 [==============================] - 0s 20ms/step\n",
      "1/1 [==============================] - 0s 20ms/step\n",
      "1/1 [==============================] - 0s 21ms/step\n",
      "1/1 [==============================] - 0s 19ms/step\n",
      "1/1 [==============================] - 0s 20ms/step\n",
      "1/1 [==============================] - 0s 22ms/step\n",
      "1/1 [==============================] - 0s 20ms/step\n",
      "1/1 [==============================] - 0s 21ms/step\n",
      "1/1 [==============================] - 0s 21ms/step\n",
      "1/1 [==============================] - 0s 20ms/step\n",
      "1/1 [==============================] - 0s 21ms/step\n",
      "1/1 [==============================] - 0s 21ms/step\n",
      "1/1 [==============================] - 0s 20ms/step\n",
      "1/1 [==============================] - 0s 22ms/step\n",
      "1/1 [==============================] - 0s 21ms/step\n",
      "1/1 [==============================] - 0s 21ms/step\n",
      "1/1 [==============================] - 0s 22ms/step\n",
      "1/1 [==============================] - 0s 20ms/step\n",
      "1/1 [==============================] - 0s 19ms/step\n",
      "1/1 [==============================] - 0s 22ms/step\n",
      "1/1 [==============================] - 0s 29ms/step\n",
      "1/1 [==============================] - 0s 20ms/step\n",
      "1/1 [==============================] - 0s 20ms/step\n",
      "1/1 [==============================] - 0s 20ms/step\n",
      "1/1 [==============================] - 0s 20ms/step\n",
      "1/1 [==============================] - 0s 20ms/step\n",
      "1/1 [==============================] - 0s 21ms/step\n",
      "1/1 [==============================] - 0s 20ms/step\n",
      "1/1 [==============================] - 0s 21ms/step\n",
      "1/1 [==============================] - 0s 21ms/step\n",
      "1/1 [==============================] - 0s 21ms/step\n",
      "1/1 [==============================] - 0s 20ms/step\n",
      "1/1 [==============================] - 0s 19ms/step\n",
      "1/1 [==============================] - 0s 20ms/step\n",
      "1/1 [==============================] - 0s 20ms/step\n",
      "1/1 [==============================] - 0s 28ms/step\n",
      "1/1 [==============================] - 0s 22ms/step\n",
      "1/1 [==============================] - 0s 21ms/step\n",
      "1/1 [==============================] - 0s 20ms/step\n",
      "1/1 [==============================] - 0s 23ms/step\n",
      "1/1 [==============================] - 0s 22ms/step\n",
      "1/1 [==============================] - 0s 21ms/step\n",
      "1/1 [==============================] - 0s 19ms/step\n",
      "1/1 [==============================] - 0s 21ms/step\n",
      "1/1 [==============================] - 0s 19ms/step\n",
      "1/1 [==============================] - 0s 27ms/step\n",
      "1/1 [==============================] - 0s 21ms/step\n",
      "1/1 [==============================] - 0s 20ms/step\n",
      "1/1 [==============================] - 0s 20ms/step\n",
      "1/1 [==============================] - 0s 20ms/step\n",
      "1/1 [==============================] - 0s 21ms/step\n",
      "1/1 [==============================] - 0s 21ms/step\n",
      "1/1 [==============================] - 0s 21ms/step\n",
      "1/1 [==============================] - 0s 19ms/step\n",
      "1/1 [==============================] - 0s 21ms/step\n",
      "1/1 [==============================] - 0s 20ms/step\n",
      "Epoch 1/25\n",
      "1094/1094 [==============================] - 11s 9ms/step - loss: 0.0066\n",
      "Epoch 2/25\n",
      "1094/1094 [==============================] - 10s 9ms/step - loss: 0.0015\n",
      "Epoch 3/25\n",
      "1094/1094 [==============================] - 9s 9ms/step - loss: 0.0012\n",
      "Epoch 4/25\n",
      "1094/1094 [==============================] - 9s 9ms/step - loss: 0.0010\n",
      "Epoch 5/25\n",
      "1094/1094 [==============================] - 9s 9ms/step - loss: 0.0010\n",
      "Epoch 6/25\n",
      "1094/1094 [==============================] - 10s 9ms/step - loss: 9.5011e-04\n",
      "Epoch 7/25\n",
      "1094/1094 [==============================] - 10s 9ms/step - loss: 8.6027e-04\n",
      "Epoch 8/25\n",
      "1094/1094 [==============================] - 9s 9ms/step - loss: 8.0179e-04\n",
      "Epoch 9/25\n",
      "1094/1094 [==============================] - 10s 9ms/step - loss: 8.3174e-04\n",
      "Epoch 10/25\n",
      "1094/1094 [==============================] - 10s 9ms/step - loss: 7.9962e-04\n",
      "Epoch 11/25\n",
      "1094/1094 [==============================] - 10s 9ms/step - loss: 7.8199e-04\n",
      "Epoch 12/25\n",
      "1094/1094 [==============================] - 11s 10ms/step - loss: 7.6153e-04\n",
      "Epoch 13/25\n",
      "1094/1094 [==============================] - 12s 11ms/step - loss: 7.7167e-04\n",
      "Epoch 14/25\n",
      "1094/1094 [==============================] - 10s 9ms/step - loss: 7.9012e-04\n",
      "Epoch 15/25\n",
      "1094/1094 [==============================] - 12s 11ms/step - loss: 7.4685e-04\n",
      "Epoch 16/25\n",
      "1094/1094 [==============================] - 11s 10ms/step - loss: 7.7385e-04\n",
      "Epoch 17/25\n",
      "1094/1094 [==============================] - 11s 10ms/step - loss: 7.3359e-04\n",
      "Epoch 18/25\n",
      "1094/1094 [==============================] - 11s 10ms/step - loss: 7.4456e-04\n",
      "Epoch 19/25\n",
      "1094/1094 [==============================] - 12s 11ms/step - loss: 7.2304e-04\n",
      "Epoch 20/25\n",
      "1094/1094 [==============================] - 12s 11ms/step - loss: 7.1221e-04\n",
      "Epoch 21/25\n",
      "1094/1094 [==============================] - 12s 11ms/step - loss: 7.4391e-04\n",
      "Epoch 22/25\n",
      "1094/1094 [==============================] - 11s 10ms/step - loss: 6.9825e-04\n",
      "Epoch 23/25\n",
      "1094/1094 [==============================] - 11s 10ms/step - loss: 7.0305e-04\n",
      "Epoch 24/25\n",
      "1094/1094 [==============================] - 12s 11ms/step - loss: 7.1200e-04\n",
      "Epoch 25/25\n",
      "1094/1094 [==============================] - 11s 10ms/step - loss: 7.0985e-04\n",
      "1/1 [==============================] - 0s 232ms/step\n",
      "1/1 [==============================] - 0s 30ms/step\n",
      "1/1 [==============================] - 0s 30ms/step\n",
      "1/1 [==============================] - 0s 26ms/step\n",
      "1/1 [==============================] - 0s 26ms/step\n",
      "1/1 [==============================] - 0s 25ms/step\n",
      "1/1 [==============================] - 0s 26ms/step\n",
      "1/1 [==============================] - 0s 27ms/step\n",
      "1/1 [==============================] - 0s 26ms/step\n",
      "1/1 [==============================] - 0s 28ms/step\n",
      "1/1 [==============================] - 0s 30ms/step\n",
      "1/1 [==============================] - 0s 32ms/step\n",
      "1/1 [==============================] - 0s 30ms/step\n",
      "1/1 [==============================] - 0s 32ms/step\n",
      "1/1 [==============================] - 0s 32ms/step\n",
      "1/1 [==============================] - 0s 30ms/step\n",
      "1/1 [==============================] - 0s 32ms/step\n",
      "1/1 [==============================] - 0s 32ms/step\n",
      "1/1 [==============================] - 0s 32ms/step\n",
      "1/1 [==============================] - 0s 30ms/step\n",
      "1/1 [==============================] - 0s 31ms/step\n",
      "1/1 [==============================] - 0s 23ms/step\n",
      "1/1 [==============================] - 0s 24ms/step\n",
      "1/1 [==============================] - 0s 29ms/step\n",
      "1/1 [==============================] - 0s 28ms/step\n",
      "1/1 [==============================] - 0s 26ms/step\n",
      "1/1 [==============================] - 0s 25ms/step\n",
      "1/1 [==============================] - 0s 26ms/step\n",
      "1/1 [==============================] - 0s 26ms/step\n",
      "1/1 [==============================] - 0s 26ms/step\n",
      "1/1 [==============================] - 0s 26ms/step\n",
      "1/1 [==============================] - 0s 27ms/step\n",
      "1/1 [==============================] - 0s 28ms/step\n",
      "1/1 [==============================] - 0s 26ms/step\n",
      "1/1 [==============================] - 0s 27ms/step\n",
      "1/1 [==============================] - 0s 28ms/step\n",
      "1/1 [==============================] - 0s 23ms/step\n",
      "1/1 [==============================] - 0s 30ms/step\n",
      "1/1 [==============================] - 0s 28ms/step\n",
      "1/1 [==============================] - 0s 25ms/step\n",
      "1/1 [==============================] - 0s 26ms/step\n",
      "1/1 [==============================] - 0s 25ms/step\n",
      "1/1 [==============================] - 0s 28ms/step\n",
      "1/1 [==============================] - 0s 25ms/step\n",
      "1/1 [==============================] - 0s 27ms/step\n",
      "1/1 [==============================] - 0s 27ms/step\n",
      "1/1 [==============================] - 0s 26ms/step\n",
      "1/1 [==============================] - 0s 25ms/step\n",
      "1/1 [==============================] - 0s 28ms/step\n",
      "1/1 [==============================] - 0s 24ms/step\n"
     ]
    },
    {
     "name": "stdout",
     "output_type": "stream",
     "text": [
      "1/1 [==============================] - 0s 27ms/step\n",
      "1/1 [==============================] - 0s 23ms/step\n",
      "1/1 [==============================] - 0s 25ms/step\n",
      "1/1 [==============================] - 0s 29ms/step\n",
      "1/1 [==============================] - 0s 25ms/step\n",
      "1/1 [==============================] - 0s 28ms/step\n",
      "1/1 [==============================] - 0s 25ms/step\n",
      "1/1 [==============================] - 0s 26ms/step\n",
      "1/1 [==============================] - 0s 22ms/step\n",
      "1/1 [==============================] - 0s 27ms/step\n",
      "1/1 [==============================] - 0s 28ms/step\n",
      "1/1 [==============================] - 0s 30ms/step\n",
      "1/1 [==============================] - 0s 25ms/step\n",
      "1/1 [==============================] - 0s 27ms/step\n",
      "1/1 [==============================] - 0s 28ms/step\n",
      "1/1 [==============================] - 0s 24ms/step\n",
      "1/1 [==============================] - 0s 26ms/step\n",
      "1/1 [==============================] - 0s 26ms/step\n",
      "1/1 [==============================] - 0s 28ms/step\n",
      "1/1 [==============================] - 0s 26ms/step\n",
      "1/1 [==============================] - 0s 28ms/step\n",
      "1/1 [==============================] - 0s 28ms/step\n",
      "1/1 [==============================] - 0s 24ms/step\n",
      "1/1 [==============================] - 0s 27ms/step\n",
      "1/1 [==============================] - 0s 25ms/step\n",
      "1/1 [==============================] - 0s 27ms/step\n",
      "1/1 [==============================] - 0s 26ms/step\n",
      "1/1 [==============================] - 0s 23ms/step\n",
      "1/1 [==============================] - 0s 27ms/step\n",
      "1/1 [==============================] - 0s 29ms/step\n",
      "1/1 [==============================] - 0s 30ms/step\n",
      "1/1 [==============================] - 0s 24ms/step\n",
      "1/1 [==============================] - 0s 26ms/step\n",
      "1/1 [==============================] - 0s 31ms/step\n",
      "1/1 [==============================] - 0s 23ms/step\n",
      "1/1 [==============================] - 0s 28ms/step\n",
      "1/1 [==============================] - 0s 25ms/step\n",
      "1/1 [==============================] - 0s 24ms/step\n",
      "1/1 [==============================] - 0s 26ms/step\n",
      "1/1 [==============================] - 0s 25ms/step\n",
      "1/1 [==============================] - 0s 25ms/step\n",
      "1/1 [==============================] - 0s 22ms/step\n",
      "1/1 [==============================] - 0s 30ms/step\n",
      "1/1 [==============================] - 0s 26ms/step\n",
      "1/1 [==============================] - 0s 25ms/step\n",
      "1/1 [==============================] - 0s 27ms/step\n",
      "1/1 [==============================] - 0s 24ms/step\n",
      "1/1 [==============================] - 0s 30ms/step\n",
      "1/1 [==============================] - 0s 31ms/step\n",
      "1/1 [==============================] - 0s 31ms/step\n",
      "1/1 [==============================] - 0s 29ms/step\n",
      "1/1 [==============================] - 0s 26ms/step\n",
      "1/1 [==============================] - 0s 30ms/step\n",
      "1/1 [==============================] - 0s 35ms/step\n",
      "1/1 [==============================] - 0s 28ms/step\n",
      "1/1 [==============================] - 0s 28ms/step\n",
      "1/1 [==============================] - 0s 30ms/step\n",
      "1/1 [==============================] - 0s 31ms/step\n",
      "1/1 [==============================] - 0s 26ms/step\n",
      "1/1 [==============================] - 0s 30ms/step\n",
      "1/1 [==============================] - 0s 24ms/step\n",
      "1/1 [==============================] - 0s 25ms/step\n",
      "1/1 [==============================] - 0s 26ms/step\n",
      "1/1 [==============================] - 0s 22ms/step\n",
      "1/1 [==============================] - 0s 26ms/step\n",
      "1/1 [==============================] - 0s 26ms/step\n",
      "1/1 [==============================] - 0s 24ms/step\n",
      "1/1 [==============================] - 0s 28ms/step\n",
      "1/1 [==============================] - 0s 26ms/step\n",
      "1/1 [==============================] - 0s 26ms/step\n",
      "1/1 [==============================] - 0s 24ms/step\n",
      "1/1 [==============================] - 0s 25ms/step\n",
      "1/1 [==============================] - 0s 25ms/step\n",
      "1/1 [==============================] - 0s 22ms/step\n",
      "1/1 [==============================] - 0s 22ms/step\n",
      "1/1 [==============================] - 0s 25ms/step\n",
      "1/1 [==============================] - 0s 25ms/step\n",
      "1/1 [==============================] - 0s 28ms/step\n",
      "1/1 [==============================] - 0s 26ms/step\n",
      "1/1 [==============================] - 0s 23ms/step\n",
      "1/1 [==============================] - 0s 26ms/step\n",
      "1/1 [==============================] - 0s 25ms/step\n",
      "1/1 [==============================] - 0s 23ms/step\n",
      "1/1 [==============================] - 0s 27ms/step\n",
      "1/1 [==============================] - 0s 26ms/step\n",
      "1/1 [==============================] - 0s 23ms/step\n",
      "1/1 [==============================] - 0s 26ms/step\n",
      "1/1 [==============================] - 0s 26ms/step\n",
      "1/1 [==============================] - 0s 27ms/step\n",
      "1/1 [==============================] - 0s 24ms/step\n",
      "1/1 [==============================] - 0s 24ms/step\n",
      "1/1 [==============================] - 0s 27ms/step\n",
      "1/1 [==============================] - 0s 26ms/step\n",
      "1/1 [==============================] - 0s 24ms/step\n",
      "1/1 [==============================] - 0s 27ms/step\n",
      "1/1 [==============================] - 0s 23ms/step\n",
      "1/1 [==============================] - 0s 24ms/step\n",
      "1/1 [==============================] - 0s 25ms/step\n",
      "1/1 [==============================] - 0s 24ms/step\n",
      "1/1 [==============================] - 0s 23ms/step\n",
      "1/1 [==============================] - 0s 23ms/step\n",
      "1/1 [==============================] - 0s 28ms/step\n",
      "1/1 [==============================] - 0s 23ms/step\n",
      "1/1 [==============================] - 0s 30ms/step\n",
      "1/1 [==============================] - 0s 27ms/step\n",
      "1/1 [==============================] - 0s 24ms/step\n",
      "1/1 [==============================] - 0s 24ms/step\n",
      "1/1 [==============================] - 0s 25ms/step\n",
      "1/1 [==============================] - 0s 25ms/step\n",
      "1/1 [==============================] - 0s 23ms/step\n",
      "1/1 [==============================] - 0s 23ms/step\n",
      "1/1 [==============================] - 0s 27ms/step\n",
      "1/1 [==============================] - 0s 26ms/step\n",
      "1/1 [==============================] - 0s 26ms/step\n",
      "1/1 [==============================] - 0s 25ms/step\n",
      "1/1 [==============================] - 0s 23ms/step\n",
      "1/1 [==============================] - 0s 27ms/step\n",
      "1/1 [==============================] - 0s 26ms/step\n",
      "1/1 [==============================] - 0s 23ms/step\n",
      "1/1 [==============================] - 0s 23ms/step\n",
      "1/1 [==============================] - 0s 27ms/step\n",
      "1/1 [==============================] - 0s 24ms/step\n",
      "1/1 [==============================] - 0s 27ms/step\n",
      "1/1 [==============================] - 0s 26ms/step\n",
      "1/1 [==============================] - 0s 25ms/step\n",
      "1/1 [==============================] - 0s 28ms/step\n",
      "1/1 [==============================] - 0s 25ms/step\n",
      "1/1 [==============================] - 0s 36ms/step\n",
      "1/1 [==============================] - 0s 24ms/step\n",
      "1/1 [==============================] - 0s 25ms/step\n",
      "Epoch 1/25\n",
      "1084/1084 [==============================] - 18s 14ms/step - loss: 0.0101\n",
      "Epoch 2/25\n",
      "1084/1084 [==============================] - 14s 13ms/step - loss: 0.0020\n",
      "Epoch 3/25\n",
      "1084/1084 [==============================] - 15s 14ms/step - loss: 0.0015\n",
      "Epoch 4/25\n",
      "1084/1084 [==============================] - 14s 13ms/step - loss: 0.0013\n",
      "Epoch 5/25\n",
      "1084/1084 [==============================] - 13s 12ms/step - loss: 0.0011\n",
      "Epoch 6/25\n",
      "1084/1084 [==============================] - 13s 12ms/step - loss: 9.4848e-04\n",
      "Epoch 7/25\n",
      "1084/1084 [==============================] - 13s 12ms/step - loss: 9.0584e-04\n",
      "Epoch 8/25\n",
      "1084/1084 [==============================] - 14s 13ms/step - loss: 8.6227e-04\n",
      "Epoch 9/25\n",
      "1084/1084 [==============================] - 13s 12ms/step - loss: 8.2601e-04\n",
      "Epoch 10/25\n",
      "1084/1084 [==============================] - 13s 12ms/step - loss: 7.7634e-04\n",
      "Epoch 11/25\n",
      "1084/1084 [==============================] - 13s 12ms/step - loss: 7.9830e-04\n",
      "Epoch 12/25\n",
      "1084/1084 [==============================] - 13s 12ms/step - loss: 7.5966e-04\n",
      "Epoch 13/25\n",
      "1084/1084 [==============================] - 13s 12ms/step - loss: 7.7634e-04\n",
      "Epoch 14/25\n",
      "1084/1084 [==============================] - 13s 12ms/step - loss: 7.1719e-04\n",
      "Epoch 15/25\n",
      "1084/1084 [==============================] - 13s 12ms/step - loss: 7.6480e-04\n",
      "Epoch 16/25\n",
      "1084/1084 [==============================] - 13s 12ms/step - loss: 7.9215e-04\n",
      "Epoch 17/25\n",
      "1084/1084 [==============================] - 12s 11ms/step - loss: 7.3779e-04\n",
      "Epoch 18/25\n",
      "1084/1084 [==============================] - 13s 12ms/step - loss: 7.3509e-04\n",
      "Epoch 19/25\n",
      "1084/1084 [==============================] - 13s 12ms/step - loss: 7.3724e-04\n",
      "Epoch 20/25\n",
      "1084/1084 [==============================] - 13s 12ms/step - loss: 7.2794e-04\n",
      "Epoch 21/25\n",
      "1084/1084 [==============================] - 13s 12ms/step - loss: 7.4737e-04\n",
      "Epoch 22/25\n",
      "1084/1084 [==============================] - 14s 13ms/step - loss: 6.9129e-04\n",
      "Epoch 23/25\n",
      "1084/1084 [==============================] - 13s 12ms/step - loss: 6.6932e-04\n",
      "Epoch 24/25\n",
      "1084/1084 [==============================] - 13s 12ms/step - loss: 6.9522e-04\n",
      "Epoch 25/25\n",
      "1084/1084 [==============================] - 12s 11ms/step - loss: 7.0039e-04\n",
      "1/1 [==============================] - 0s 191ms/step\n",
      "1/1 [==============================] - 0s 25ms/step\n",
      "1/1 [==============================] - 0s 24ms/step\n",
      "1/1 [==============================] - 0s 38ms/step\n",
      "1/1 [==============================] - 0s 23ms/step\n",
      "1/1 [==============================] - 0s 22ms/step\n",
      "1/1 [==============================] - 0s 25ms/step\n",
      "1/1 [==============================] - 0s 24ms/step\n",
      "1/1 [==============================] - 0s 23ms/step\n",
      "1/1 [==============================] - 0s 25ms/step\n",
      "1/1 [==============================] - 0s 23ms/step\n",
      "1/1 [==============================] - 0s 24ms/step\n",
      "1/1 [==============================] - 0s 25ms/step\n",
      "1/1 [==============================] - 0s 22ms/step\n",
      "1/1 [==============================] - 0s 23ms/step\n",
      "1/1 [==============================] - 0s 24ms/step\n",
      "1/1 [==============================] - 0s 25ms/step\n",
      "1/1 [==============================] - 0s 23ms/step\n",
      "1/1 [==============================] - 0s 23ms/step\n",
      "1/1 [==============================] - 0s 23ms/step\n",
      "1/1 [==============================] - 0s 31ms/step\n",
      "1/1 [==============================] - 0s 24ms/step\n",
      "1/1 [==============================] - 0s 23ms/step\n",
      "1/1 [==============================] - 0s 23ms/step\n",
      "1/1 [==============================] - 0s 22ms/step\n",
      "1/1 [==============================] - 0s 24ms/step\n",
      "1/1 [==============================] - 0s 23ms/step\n",
      "1/1 [==============================] - 0s 22ms/step\n",
      "1/1 [==============================] - 0s 22ms/step\n",
      "1/1 [==============================] - 0s 22ms/step\n",
      "1/1 [==============================] - 0s 23ms/step\n",
      "1/1 [==============================] - 0s 23ms/step\n",
      "1/1 [==============================] - 0s 23ms/step\n",
      "1/1 [==============================] - 0s 23ms/step\n",
      "1/1 [==============================] - 0s 26ms/step\n",
      "1/1 [==============================] - 0s 26ms/step\n",
      "1/1 [==============================] - 0s 30ms/step\n",
      "1/1 [==============================] - 0s 28ms/step\n",
      "1/1 [==============================] - 0s 28ms/step\n",
      "1/1 [==============================] - 0s 31ms/step\n",
      "1/1 [==============================] - 0s 24ms/step\n",
      "1/1 [==============================] - 0s 24ms/step\n",
      "1/1 [==============================] - 0s 23ms/step\n",
      "1/1 [==============================] - 0s 25ms/step\n",
      "1/1 [==============================] - 0s 24ms/step\n",
      "1/1 [==============================] - 0s 24ms/step\n",
      "1/1 [==============================] - 0s 27ms/step\n",
      "1/1 [==============================] - 0s 24ms/step\n",
      "1/1 [==============================] - 0s 25ms/step\n",
      "1/1 [==============================] - 0s 23ms/step\n",
      "1/1 [==============================] - 0s 29ms/step\n",
      "1/1 [==============================] - 0s 24ms/step\n",
      "1/1 [==============================] - 0s 23ms/step\n",
      "1/1 [==============================] - 0s 24ms/step\n",
      "1/1 [==============================] - 0s 24ms/step\n",
      "1/1 [==============================] - 0s 27ms/step\n",
      "1/1 [==============================] - 0s 24ms/step\n",
      "1/1 [==============================] - 0s 21ms/step\n",
      "1/1 [==============================] - 0s 24ms/step\n",
      "1/1 [==============================] - 0s 26ms/step\n",
      "1/1 [==============================] - 0s 23ms/step\n",
      "1/1 [==============================] - 0s 24ms/step\n",
      "1/1 [==============================] - 0s 27ms/step\n",
      "1/1 [==============================] - 0s 26ms/step\n",
      "1/1 [==============================] - 0s 23ms/step\n",
      "1/1 [==============================] - 0s 22ms/step\n",
      "1/1 [==============================] - 0s 22ms/step\n",
      "1/1 [==============================] - 0s 24ms/step\n",
      "1/1 [==============================] - 0s 24ms/step\n",
      "1/1 [==============================] - 0s 23ms/step\n",
      "1/1 [==============================] - 0s 23ms/step\n",
      "1/1 [==============================] - 0s 23ms/step\n",
      "1/1 [==============================] - 0s 22ms/step\n",
      "1/1 [==============================] - 0s 24ms/step\n",
      "1/1 [==============================] - 0s 24ms/step\n",
      "1/1 [==============================] - 0s 24ms/step\n",
      "1/1 [==============================] - 0s 25ms/step\n",
      "1/1 [==============================] - 0s 26ms/step\n",
      "1/1 [==============================] - 0s 25ms/step\n",
      "1/1 [==============================] - 0s 24ms/step\n",
      "1/1 [==============================] - 0s 23ms/step\n",
      "1/1 [==============================] - 0s 25ms/step\n",
      "1/1 [==============================] - 0s 27ms/step\n",
      "1/1 [==============================] - 0s 25ms/step\n",
      "1/1 [==============================] - 0s 24ms/step\n",
      "1/1 [==============================] - 0s 23ms/step\n",
      "1/1 [==============================] - 0s 24ms/step\n",
      "1/1 [==============================] - 0s 23ms/step\n",
      "1/1 [==============================] - 0s 25ms/step\n",
      "1/1 [==============================] - 0s 22ms/step\n",
      "1/1 [==============================] - 0s 25ms/step\n",
      "1/1 [==============================] - 0s 24ms/step\n",
      "1/1 [==============================] - 0s 24ms/step\n",
      "1/1 [==============================] - 0s 24ms/step\n",
      "1/1 [==============================] - 0s 23ms/step\n",
      "1/1 [==============================] - 0s 24ms/step\n",
      "1/1 [==============================] - 0s 23ms/step\n",
      "1/1 [==============================] - 0s 24ms/step\n",
      "1/1 [==============================] - 0s 24ms/step\n",
      "1/1 [==============================] - 0s 23ms/step\n",
      "1/1 [==============================] - 0s 25ms/step\n",
      "1/1 [==============================] - 0s 25ms/step\n",
      "1/1 [==============================] - 0s 24ms/step\n",
      "1/1 [==============================] - 0s 23ms/step\n",
      "1/1 [==============================] - 0s 28ms/step\n",
      "1/1 [==============================] - 0s 28ms/step\n",
      "1/1 [==============================] - 0s 31ms/step\n",
      "1/1 [==============================] - 0s 30ms/step\n",
      "1/1 [==============================] - 0s 29ms/step\n",
      "1/1 [==============================] - 0s 27ms/step\n",
      "1/1 [==============================] - 0s 25ms/step\n",
      "1/1 [==============================] - 0s 23ms/step\n",
      "1/1 [==============================] - 0s 22ms/step\n",
      "1/1 [==============================] - 0s 24ms/step\n",
      "1/1 [==============================] - 0s 24ms/step\n",
      "1/1 [==============================] - 0s 28ms/step\n",
      "1/1 [==============================] - 0s 27ms/step\n",
      "1/1 [==============================] - 0s 26ms/step\n",
      "1/1 [==============================] - 0s 25ms/step\n",
      "1/1 [==============================] - 0s 25ms/step\n",
      "1/1 [==============================] - 0s 25ms/step\n",
      "1/1 [==============================] - 0s 24ms/step\n",
      "1/1 [==============================] - 0s 32ms/step\n",
      "1/1 [==============================] - 0s 29ms/step\n",
      "1/1 [==============================] - 0s 23ms/step\n",
      "1/1 [==============================] - 0s 28ms/step\n",
      "1/1 [==============================] - 0s 27ms/step\n",
      "1/1 [==============================] - 0s 29ms/step\n",
      "1/1 [==============================] - 0s 25ms/step\n",
      "1/1 [==============================] - 0s 28ms/step\n",
      "1/1 [==============================] - 0s 22ms/step\n",
      "1/1 [==============================] - 0s 23ms/step\n",
      "1/1 [==============================] - 0s 32ms/step\n",
      "1/1 [==============================] - 0s 26ms/step\n",
      "1/1 [==============================] - 0s 24ms/step\n",
      "1/1 [==============================] - 0s 23ms/step\n",
      "1/1 [==============================] - 0s 24ms/step\n",
      "1/1 [==============================] - 0s 25ms/step\n",
      "1/1 [==============================] - 0s 25ms/step\n",
      "1/1 [==============================] - 0s 23ms/step\n",
      "1/1 [==============================] - 0s 22ms/step\n",
      "1/1 [==============================] - 0s 23ms/step\n"
     ]
    },
    {
     "name": "stdout",
     "output_type": "stream",
     "text": [
      "1/1 [==============================] - 0s 24ms/step\n",
      "1/1 [==============================] - 0s 24ms/step\n",
      "1/1 [==============================] - 0s 22ms/step\n",
      "1/1 [==============================] - 0s 23ms/step\n",
      "1/1 [==============================] - 0s 24ms/step\n",
      "1/1 [==============================] - 0s 24ms/step\n",
      "1/1 [==============================] - 0s 25ms/step\n",
      "1/1 [==============================] - 0s 25ms/step\n",
      "1/1 [==============================] - 0s 25ms/step\n",
      "1/1 [==============================] - 0s 24ms/step\n",
      "1/1 [==============================] - 0s 23ms/step\n",
      "1/1 [==============================] - 0s 24ms/step\n",
      "1/1 [==============================] - 0s 23ms/step\n",
      "1/1 [==============================] - 0s 24ms/step\n",
      "1/1 [==============================] - 0s 23ms/step\n",
      "1/1 [==============================] - 0s 24ms/step\n",
      "1/1 [==============================] - 0s 25ms/step\n",
      "1/1 [==============================] - 0s 23ms/step\n",
      "1/1 [==============================] - 0s 23ms/step\n",
      "1/1 [==============================] - 0s 21ms/step\n",
      "1/1 [==============================] - 0s 23ms/step\n",
      "1/1 [==============================] - 0s 22ms/step\n",
      "1/1 [==============================] - 0s 22ms/step\n",
      "1/1 [==============================] - 0s 25ms/step\n",
      "1/1 [==============================] - 0s 24ms/step\n",
      "1/1 [==============================] - 0s 25ms/step\n",
      "1/1 [==============================] - 0s 24ms/step\n",
      "1/1 [==============================] - 0s 23ms/step\n",
      "1/1 [==============================] - 0s 24ms/step\n",
      "1/1 [==============================] - 0s 23ms/step\n",
      "1/1 [==============================] - 0s 23ms/step\n",
      "1/1 [==============================] - 0s 23ms/step\n",
      "1/1 [==============================] - 0s 25ms/step\n",
      "1/1 [==============================] - 0s 25ms/step\n",
      "1/1 [==============================] - 0s 22ms/step\n",
      "1/1 [==============================] - 0s 25ms/step\n",
      "1/1 [==============================] - 0s 33ms/step\n",
      "1/1 [==============================] - 0s 23ms/step\n",
      "Epoch 1/25\n",
      "1074/1074 [==============================] - 18s 15ms/step - loss: 0.0068\n",
      "Epoch 2/25\n",
      "1074/1074 [==============================] - 16s 15ms/step - loss: 0.0017\n",
      "Epoch 3/25\n",
      "1074/1074 [==============================] - 17s 15ms/step - loss: 0.0013\n",
      "Epoch 4/25\n",
      "1074/1074 [==============================] - 16s 15ms/step - loss: 0.0012\n",
      "Epoch 5/25\n",
      "1074/1074 [==============================] - 15s 14ms/step - loss: 0.0010\n",
      "Epoch 6/25\n",
      "1074/1074 [==============================] - 15s 14ms/step - loss: 9.4837e-04\n",
      "Epoch 7/25\n",
      "1074/1074 [==============================] - 16s 15ms/step - loss: 8.7465e-04\n",
      "Epoch 8/25\n",
      "1074/1074 [==============================] - 16s 15ms/step - loss: 8.3762e-04\n",
      "Epoch 9/25\n",
      "1074/1074 [==============================] - 16s 15ms/step - loss: 8.2851e-04\n",
      "Epoch 10/25\n",
      "1074/1074 [==============================] - 16s 15ms/step - loss: 7.6305e-04\n",
      "Epoch 11/25\n",
      "1074/1074 [==============================] - 15s 14ms/step - loss: 7.4449e-04\n",
      "Epoch 12/25\n",
      "1074/1074 [==============================] - 15s 14ms/step - loss: 7.9077e-04\n",
      "Epoch 13/25\n",
      "1074/1074 [==============================] - 16s 15ms/step - loss: 7.6420e-04\n",
      "Epoch 14/25\n",
      "1074/1074 [==============================] - 15s 14ms/step - loss: 7.6746e-04\n",
      "Epoch 15/25\n",
      "1074/1074 [==============================] - 15s 14ms/step - loss: 7.8215e-04\n",
      "Epoch 16/25\n",
      "1074/1074 [==============================] - 16s 15ms/step - loss: 7.2598e-04\n",
      "Epoch 17/25\n",
      "1074/1074 [==============================] - 15s 14ms/step - loss: 7.4948e-04\n",
      "Epoch 18/25\n",
      "1074/1074 [==============================] - 15s 14ms/step - loss: 7.3759e-04\n",
      "Epoch 19/25\n",
      "1074/1074 [==============================] - 16s 15ms/step - loss: 6.7897e-04\n",
      "Epoch 20/25\n",
      "1074/1074 [==============================] - 16s 15ms/step - loss: 7.2599e-04\n",
      "Epoch 21/25\n",
      "1074/1074 [==============================] - 15s 14ms/step - loss: 7.4053e-04\n",
      "Epoch 22/25\n",
      "1074/1074 [==============================] - 16s 15ms/step - loss: 6.8550e-04\n",
      "Epoch 23/25\n",
      "1074/1074 [==============================] - 15s 14ms/step - loss: 7.3021e-04\n",
      "Epoch 24/25\n",
      "1074/1074 [==============================] - 16s 15ms/step - loss: 6.8209e-04\n",
      "Epoch 25/25\n",
      "1074/1074 [==============================] - 17s 16ms/step - loss: 7.1403e-04\n",
      "1/1 [==============================] - 0s 215ms/step\n",
      "1/1 [==============================] - 0s 25ms/step\n",
      "1/1 [==============================] - 0s 26ms/step\n",
      "1/1 [==============================] - 0s 25ms/step\n",
      "1/1 [==============================] - 0s 23ms/step\n",
      "1/1 [==============================] - 0s 29ms/step\n",
      "1/1 [==============================] - 0s 24ms/step\n",
      "1/1 [==============================] - 0s 23ms/step\n",
      "1/1 [==============================] - 0s 26ms/step\n",
      "1/1 [==============================] - 0s 25ms/step\n",
      "1/1 [==============================] - 0s 23ms/step\n",
      "1/1 [==============================] - 0s 25ms/step\n",
      "1/1 [==============================] - 0s 24ms/step\n",
      "1/1 [==============================] - 0s 23ms/step\n",
      "1/1 [==============================] - 0s 24ms/step\n",
      "1/1 [==============================] - 0s 29ms/step\n",
      "1/1 [==============================] - 0s 25ms/step\n",
      "1/1 [==============================] - 0s 25ms/step\n",
      "1/1 [==============================] - 0s 22ms/step\n",
      "1/1 [==============================] - 0s 22ms/step\n",
      "1/1 [==============================] - 0s 23ms/step\n",
      "1/1 [==============================] - 0s 24ms/step\n",
      "1/1 [==============================] - 0s 23ms/step\n",
      "1/1 [==============================] - 0s 25ms/step\n",
      "1/1 [==============================] - 0s 25ms/step\n",
      "1/1 [==============================] - 0s 25ms/step\n",
      "1/1 [==============================] - 0s 24ms/step\n",
      "1/1 [==============================] - 0s 27ms/step\n",
      "1/1 [==============================] - 0s 25ms/step\n",
      "1/1 [==============================] - 0s 22ms/step\n",
      "1/1 [==============================] - 0s 23ms/step\n",
      "1/1 [==============================] - 0s 24ms/step\n",
      "1/1 [==============================] - 0s 22ms/step\n",
      "1/1 [==============================] - 0s 23ms/step\n",
      "1/1 [==============================] - 0s 26ms/step\n",
      "1/1 [==============================] - 0s 35ms/step\n",
      "1/1 [==============================] - 0s 26ms/step\n",
      "1/1 [==============================] - 0s 24ms/step\n",
      "1/1 [==============================] - 0s 30ms/step\n",
      "1/1 [==============================] - 0s 29ms/step\n",
      "1/1 [==============================] - 0s 29ms/step\n",
      "1/1 [==============================] - 0s 31ms/step\n",
      "1/1 [==============================] - 0s 28ms/step\n",
      "1/1 [==============================] - 0s 28ms/step\n",
      "1/1 [==============================] - 0s 32ms/step\n",
      "1/1 [==============================] - 0s 29ms/step\n",
      "1/1 [==============================] - 0s 31ms/step\n",
      "1/1 [==============================] - 0s 32ms/step\n",
      "1/1 [==============================] - 0s 30ms/step\n",
      "1/1 [==============================] - 0s 30ms/step\n",
      "1/1 [==============================] - 0s 35ms/step\n",
      "1/1 [==============================] - 0s 31ms/step\n",
      "1/1 [==============================] - 0s 28ms/step\n",
      "1/1 [==============================] - 0s 43ms/step\n",
      "1/1 [==============================] - 0s 29ms/step\n",
      "1/1 [==============================] - 0s 31ms/step\n",
      "1/1 [==============================] - 0s 29ms/step\n",
      "1/1 [==============================] - 0s 29ms/step\n",
      "1/1 [==============================] - 0s 32ms/step\n",
      "1/1 [==============================] - 0s 30ms/step\n",
      "1/1 [==============================] - 0s 30ms/step\n",
      "1/1 [==============================] - 0s 30ms/step\n",
      "1/1 [==============================] - 0s 35ms/step\n",
      "1/1 [==============================] - 0s 28ms/step\n",
      "1/1 [==============================] - 0s 35ms/step\n",
      "1/1 [==============================] - 0s 31ms/step\n",
      "1/1 [==============================] - 0s 24ms/step\n",
      "1/1 [==============================] - 0s 26ms/step\n",
      "1/1 [==============================] - 0s 24ms/step\n",
      "1/1 [==============================] - 0s 24ms/step\n",
      "1/1 [==============================] - 0s 23ms/step\n",
      "1/1 [==============================] - 0s 22ms/step\n",
      "1/1 [==============================] - 0s 25ms/step\n",
      "1/1 [==============================] - 0s 27ms/step\n",
      "1/1 [==============================] - 0s 29ms/step\n",
      "1/1 [==============================] - 0s 24ms/step\n",
      "1/1 [==============================] - 0s 25ms/step\n",
      "1/1 [==============================] - 0s 25ms/step\n",
      "1/1 [==============================] - 0s 26ms/step\n",
      "1/1 [==============================] - 0s 26ms/step\n",
      "1/1 [==============================] - 0s 28ms/step\n",
      "1/1 [==============================] - 0s 23ms/step\n",
      "1/1 [==============================] - 0s 26ms/step\n",
      "1/1 [==============================] - 0s 29ms/step\n",
      "1/1 [==============================] - 0s 26ms/step\n",
      "1/1 [==============================] - 0s 24ms/step\n",
      "1/1 [==============================] - 0s 26ms/step\n",
      "1/1 [==============================] - 0s 28ms/step\n",
      "1/1 [==============================] - 0s 25ms/step\n",
      "1/1 [==============================] - 0s 24ms/step\n",
      "1/1 [==============================] - 0s 24ms/step\n",
      "1/1 [==============================] - 0s 23ms/step\n",
      "1/1 [==============================] - 0s 24ms/step\n",
      "1/1 [==============================] - 0s 24ms/step\n",
      "1/1 [==============================] - 0s 25ms/step\n",
      "1/1 [==============================] - 0s 23ms/step\n",
      "1/1 [==============================] - 0s 23ms/step\n",
      "1/1 [==============================] - 0s 24ms/step\n",
      "1/1 [==============================] - 0s 25ms/step\n",
      "1/1 [==============================] - 0s 23ms/step\n",
      "1/1 [==============================] - 0s 61ms/step\n",
      "1/1 [==============================] - 0s 33ms/step\n",
      "1/1 [==============================] - 0s 30ms/step\n",
      "1/1 [==============================] - 0s 31ms/step\n",
      "1/1 [==============================] - 0s 30ms/step\n",
      "1/1 [==============================] - 0s 27ms/step\n",
      "1/1 [==============================] - 0s 30ms/step\n",
      "1/1 [==============================] - 0s 31ms/step\n",
      "1/1 [==============================] - 0s 28ms/step\n",
      "1/1 [==============================] - 0s 29ms/step\n",
      "1/1 [==============================] - 0s 26ms/step\n",
      "1/1 [==============================] - 0s 32ms/step\n",
      "1/1 [==============================] - 0s 28ms/step\n",
      "1/1 [==============================] - 0s 26ms/step\n",
      "1/1 [==============================] - 0s 27ms/step\n",
      "1/1 [==============================] - 0s 27ms/step\n",
      "1/1 [==============================] - 0s 32ms/step\n",
      "1/1 [==============================] - 0s 30ms/step\n",
      "1/1 [==============================] - 0s 31ms/step\n",
      "1/1 [==============================] - 0s 30ms/step\n",
      "1/1 [==============================] - 0s 30ms/step\n",
      "1/1 [==============================] - 0s 33ms/step\n",
      "1/1 [==============================] - 0s 35ms/step\n",
      "1/1 [==============================] - 0s 33ms/step\n",
      "1/1 [==============================] - 0s 29ms/step\n",
      "1/1 [==============================] - 0s 32ms/step\n",
      "1/1 [==============================] - 0s 32ms/step\n",
      "1/1 [==============================] - 0s 40ms/step\n",
      "1/1 [==============================] - 0s 28ms/step\n",
      "1/1 [==============================] - 0s 34ms/step\n",
      "1/1 [==============================] - 0s 31ms/step\n",
      "1/1 [==============================] - 0s 34ms/step\n",
      "1/1 [==============================] - 0s 34ms/step\n",
      "1/1 [==============================] - 0s 29ms/step\n",
      "1/1 [==============================] - 0s 29ms/step\n",
      "1/1 [==============================] - 0s 38ms/step\n",
      "1/1 [==============================] - 0s 37ms/step\n",
      "1/1 [==============================] - 0s 27ms/step\n",
      "1/1 [==============================] - 0s 28ms/step\n",
      "1/1 [==============================] - 0s 36ms/step\n",
      "1/1 [==============================] - 0s 29ms/step\n",
      "1/1 [==============================] - 0s 24ms/step\n",
      "1/1 [==============================] - 0s 30ms/step\n",
      "1/1 [==============================] - 0s 30ms/step\n",
      "1/1 [==============================] - 0s 25ms/step\n",
      "1/1 [==============================] - 0s 31ms/step\n",
      "1/1 [==============================] - 0s 37ms/step\n",
      "1/1 [==============================] - 0s 27ms/step\n",
      "1/1 [==============================] - 0s 27ms/step\n",
      "1/1 [==============================] - 0s 25ms/step\n",
      "1/1 [==============================] - 0s 27ms/step\n",
      "1/1 [==============================] - 0s 27ms/step\n",
      "1/1 [==============================] - 0s 32ms/step\n",
      "1/1 [==============================] - 0s 28ms/step\n",
      "1/1 [==============================] - 0s 27ms/step\n",
      "1/1 [==============================] - 0s 27ms/step\n",
      "1/1 [==============================] - 0s 26ms/step\n",
      "1/1 [==============================] - 0s 30ms/step\n",
      "1/1 [==============================] - 0s 32ms/step\n",
      "1/1 [==============================] - 0s 24ms/step\n",
      "1/1 [==============================] - 0s 31ms/step\n",
      "1/1 [==============================] - 0s 27ms/step\n",
      "1/1 [==============================] - 0s 34ms/step\n",
      "1/1 [==============================] - 0s 30ms/step\n",
      "1/1 [==============================] - 0s 31ms/step\n",
      "1/1 [==============================] - 0s 30ms/step\n",
      "1/1 [==============================] - 0s 33ms/step\n",
      "1/1 [==============================] - 0s 32ms/step\n",
      "1/1 [==============================] - 0s 26ms/step\n",
      "1/1 [==============================] - 0s 31ms/step\n",
      "1/1 [==============================] - 0s 26ms/step\n",
      "1/1 [==============================] - 0s 23ms/step\n",
      "1/1 [==============================] - 0s 29ms/step\n",
      "1/1 [==============================] - 0s 27ms/step\n",
      "1/1 [==============================] - 0s 24ms/step\n",
      "1/1 [==============================] - 0s 28ms/step\n",
      "1/1 [==============================] - 0s 25ms/step\n",
      "1/1 [==============================] - 0s 28ms/step\n",
      "1/1 [==============================] - 0s 28ms/step\n",
      "1/1 [==============================] - 0s 25ms/step\n",
      "Epoch 1/25\n",
      "1064/1064 [==============================] - 21s 18ms/step - loss: 0.0067\n",
      "Epoch 2/25\n",
      "1064/1064 [==============================] - 17s 16ms/step - loss: 0.0018\n",
      "Epoch 3/25\n",
      "1064/1064 [==============================] - 17s 16ms/step - loss: 0.0014\n",
      "Epoch 4/25\n",
      "1064/1064 [==============================] - 17s 16ms/step - loss: 0.0012\n",
      "Epoch 5/25\n",
      "1064/1064 [==============================] - 17s 16ms/step - loss: 0.0011\n",
      "Epoch 6/25\n",
      "1064/1064 [==============================] - 18s 17ms/step - loss: 9.0337e-04\n",
      "Epoch 7/25\n",
      "1064/1064 [==============================] - 17s 16ms/step - loss: 9.1092e-04\n",
      "Epoch 8/25\n",
      "1064/1064 [==============================] - 18s 17ms/step - loss: 9.1820e-04\n",
      "Epoch 9/25\n",
      "1064/1064 [==============================] - 18s 17ms/step - loss: 8.4455e-04\n",
      "Epoch 10/25\n",
      "1064/1064 [==============================] - 18s 17ms/step - loss: 7.4183e-04\n",
      "Epoch 11/25\n",
      "1064/1064 [==============================] - 18s 17ms/step - loss: 7.7801e-04\n",
      "Epoch 12/25\n",
      "1064/1064 [==============================] - 18s 17ms/step - loss: 7.1130e-04\n",
      "Epoch 13/25\n",
      "1064/1064 [==============================] - 17s 16ms/step - loss: 7.3468e-04\n",
      "Epoch 14/25\n",
      "1064/1064 [==============================] - 17s 16ms/step - loss: 7.3675e-04\n",
      "Epoch 15/25\n",
      "1064/1064 [==============================] - 17s 16ms/step - loss: 7.5766e-04\n",
      "Epoch 16/25\n",
      "1064/1064 [==============================] - 17s 16ms/step - loss: 7.2822e-04\n",
      "Epoch 17/25\n",
      "1064/1064 [==============================] - 17s 16ms/step - loss: 7.3595e-04\n",
      "Epoch 18/25\n",
      "1064/1064 [==============================] - 25s 24ms/step - loss: 7.3552e-04\n",
      "Epoch 19/25\n",
      "1064/1064 [==============================] - 30s 28ms/step - loss: 7.3621e-04\n",
      "Epoch 20/25\n",
      "1064/1064 [==============================] - 20s 19ms/step - loss: 6.9466e-04\n",
      "Epoch 21/25\n",
      "1064/1064 [==============================] - 20s 19ms/step - loss: 7.2850e-04\n",
      "Epoch 22/25\n",
      "1064/1064 [==============================] - 20s 19ms/step - loss: 6.6244e-04\n",
      "Epoch 23/25\n",
      "1064/1064 [==============================] - 21s 19ms/step - loss: 7.2724e-04\n",
      "Epoch 24/25\n",
      "1064/1064 [==============================] - 25s 24ms/step - loss: 7.0473e-04\n",
      "Epoch 25/25\n",
      "1064/1064 [==============================] - 21s 19ms/step - loss: 7.4343e-04\n",
      "1/1 [==============================] - 0s 316ms/step\n",
      "1/1 [==============================] - 0s 44ms/step\n",
      "1/1 [==============================] - 0s 25ms/step\n",
      "1/1 [==============================] - 0s 58ms/step\n",
      "1/1 [==============================] - 0s 61ms/step\n",
      "1/1 [==============================] - 0s 78ms/step\n",
      "1/1 [==============================] - 0s 78ms/step\n",
      "1/1 [==============================] - 0s 78ms/step\n",
      "1/1 [==============================] - 0s 64ms/step\n",
      "1/1 [==============================] - 0s 52ms/step\n"
     ]
    },
    {
     "name": "stdout",
     "output_type": "stream",
     "text": [
      "1/1 [==============================] - 0s 67ms/step\n",
      "1/1 [==============================] - 0s 82ms/step\n",
      "1/1 [==============================] - 0s 71ms/step\n",
      "1/1 [==============================] - 0s 87ms/step\n",
      "1/1 [==============================] - 0s 78ms/step\n",
      "1/1 [==============================] - 0s 71ms/step\n",
      "1/1 [==============================] - 0s 56ms/step\n",
      "1/1 [==============================] - 0s 42ms/step\n",
      "1/1 [==============================] - 0s 71ms/step\n",
      "1/1 [==============================] - 0s 45ms/step\n",
      "1/1 [==============================] - 0s 77ms/step\n",
      "1/1 [==============================] - 0s 81ms/step\n",
      "1/1 [==============================] - 0s 82ms/step\n",
      "1/1 [==============================] - 0s 34ms/step\n",
      "1/1 [==============================] - 0s 37ms/step\n",
      "1/1 [==============================] - 0s 33ms/step\n",
      "1/1 [==============================] - 0s 24ms/step\n",
      "1/1 [==============================] - 0s 26ms/step\n",
      "1/1 [==============================] - 0s 54ms/step\n",
      "1/1 [==============================] - 0s 46ms/step\n",
      "1/1 [==============================] - 0s 72ms/step\n",
      "1/1 [==============================] - 0s 94ms/step\n",
      "1/1 [==============================] - 0s 30ms/step\n",
      "1/1 [==============================] - 0s 53ms/step\n",
      "1/1 [==============================] - 0s 80ms/step\n",
      "1/1 [==============================] - 0s 81ms/step\n",
      "1/1 [==============================] - 0s 61ms/step\n",
      "1/1 [==============================] - 0s 41ms/step\n",
      "1/1 [==============================] - 0s 26ms/step\n",
      "1/1 [==============================] - 0s 63ms/step\n",
      "1/1 [==============================] - 0s 60ms/step\n",
      "1/1 [==============================] - 0s 42ms/step\n",
      "1/1 [==============================] - 0s 27ms/step\n",
      "1/1 [==============================] - 0s 28ms/step\n",
      "1/1 [==============================] - 0s 22ms/step\n",
      "1/1 [==============================] - 0s 67ms/step\n",
      "1/1 [==============================] - 0s 69ms/step\n",
      "1/1 [==============================] - 0s 56ms/step\n",
      "1/1 [==============================] - 0s 27ms/step\n",
      "1/1 [==============================] - 0s 47ms/step\n",
      "1/1 [==============================] - 0s 64ms/step\n",
      "1/1 [==============================] - 0s 92ms/step\n",
      "1/1 [==============================] - 0s 56ms/step\n",
      "1/1 [==============================] - 0s 88ms/step\n",
      "1/1 [==============================] - 0s 28ms/step\n",
      "1/1 [==============================] - 0s 28ms/step\n",
      "1/1 [==============================] - 0s 26ms/step\n",
      "1/1 [==============================] - 0s 27ms/step\n",
      "1/1 [==============================] - 0s 27ms/step\n",
      "1/1 [==============================] - 0s 26ms/step\n",
      "1/1 [==============================] - 0s 22ms/step\n",
      "1/1 [==============================] - 0s 54ms/step\n",
      "1/1 [==============================] - 0s 87ms/step\n",
      "1/1 [==============================] - 0s 33ms/step\n",
      "1/1 [==============================] - 0s 31ms/step\n",
      "1/1 [==============================] - 0s 28ms/step\n",
      "1/1 [==============================] - 0s 28ms/step\n",
      "1/1 [==============================] - 0s 26ms/step\n",
      "1/1 [==============================] - 0s 29ms/step\n",
      "1/1 [==============================] - 0s 52ms/step\n",
      "1/1 [==============================] - 0s 82ms/step\n",
      "1/1 [==============================] - 0s 69ms/step\n",
      "1/1 [==============================] - 0s 70ms/step\n",
      "1/1 [==============================] - 0s 54ms/step\n",
      "1/1 [==============================] - 0s 65ms/step\n",
      "1/1 [==============================] - 0s 72ms/step\n",
      "1/1 [==============================] - 0s 52ms/step\n",
      "1/1 [==============================] - 0s 74ms/step\n",
      "1/1 [==============================] - 0s 84ms/step\n",
      "1/1 [==============================] - 0s 52ms/step\n",
      "1/1 [==============================] - 0s 49ms/step\n",
      "1/1 [==============================] - 0s 29ms/step\n",
      "1/1 [==============================] - 0s 75ms/step\n",
      "1/1 [==============================] - 0s 81ms/step\n",
      "1/1 [==============================] - 0s 28ms/step\n",
      "1/1 [==============================] - 0s 28ms/step\n",
      "1/1 [==============================] - 0s 80ms/step\n",
      "1/1 [==============================] - 0s 82ms/step\n",
      "1/1 [==============================] - 0s 27ms/step\n",
      "1/1 [==============================] - 0s 80ms/step\n",
      "1/1 [==============================] - 0s 37ms/step\n",
      "1/1 [==============================] - 0s 52ms/step\n",
      "1/1 [==============================] - 0s 83ms/step\n",
      "1/1 [==============================] - 0s 30ms/step\n",
      "1/1 [==============================] - 0s 26ms/step\n",
      "1/1 [==============================] - 0s 41ms/step\n",
      "1/1 [==============================] - 0s 36ms/step\n",
      "1/1 [==============================] - 0s 25ms/step\n",
      "1/1 [==============================] - 0s 26ms/step\n",
      "1/1 [==============================] - 0s 22ms/step\n",
      "1/1 [==============================] - 0s 28ms/step\n",
      "1/1 [==============================] - 0s 25ms/step\n",
      "1/1 [==============================] - 0s 51ms/step\n",
      "1/1 [==============================] - 0s 66ms/step\n",
      "1/1 [==============================] - 0s 67ms/step\n",
      "1/1 [==============================] - 0s 44ms/step\n",
      "1/1 [==============================] - 0s 24ms/step\n",
      "1/1 [==============================] - 0s 42ms/step\n",
      "1/1 [==============================] - 0s 73ms/step\n",
      "1/1 [==============================] - 0s 85ms/step\n",
      "1/1 [==============================] - 0s 25ms/step\n",
      "1/1 [==============================] - 0s 54ms/step\n",
      "1/1 [==============================] - 0s 41ms/step\n",
      "1/1 [==============================] - 0s 24ms/step\n",
      "1/1 [==============================] - 0s 25ms/step\n",
      "1/1 [==============================] - 0s 48ms/step\n",
      "1/1 [==============================] - 0s 42ms/step\n",
      "1/1 [==============================] - 0s 56ms/step\n",
      "1/1 [==============================] - 0s 35ms/step\n",
      "1/1 [==============================] - 0s 83ms/step\n",
      "1/1 [==============================] - 0s 67ms/step\n",
      "1/1 [==============================] - 0s 81ms/step\n",
      "1/1 [==============================] - 0s 71ms/step\n",
      "1/1 [==============================] - 0s 26ms/step\n",
      "1/1 [==============================] - 0s 39ms/step\n",
      "1/1 [==============================] - 0s 72ms/step\n",
      "1/1 [==============================] - 0s 82ms/step\n",
      "1/1 [==============================] - 0s 39ms/step\n",
      "1/1 [==============================] - 0s 26ms/step\n",
      "1/1 [==============================] - 0s 26ms/step\n",
      "1/1 [==============================] - 0s 26ms/step\n",
      "1/1 [==============================] - 0s 63ms/step\n",
      "1/1 [==============================] - 0s 82ms/step\n",
      "1/1 [==============================] - 0s 84ms/step\n",
      "1/1 [==============================] - 0s 89ms/step\n",
      "1/1 [==============================] - 0s 53ms/step\n",
      "1/1 [==============================] - 0s 67ms/step\n",
      "1/1 [==============================] - 0s 61ms/step\n",
      "1/1 [==============================] - 0s 83ms/step\n",
      "1/1 [==============================] - 0s 77ms/step\n",
      "1/1 [==============================] - 0s 71ms/step\n",
      "1/1 [==============================] - 0s 41ms/step\n",
      "1/1 [==============================] - 0s 24ms/step\n",
      "1/1 [==============================] - 0s 78ms/step\n",
      "1/1 [==============================] - 0s 61ms/step\n",
      "1/1 [==============================] - 0s 51ms/step\n",
      "1/1 [==============================] - 0s 90ms/step\n",
      "1/1 [==============================] - 0s 24ms/step\n",
      "1/1 [==============================] - 0s 27ms/step\n",
      "1/1 [==============================] - 0s 25ms/step\n",
      "1/1 [==============================] - 0s 24ms/step\n",
      "1/1 [==============================] - 0s 42ms/step\n",
      "1/1 [==============================] - 0s 45ms/step\n",
      "1/1 [==============================] - 0s 37ms/step\n",
      "1/1 [==============================] - 0s 50ms/step\n",
      "1/1 [==============================] - 0s 87ms/step\n",
      "1/1 [==============================] - 0s 28ms/step\n",
      "1/1 [==============================] - 0s 80ms/step\n",
      "1/1 [==============================] - 0s 26ms/step\n",
      "1/1 [==============================] - 0s 70ms/step\n",
      "1/1 [==============================] - 0s 56ms/step\n",
      "1/1 [==============================] - 0s 82ms/step\n",
      "1/1 [==============================] - 0s 31ms/step\n",
      "1/1 [==============================] - 0s 54ms/step\n",
      "1/1 [==============================] - 0s 63ms/step\n",
      "1/1 [==============================] - 0s 77ms/step\n",
      "1/1 [==============================] - 0s 27ms/step\n",
      "1/1 [==============================] - 0s 25ms/step\n",
      "1/1 [==============================] - 0s 53ms/step\n",
      "1/1 [==============================] - 0s 78ms/step\n",
      "1/1 [==============================] - 0s 62ms/step\n",
      "1/1 [==============================] - 0s 25ms/step\n",
      "1/1 [==============================] - 0s 58ms/step\n",
      "1/1 [==============================] - 0s 24ms/step\n",
      "1/1 [==============================] - 0s 56ms/step\n",
      "1/1 [==============================] - 0s 31ms/step\n",
      "1/1 [==============================] - 0s 54ms/step\n",
      "1/1 [==============================] - 0s 56ms/step\n",
      "1/1 [==============================] - 0s 72ms/step\n",
      "1/1 [==============================] - 0s 56ms/step\n",
      "Timestep 20 has an rmse of 0.017536682244544254.\n",
      "Timestep 30 has an rmse of 0.018036320018463226.\n",
      "Timestep 40 has an rmse of 0.019453517364745744.\n",
      "Timestep 50 has an rmse of 0.027204263953219645.\n",
      "Timestep 60 has an rmse of 113371312727710.56.\n"
     ]
    },
    {
     "data": {
      "image/png": "[encoded data removed]",
      "text/plain": [
       "<Figure size 432x288 with 1 Axes>"
      ]
     },
     "metadata": {
      "needs_background": "light"
     },
     "output_type": "display_data"
    }
   ],
   "source": [
    "timesteps = [20,30,40,50,60]\n",
    "rmse = []\n",
    "\n",
    "for step in timesteps:\n",
    "    train_generator = TimeseriesGenerator(scaled_train,scaled_train, length = step, batch_size=1)\n",
    "    model2 = Sequential()\n",
    "    model2.add(LSTM(150, activation='relu', input_shape=(step, 1)))\n",
    "    model2.add(Dense(1)) #output prediction\n",
    "    model2.compile(optimizer = 'adam', loss = 'mse')\n",
    "    model2.fit(train_generator,epochs = 25)\n",
    "    model2.history.history.keys()\n",
    "    plt.plot(range(len(model2.history.history['loss'])),model2.history.history['loss'], label = f\"Loss plot for Timestep:{step}\")\n",
    "    \n",
    "    first_eval_batch2 = scaled_train[-step:]\n",
    "    current_batch2 = first_eval_batch2.reshape((1,step,1))\n",
    "    \n",
    "    test_predictions2 = []\n",
    "    \n",
    "    for i in range(len(test_set['Close'])):\n",
    "    \n",
    "        current_pred2 = model2.predict(current_batch2)[0]\n",
    "    \n",
    "        #store the prediction\n",
    "        test_predictions2.append(current_pred2)\n",
    "\n",
    "        current_batch2 = np.append(current_batch2[:,1:,:],[[current_pred2]], axis = 1)\n",
    "    \n",
    "    predictions_true = scaler.inverse_transform(test_predictions2)\n",
    "    \n",
    "    original_test = test_set[['Close']]\n",
    "    \n",
    "    original_test['predictions'] = predictions_true\n",
    "    \n",
    "    \n",
    "    rms = mean_squared_error(original_test['Close'],original_test['predictions'],squared = False)\n",
    "    rmse.append(rms)\n",
    "    \n",
    "for i in range (len(rmse)):\n",
    "    print(f'Timestep {timesteps[i]} has an rmse of {rmse[i]}.')"
   ]
  },
  {
   "cell_type": "markdown",
   "id": "ad9cd594",
   "metadata": {},
   "source": [
    "From the results above, we see that time steps of 20 gave the best results and the rmse is lower than that of the previous models. But even with the rmse, the model is still not able to predict the trends in the prices. Even if it cant get the exact price, its tsill not able to correctly predict whether there is an increase or decrease"
   ]
  },
  {
   "cell_type": "markdown",
   "id": "a3604376",
   "metadata": {},
   "source": [
    "3. I'll add another LSTM layer\n",
    "Lets add an LSTM layer to see how ir performs(you can also add dropout if you fear there is overfitting)"
   ]
  },
  {
   "cell_type": "code",
   "execution_count": 769,
   "id": "941a70b7",
   "metadata": {},
   "outputs": [
    {
     "name": "stdout",
     "output_type": "stream",
     "text": [
      "Epoch 1/30\n",
      "1104/1104 [==============================] - 16s 12ms/step - loss: 0.0059\n",
      "Epoch 2/30\n",
      "1104/1104 [==============================] - 13s 12ms/step - loss: 0.0023\n",
      "Epoch 3/30\n",
      "1104/1104 [==============================] - 13s 12ms/step - loss: 0.0017\n",
      "Epoch 4/30\n",
      "1104/1104 [==============================] - 13s 12ms/step - loss: 0.0014\n",
      "Epoch 5/30\n",
      "1104/1104 [==============================] - 13s 12ms/step - loss: 0.0012\n",
      "Epoch 6/30\n",
      "1104/1104 [==============================] - 14s 12ms/step - loss: 0.0011\n",
      "Epoch 7/30\n",
      "1104/1104 [==============================] - 13s 12ms/step - loss: 9.8755e-04\n",
      "Epoch 8/30\n",
      "1104/1104 [==============================] - 13s 12ms/step - loss: 9.7189e-04\n",
      "Epoch 9/30\n",
      "1104/1104 [==============================] - 13s 12ms/step - loss: 9.9939e-04\n",
      "Epoch 10/30\n",
      "1104/1104 [==============================] - 14s 12ms/step - loss: 9.6275e-04\n",
      "Epoch 11/30\n",
      "1104/1104 [==============================] - 13s 12ms/step - loss: 9.2973e-04\n",
      "Epoch 12/30\n",
      "1104/1104 [==============================] - 13s 12ms/step - loss: 9.2520e-04\n",
      "Epoch 13/30\n",
      "1104/1104 [==============================] - 13s 12ms/step - loss: 8.2667e-04\n",
      "Epoch 14/30\n",
      "1104/1104 [==============================] - 13s 12ms/step - loss: 7.9371e-04\n",
      "Epoch 15/30\n",
      "1104/1104 [==============================] - 13s 12ms/step - loss: 8.0511e-04\n",
      "Epoch 16/30\n",
      "1104/1104 [==============================] - 13s 12ms/step - loss: 8.4500e-04\n",
      "Epoch 17/30\n",
      "1104/1104 [==============================] - 13s 11ms/step - loss: 7.9054e-04\n",
      "Epoch 18/30\n",
      "1104/1104 [==============================] - 13s 12ms/step - loss: 8.4894e-04\n",
      "Epoch 19/30\n",
      "1104/1104 [==============================] - 13s 12ms/step - loss: 7.8206e-04\n",
      "Epoch 20/30\n",
      "1104/1104 [==============================] - 13s 12ms/step - loss: 7.8127e-04\n",
      "Epoch 21/30\n",
      "1104/1104 [==============================] - 13s 12ms/step - loss: 8.0698e-04\n",
      "Epoch 22/30\n",
      "1104/1104 [==============================] - 13s 12ms/step - loss: 7.9750e-04\n",
      "Epoch 23/30\n",
      "1104/1104 [==============================] - 13s 12ms/step - loss: 7.3020e-04\n",
      "Epoch 24/30\n",
      "1104/1104 [==============================] - 13s 12ms/step - loss: 7.6968e-04\n",
      "Epoch 25/30\n",
      "1104/1104 [==============================] - 13s 12ms/step - loss: 8.0628e-04\n",
      "Epoch 26/30\n",
      "1104/1104 [==============================] - 13s 12ms/step - loss: 7.5521e-04\n",
      "Epoch 27/30\n",
      "1104/1104 [==============================] - 13s 12ms/step - loss: 7.8172e-04\n",
      "Epoch 28/30\n",
      "1104/1104 [==============================] - 13s 12ms/step - loss: 7.4064e-04\n",
      "Epoch 29/30\n",
      "1104/1104 [==============================] - 13s 12ms/step - loss: 7.5290e-04\n",
      "Epoch 30/30\n",
      "1104/1104 [==============================] - 13s 12ms/step - loss: 7.2182e-04\n",
      "1/1 [==============================] - 0s 22ms/step\n",
      "1/1 [==============================] - 0s 20ms/step\n",
      "1/1 [==============================] - 0s 21ms/step\n",
      "1/1 [==============================] - 0s 22ms/step\n",
      "1/1 [==============================] - 0s 21ms/step\n",
      "1/1 [==============================] - 0s 24ms/step\n",
      "1/1 [==============================] - 0s 22ms/step\n",
      "1/1 [==============================] - 0s 22ms/step\n",
      "1/1 [==============================] - 0s 24ms/step\n",
      "1/1 [==============================] - 0s 22ms/step\n",
      "1/1 [==============================] - 0s 25ms/step\n",
      "1/1 [==============================] - 0s 20ms/step\n",
      "1/1 [==============================] - 0s 22ms/step\n",
      "1/1 [==============================] - 0s 20ms/step\n",
      "1/1 [==============================] - 0s 22ms/step\n",
      "1/1 [==============================] - 0s 23ms/step\n",
      "1/1 [==============================] - 0s 21ms/step\n",
      "1/1 [==============================] - 0s 21ms/step\n",
      "1/1 [==============================] - 0s 21ms/step\n",
      "1/1 [==============================] - 0s 21ms/step\n",
      "1/1 [==============================] - 0s 21ms/step\n",
      "1/1 [==============================] - 0s 21ms/step\n",
      "1/1 [==============================] - 0s 22ms/step\n",
      "1/1 [==============================] - 0s 22ms/step\n",
      "1/1 [==============================] - 0s 22ms/step\n",
      "1/1 [==============================] - 0s 20ms/step\n",
      "1/1 [==============================] - 0s 20ms/step\n",
      "1/1 [==============================] - 0s 28ms/step\n",
      "1/1 [==============================] - 0s 20ms/step\n",
      "1/1 [==============================] - 0s 22ms/step\n",
      "1/1 [==============================] - 0s 21ms/step\n",
      "1/1 [==============================] - 0s 21ms/step\n",
      "1/1 [==============================] - 0s 21ms/step\n",
      "1/1 [==============================] - 0s 23ms/step\n",
      "1/1 [==============================] - 0s 22ms/step\n",
      "1/1 [==============================] - 0s 21ms/step\n",
      "1/1 [==============================] - 0s 23ms/step\n",
      "1/1 [==============================] - 0s 21ms/step\n",
      "1/1 [==============================] - 0s 20ms/step\n",
      "1/1 [==============================] - 0s 20ms/step\n",
      "1/1 [==============================] - 0s 21ms/step\n",
      "1/1 [==============================] - 0s 23ms/step\n",
      "1/1 [==============================] - 0s 21ms/step\n",
      "1/1 [==============================] - 0s 22ms/step\n",
      "1/1 [==============================] - 0s 21ms/step\n",
      "1/1 [==============================] - 0s 21ms/step\n",
      "1/1 [==============================] - 0s 21ms/step\n",
      "1/1 [==============================] - 0s 21ms/step\n",
      "1/1 [==============================] - 0s 21ms/step\n",
      "1/1 [==============================] - 0s 24ms/step\n",
      "1/1 [==============================] - 0s 21ms/step\n",
      "1/1 [==============================] - 0s 22ms/step\n",
      "1/1 [==============================] - 0s 22ms/step\n",
      "1/1 [==============================] - 0s 22ms/step\n",
      "1/1 [==============================] - 0s 22ms/step\n",
      "1/1 [==============================] - 0s 20ms/step\n",
      "1/1 [==============================] - 0s 20ms/step\n",
      "1/1 [==============================] - 0s 21ms/step\n",
      "1/1 [==============================] - 0s 22ms/step\n",
      "1/1 [==============================] - 0s 20ms/step\n",
      "1/1 [==============================] - 0s 21ms/step\n",
      "1/1 [==============================] - 0s 22ms/step\n",
      "1/1 [==============================] - 0s 20ms/step\n",
      "1/1 [==============================] - 0s 20ms/step\n",
      "1/1 [==============================] - 0s 22ms/step\n",
      "1/1 [==============================] - 0s 21ms/step\n",
      "1/1 [==============================] - 0s 23ms/step\n",
      "1/1 [==============================] - 0s 20ms/step\n",
      "1/1 [==============================] - 0s 22ms/step\n",
      "1/1 [==============================] - 0s 24ms/step\n",
      "1/1 [==============================] - 0s 22ms/step\n",
      "1/1 [==============================] - 0s 21ms/step\n",
      "1/1 [==============================] - 0s 21ms/step\n",
      "1/1 [==============================] - 0s 24ms/step\n",
      "1/1 [==============================] - 0s 20ms/step\n",
      "1/1 [==============================] - 0s 23ms/step\n",
      "1/1 [==============================] - 0s 21ms/step\n",
      "1/1 [==============================] - 0s 21ms/step\n",
      "1/1 [==============================] - 0s 22ms/step\n",
      "1/1 [==============================] - 0s 21ms/step\n",
      "1/1 [==============================] - 0s 20ms/step\n",
      "1/1 [==============================] - 0s 22ms/step\n",
      "1/1 [==============================] - 0s 22ms/step\n",
      "1/1 [==============================] - 0s 23ms/step\n",
      "1/1 [==============================] - 0s 23ms/step\n",
      "1/1 [==============================] - 0s 22ms/step\n",
      "1/1 [==============================] - 0s 22ms/step\n",
      "1/1 [==============================] - 0s 22ms/step\n",
      "1/1 [==============================] - 0s 21ms/step\n",
      "1/1 [==============================] - 0s 19ms/step\n",
      "1/1 [==============================] - 0s 21ms/step\n",
      "1/1 [==============================] - 0s 20ms/step\n",
      "1/1 [==============================] - 0s 21ms/step\n",
      "1/1 [==============================] - 0s 20ms/step\n",
      "1/1 [==============================] - 0s 22ms/step\n",
      "1/1 [==============================] - 0s 21ms/step\n",
      "1/1 [==============================] - 0s 23ms/step\n",
      "1/1 [==============================] - 0s 25ms/step\n",
      "1/1 [==============================] - 0s 22ms/step\n",
      "1/1 [==============================] - 0s 22ms/step\n",
      "1/1 [==============================] - 0s 22ms/step\n",
      "1/1 [==============================] - 0s 21ms/step\n",
      "1/1 [==============================] - 0s 22ms/step\n",
      "1/1 [==============================] - 0s 21ms/step\n",
      "1/1 [==============================] - 0s 21ms/step\n",
      "1/1 [==============================] - 0s 21ms/step\n",
      "1/1 [==============================] - 0s 22ms/step\n",
      "1/1 [==============================] - 0s 22ms/step\n",
      "1/1 [==============================] - 0s 20ms/step\n",
      "1/1 [==============================] - 0s 22ms/step\n",
      "1/1 [==============================] - 0s 22ms/step\n",
      "1/1 [==============================] - 0s 22ms/step\n",
      "1/1 [==============================] - 0s 21ms/step\n",
      "1/1 [==============================] - 0s 25ms/step\n",
      "1/1 [==============================] - 0s 20ms/step\n",
      "1/1 [==============================] - 0s 21ms/step\n",
      "1/1 [==============================] - 0s 22ms/step\n",
      "1/1 [==============================] - 0s 22ms/step\n",
      "1/1 [==============================] - 0s 21ms/step\n",
      "1/1 [==============================] - 0s 21ms/step\n",
      "1/1 [==============================] - 0s 21ms/step\n",
      "1/1 [==============================] - 0s 20ms/step\n",
      "1/1 [==============================] - 0s 20ms/step\n",
      "1/1 [==============================] - 0s 21ms/step\n",
      "1/1 [==============================] - 0s 22ms/step\n",
      "1/1 [==============================] - 0s 21ms/step\n",
      "1/1 [==============================] - 0s 22ms/step\n",
      "1/1 [==============================] - 0s 20ms/step\n",
      "1/1 [==============================] - 0s 21ms/step\n",
      "1/1 [==============================] - 0s 23ms/step\n",
      "1/1 [==============================] - 0s 20ms/step\n",
      "1/1 [==============================] - 0s 21ms/step\n",
      "1/1 [==============================] - 0s 22ms/step\n",
      "1/1 [==============================] - 0s 22ms/step\n",
      "1/1 [==============================] - 0s 21ms/step\n",
      "1/1 [==============================] - 0s 22ms/step\n",
      "1/1 [==============================] - 0s 22ms/step\n",
      "1/1 [==============================] - 0s 21ms/step\n",
      "1/1 [==============================] - 0s 21ms/step\n",
      "1/1 [==============================] - 0s 22ms/step\n",
      "1/1 [==============================] - 0s 22ms/step\n",
      "1/1 [==============================] - 0s 21ms/step\n",
      "1/1 [==============================] - 0s 21ms/step\n",
      "1/1 [==============================] - 0s 22ms/step\n",
      "1/1 [==============================] - 0s 22ms/step\n",
      "1/1 [==============================] - 0s 24ms/step\n",
      "1/1 [==============================] - 0s 22ms/step\n",
      "1/1 [==============================] - 0s 20ms/step\n",
      "1/1 [==============================] - 0s 22ms/step\n",
      "1/1 [==============================] - 0s 23ms/step\n",
      "1/1 [==============================] - 0s 21ms/step\n",
      "1/1 [==============================] - 0s 21ms/step\n",
      "1/1 [==============================] - 0s 21ms/step\n",
      "1/1 [==============================] - 0s 21ms/step\n",
      "1/1 [==============================] - 0s 21ms/step\n",
      "1/1 [==============================] - 0s 22ms/step\n",
      "1/1 [==============================] - 0s 21ms/step\n",
      "1/1 [==============================] - 0s 24ms/step\n",
      "1/1 [==============================] - 0s 19ms/step\n",
      "1/1 [==============================] - 0s 24ms/step\n",
      "1/1 [==============================] - 0s 21ms/step\n",
      "1/1 [==============================] - 0s 23ms/step\n",
      "1/1 [==============================] - 0s 22ms/step\n",
      "1/1 [==============================] - 0s 21ms/step\n",
      "1/1 [==============================] - 0s 21ms/step\n",
      "1/1 [==============================] - 0s 22ms/step\n",
      "1/1 [==============================] - 0s 36ms/step\n",
      "1/1 [==============================] - 0s 21ms/step\n",
      "1/1 [==============================] - 0s 22ms/step\n",
      "1/1 [==============================] - 0s 21ms/step\n",
      "1/1 [==============================] - 0s 20ms/step\n",
      "1/1 [==============================] - 0s 20ms/step\n",
      "1/1 [==============================] - 0s 21ms/step\n",
      "1/1 [==============================] - 0s 21ms/step\n",
      "1/1 [==============================] - 0s 21ms/step\n",
      "1/1 [==============================] - 0s 20ms/step\n",
      "1/1 [==============================] - 0s 30ms/step\n",
      "1/1 [==============================] - 0s 21ms/step\n",
      "1/1 [==============================] - 0s 22ms/step\n",
      "1/1 [==============================] - 0s 21ms/step\n"
     ]
    },
    {
     "data": {
      "image/png": "[encoded data removed]",
      "text/plain": [
       "<Figure size 432x288 with 1 Axes>"
      ]
     },
     "metadata": {
      "needs_background": "light"
     },
     "output_type": "display_data"
    }
   ],
   "source": [
    "train_gen = TimeseriesGenerator(scaled_train,scaled_train, length = 20, batch_size=1)\n",
    "stacked_model = Sequential()\n",
    "stacked_model.add(LSTM(150, activation='relu', input_shape=(20, 1), return_sequences=True))\n",
    "stacked_model.add(LSTM(150, activation='relu'))\n",
    "stacked_model.add(Dense(1)) #output prediction\n",
    "stacked_model.compile(optimizer = 'adam', loss = 'mse')\n",
    "stacked_model.fit(train_gen,epochs = 30)\n",
    "stacked_model.history.history.keys()\n",
    "plt.plot(range(len(stacked_model.history.history['loss'])),stacked_model.history.history['loss'])\n",
    "\n",
    "# This will hold the predictions as we go along\n",
    "test_predictions = []\n",
    "\n",
    "first_eval_batch = scaled_train[-20:]\n",
    "\n",
    "current_batch = first_eval_batch.reshape((1,20,1))\n",
    "\n",
    "for i in range(len(test_set['Close'])):\n",
    "    \n",
    "    current_pred = model.predict(current_batch)[0]\n",
    "\n",
    "    test_predictions.append(current_pred)\n",
    "\n",
    "    current_batch = np.append(current_batch[:,1:,:],[[current_pred]], axis = 1)\n",
    "    \n",
    "True_predictions = scaler.inverse_transform(test_predictions)\n",
    "    \n",
    "original_test = test_set[['Close']]\n",
    "\n",
    "original_test['predictions'] = True_predictions"
   ]
  },
  {
   "cell_type": "code",
   "execution_count": 770,
   "id": "06a3d5fd",
   "metadata": {},
   "outputs": [
    {
     "data": {
      "text/plain": [
       "<AxesSubplot:xlabel='Date'>"
      ]
     },
     "execution_count": 770,
     "metadata": {},
     "output_type": "execute_result"
    },
    {
     "data": {
      "image/png": "[encoded data removed]",
      "text/plain": [
       "<Figure size 432x288 with 1 Axes>"
      ]
     },
     "metadata": {
      "needs_background": "light"
     },
     "output_type": "display_data"
    }
   ],
   "source": [
    "original_test.plot(legend=True)"
   ]
  },
  {
   "cell_type": "code",
   "execution_count": 771,
   "id": "9dfd1bd9",
   "metadata": {},
   "outputs": [
    {
     "data": {
      "text/plain": [
       "0.03507562465172962"
      ]
     },
     "execution_count": 771,
     "metadata": {},
     "output_type": "execute_result"
    }
   ],
   "source": [
    "mean_squared_error(original_test['Close'],original_test['predictions'],squared = False)"
   ]
  },
  {
   "cell_type": "markdown",
   "id": "98f8c1f2",
   "metadata": {},
   "source": [
    "**Even if it doesnt get the values, was it able to get the trend?**\n",
    "   - This model has a higher RMSE than all the other models and also doesn't forecast the future trends properly"
   ]
  },
  {
   "cell_type": "markdown",
   "id": "7e186bf0",
   "metadata": {},
   "source": [
    "### Model 5 - Facebook Prophet"
   ]
  },
  {
   "cell_type": "code",
   "execution_count": null,
   "id": "3f473cef",
   "metadata": {},
   "outputs": [],
   "source": [
    "print('head')"
   ]
  },
  {
   "cell_type": "code",
   "execution_count": 1,
   "id": "c2dbce48",
   "metadata": {},
   "outputs": [
    {
     "name": "stdout",
     "output_type": "stream",
     "text": [
      "Collecting prophetNote: you may need to restart the kernel to use updated packages.\n",
      "  Downloading prophet-1.1.1-cp39-cp39-win_amd64.whl (12.1 MB)\n",
      "Requirement already satisfied: matplotlib>=2.0.0 in c:\\users\\olalawal\\anaconda3\\lib\\site-packages (from prophet) (3.5.1)\n",
      "Requirement already satisfied: tqdm>=4.36.1 in c:\\users\\olalawal\\anaconda3\\lib\\site-packages (from prophet) (4.64.0)\n",
      "Collecting cmdstanpy>=1.0.4\n",
      "  Downloading cmdstanpy-1.0.8-py3-none-any.whl (81 kB)\n",
      "\n",
      "Requirement already satisfied: python-dateutil>=2.8.0 in c:\\users\\olalawal\\anaconda3\\lib\\site-packages (from prophet) (2.8.2)\n",
      "Requirement already satisfied: pandas>=1.0.4 in c:\\users\\olalawal\\anaconda3\\lib\\site-packages (from prophet) (1.3.5)\n",
      "Requirement already satisfied: wheel>=0.37.0 in c:\\users\\olalawal\\anaconda3\\lib\\site-packages (from prophet) (0.37.1)\n",
      "Requirement already satisfied: numpy>=1.15.4 in c:\\users\\olalawal\\anaconda3\\lib\\site-packages (from prophet) (1.21.5)\n",
      "Collecting setuptools-git>=1.2\n",
      "  Downloading setuptools_git-1.2-py2.py3-none-any.whl (10 kB)\n",
      "Collecting convertdate>=2.1.2\n",
      "  Downloading convertdate-2.4.0-py3-none-any.whl (47 kB)\n",
      "Requirement already satisfied: setuptools>=42 in c:\\users\\olalawal\\anaconda3\\lib\\site-packages (from prophet) (61.2.0)\n",
      "Collecting holidays>=0.14.2\n",
      "  Downloading holidays-0.17.2-py3-none-any.whl (187 kB)\n",
      "Collecting LunarCalendar>=0.0.9\n",
      "  Downloading LunarCalendar-0.0.9-py2.py3-none-any.whl (18 kB)\n",
      "Collecting pymeeus<=1,>=0.3.13\n",
      "  Downloading PyMeeus-0.5.11.tar.gz (5.4 MB)\n",
      "Collecting hijri-converter\n",
      "  Downloading hijri_converter-2.2.4-py3-none-any.whl (14 kB)\n",
      "Collecting korean-lunar-calendar\n",
      "  Downloading korean_lunar_calendar-0.3.1-py3-none-any.whl (9.0 kB)\n",
      "Requirement already satisfied: pytz in c:\\users\\olalawal\\anaconda3\\lib\\site-packages (from LunarCalendar>=0.0.9->prophet) (2021.3)\n",
      "Collecting ephem>=3.7.5.3\n",
      "  Downloading ephem-4.1.3-cp39-cp39-win_amd64.whl (1.4 MB)\n",
      "Requirement already satisfied: fonttools>=4.22.0 in c:\\users\\olalawal\\anaconda3\\lib\\site-packages (from matplotlib>=2.0.0->prophet) (4.25.0)\n",
      "Requirement already satisfied: kiwisolver>=1.0.1 in c:\\users\\olalawal\\anaconda3\\lib\\site-packages (from matplotlib>=2.0.0->prophet) (1.3.2)\n",
      "Requirement already satisfied: cycler>=0.10 in c:\\users\\olalawal\\anaconda3\\lib\\site-packages (from matplotlib>=2.0.0->prophet) (0.11.0)\n",
      "Requirement already satisfied: pillow>=6.2.0 in c:\\users\\olalawal\\anaconda3\\lib\\site-packages (from matplotlib>=2.0.0->prophet) (9.1.0)\n",
      "Requirement already satisfied: pyparsing>=2.2.1 in c:\\users\\olalawal\\anaconda3\\lib\\site-packages (from matplotlib>=2.0.0->prophet) (3.0.4)\n",
      "Requirement already satisfied: packaging>=20.0 in c:\\users\\olalawal\\anaconda3\\lib\\site-packages (from matplotlib>=2.0.0->prophet) (21.3)\n",
      "Requirement already satisfied: six>=1.5 in c:\\users\\olalawal\\anaconda3\\lib\\site-packages (from python-dateutil>=2.8.0->prophet) (1.16.0)\n",
      "Requirement already satisfied: colorama in c:\\users\\olalawal\\anaconda3\\lib\\site-packages (from tqdm>=4.36.1->prophet) (0.4.4)\n",
      "Building wheels for collected packages: pymeeus\n",
      "  Building wheel for pymeeus (setup.py): started\n",
      "  Building wheel for pymeeus (setup.py): finished with status 'done'\n",
      "  Created wheel for pymeeus: filename=PyMeeus-0.5.11-py3-none-any.whl size=730985 sha256=0a65211df33a18f826c9dd05cf9eecc35be0c612c1d2a0440ca8c8d7c80bf5ef\n",
      "  Stored in directory: c:\\users\\olalawal\\appdata\\local\\pip\\cache\\wheels\\33\\3d\\82\\4579e9cca41ff991140b2e050bc6df3a38292f26e4fa06b15d\n",
      "Successfully built pymeeus\n",
      "Installing collected packages: pymeeus, korean-lunar-calendar, hijri-converter, ephem, convertdate, setuptools-git, LunarCalendar, holidays, cmdstanpy, prophet\n",
      "Successfully installed LunarCalendar-0.0.9 cmdstanpy-1.0.8 convertdate-2.4.0 ephem-4.1.3 hijri-converter-2.2.4 holidays-0.17.2 korean-lunar-calendar-0.3.1 prophet-1.1.1 pymeeus-0.5.11 setuptools-git-1.2\n"
     ]
    }
   ],
   "source": [
    "pip install prophet"
   ]
  },
  {
   "cell_type": "code",
   "execution_count": 2,
   "id": "301b7c32",
   "metadata": {},
   "outputs": [],
   "source": [
    "from prophet import Prophet"
   ]
  },
  {
   "cell_type": "markdown",
   "id": "9680fe82",
   "metadata": {},
   "source": [
    "Prophet expects the data to be in a particular format.\n",
    "- Date column needs to be called 'ds'\n",
    "- Date col needs to be a pandas datetime object\n",
    "- The target variable col needs to be called 'y'\n",
    "- prophet expects daily data tho it can accept monthly\n"
   ]
  },
  {
   "cell_type": "markdown",
   "id": "d9dea746",
   "metadata": {},
   "source": [
    "I'll clean the data to fit the format expected by Prophet"
   ]
  },
  {
   "cell_type": "code",
   "execution_count": 18,
   "id": "da4f5c95",
   "metadata": {},
   "outputs": [
    {
     "data": {
      "text/html": [
       "<div>\n",
       "<style scoped>\n",
       "    .dataframe tbody tr th:only-of-type {\n",
       "        vertical-align: middle;\n",
       "    }\n",
       "\n",
       "    .dataframe tbody tr th {\n",
       "        vertical-align: top;\n",
       "    }\n",
       "\n",
       "    .dataframe thead th {\n",
       "        text-align: right;\n",
       "    }\n",
       "</style>\n",
       "<table border=\"1\" class=\"dataframe\">\n",
       "  <thead>\n",
       "    <tr style=\"text-align: right;\">\n",
       "      <th></th>\n",
       "      <th>Date</th>\n",
       "      <th>Close</th>\n",
       "    </tr>\n",
       "  </thead>\n",
       "  <tbody>\n",
       "    <tr>\n",
       "      <th>0</th>\n",
       "      <td>2017-11-22</td>\n",
       "      <td>0.782840</td>\n",
       "    </tr>\n",
       "    <tr>\n",
       "      <th>1</th>\n",
       "      <td>2017-11-23</td>\n",
       "      <td>0.787092</td>\n",
       "    </tr>\n",
       "    <tr>\n",
       "      <th>2</th>\n",
       "      <td>2017-11-24</td>\n",
       "      <td>0.786621</td>\n",
       "    </tr>\n",
       "    <tr>\n",
       "      <th>3</th>\n",
       "      <td>2017-11-27</td>\n",
       "      <td>0.786535</td>\n",
       "    </tr>\n",
       "    <tr>\n",
       "      <th>4</th>\n",
       "      <td>2017-11-28</td>\n",
       "      <td>0.783797</td>\n",
       "    </tr>\n",
       "    <tr>\n",
       "      <th>...</th>\n",
       "      <td>...</td>\n",
       "      <td>...</td>\n",
       "    </tr>\n",
       "    <tr>\n",
       "      <th>1300</th>\n",
       "      <td>2022-11-16</td>\n",
       "      <td>0.753381</td>\n",
       "    </tr>\n",
       "    <tr>\n",
       "      <th>1301</th>\n",
       "      <td>2022-11-17</td>\n",
       "      <td>0.749878</td>\n",
       "    </tr>\n",
       "    <tr>\n",
       "      <th>1302</th>\n",
       "      <td>2022-11-18</td>\n",
       "      <td>0.750672</td>\n",
       "    </tr>\n",
       "    <tr>\n",
       "      <th>1303</th>\n",
       "      <td>2022-11-21</td>\n",
       "      <td>0.747557</td>\n",
       "    </tr>\n",
       "    <tr>\n",
       "      <th>1304</th>\n",
       "      <td>2022-11-22</td>\n",
       "      <td>0.747641</td>\n",
       "    </tr>\n",
       "  </tbody>\n",
       "</table>\n",
       "<p>1305 rows × 2 columns</p>\n",
       "</div>"
      ],
      "text/plain": [
       "            Date     Close\n",
       "0     2017-11-22  0.782840\n",
       "1     2017-11-23  0.787092\n",
       "2     2017-11-24  0.786621\n",
       "3     2017-11-27  0.786535\n",
       "4     2017-11-28  0.783797\n",
       "...          ...       ...\n",
       "1300  2022-11-16  0.753381\n",
       "1301  2022-11-17  0.749878\n",
       "1302  2022-11-18  0.750672\n",
       "1303  2022-11-21  0.747557\n",
       "1304  2022-11-22  0.747641\n",
       "\n",
       "[1305 rows x 2 columns]"
      ]
     },
     "execution_count": 18,
     "metadata": {},
     "output_type": "execute_result"
    }
   ],
   "source": [
    "prices = pd.read_csv(r'C:\\Users\\olalawal\\Downloads\\CADUSD.csv', usecols = ['Date', 'Close'] )\n",
    "prices"
   ]
  },
  {
   "cell_type": "markdown",
   "id": "dc50ad91",
   "metadata": {},
   "source": [
    "Change the column names"
   ]
  },
  {
   "cell_type": "code",
   "execution_count": 19,
   "id": "c28fd224",
   "metadata": {},
   "outputs": [],
   "source": [
    "prices.columns = ['ds','y']"
   ]
  },
  {
   "cell_type": "code",
   "execution_count": 20,
   "id": "20c9fcdd",
   "metadata": {},
   "outputs": [
    {
     "data": {
      "text/html": [
       "<div>\n",
       "<style scoped>\n",
       "    .dataframe tbody tr th:only-of-type {\n",
       "        vertical-align: middle;\n",
       "    }\n",
       "\n",
       "    .dataframe tbody tr th {\n",
       "        vertical-align: top;\n",
       "    }\n",
       "\n",
       "    .dataframe thead th {\n",
       "        text-align: right;\n",
       "    }\n",
       "</style>\n",
       "<table border=\"1\" class=\"dataframe\">\n",
       "  <thead>\n",
       "    <tr style=\"text-align: right;\">\n",
       "      <th></th>\n",
       "      <th>ds</th>\n",
       "      <th>y</th>\n",
       "    </tr>\n",
       "  </thead>\n",
       "  <tbody>\n",
       "    <tr>\n",
       "      <th>0</th>\n",
       "      <td>2017-11-22</td>\n",
       "      <td>0.782840</td>\n",
       "    </tr>\n",
       "    <tr>\n",
       "      <th>1</th>\n",
       "      <td>2017-11-23</td>\n",
       "      <td>0.787092</td>\n",
       "    </tr>\n",
       "    <tr>\n",
       "      <th>2</th>\n",
       "      <td>2017-11-24</td>\n",
       "      <td>0.786621</td>\n",
       "    </tr>\n",
       "    <tr>\n",
       "      <th>3</th>\n",
       "      <td>2017-11-27</td>\n",
       "      <td>0.786535</td>\n",
       "    </tr>\n",
       "    <tr>\n",
       "      <th>4</th>\n",
       "      <td>2017-11-28</td>\n",
       "      <td>0.783797</td>\n",
       "    </tr>\n",
       "    <tr>\n",
       "      <th>...</th>\n",
       "      <td>...</td>\n",
       "      <td>...</td>\n",
       "    </tr>\n",
       "    <tr>\n",
       "      <th>1300</th>\n",
       "      <td>2022-11-16</td>\n",
       "      <td>0.753381</td>\n",
       "    </tr>\n",
       "    <tr>\n",
       "      <th>1301</th>\n",
       "      <td>2022-11-17</td>\n",
       "      <td>0.749878</td>\n",
       "    </tr>\n",
       "    <tr>\n",
       "      <th>1302</th>\n",
       "      <td>2022-11-18</td>\n",
       "      <td>0.750672</td>\n",
       "    </tr>\n",
       "    <tr>\n",
       "      <th>1303</th>\n",
       "      <td>2022-11-21</td>\n",
       "      <td>0.747557</td>\n",
       "    </tr>\n",
       "    <tr>\n",
       "      <th>1304</th>\n",
       "      <td>2022-11-22</td>\n",
       "      <td>0.747641</td>\n",
       "    </tr>\n",
       "  </tbody>\n",
       "</table>\n",
       "<p>1305 rows × 2 columns</p>\n",
       "</div>"
      ],
      "text/plain": [
       "              ds         y\n",
       "0     2017-11-22  0.782840\n",
       "1     2017-11-23  0.787092\n",
       "2     2017-11-24  0.786621\n",
       "3     2017-11-27  0.786535\n",
       "4     2017-11-28  0.783797\n",
       "...          ...       ...\n",
       "1300  2022-11-16  0.753381\n",
       "1301  2022-11-17  0.749878\n",
       "1302  2022-11-18  0.750672\n",
       "1303  2022-11-21  0.747557\n",
       "1304  2022-11-22  0.747641\n",
       "\n",
       "[1305 rows x 2 columns]"
      ]
     },
     "execution_count": 20,
     "metadata": {},
     "output_type": "execute_result"
    }
   ],
   "source": [
    "prices"
   ]
  },
  {
   "cell_type": "code",
   "execution_count": 21,
   "id": "de4155a5",
   "metadata": {},
   "outputs": [],
   "source": [
    "prices['ds'] = pd.to_datetime(prices['ds'])"
   ]
  },
  {
   "cell_type": "markdown",
   "id": "8bca8174",
   "metadata": {},
   "source": [
    "### Train/Test Split"
   ]
  },
  {
   "cell_type": "markdown",
   "id": "dd91856f",
   "metadata": {},
   "source": [
    "I'll split the data same way I split for the other the models.\n",
    "Test set will have the last 9 months of data"
   ]
  },
  {
   "cell_type": "code",
   "execution_count": 64,
   "id": "bf9d148c",
   "metadata": {},
   "outputs": [],
   "source": [
    "train = prices[:1125]\n",
    "test = prices[1125:]"
   ]
  },
  {
   "cell_type": "markdown",
   "id": "dc26bdcc",
   "metadata": {},
   "source": [
    "Create the model\n",
    "\n",
    "- Prophet automatically checks if there is any seasonality & uses what it finds but you can override it"
   ]
  },
  {
   "cell_type": "code",
   "execution_count": 68,
   "id": "e0c3d5fa",
   "metadata": {},
   "outputs": [],
   "source": [
    "model = Prophet()"
   ]
  },
  {
   "cell_type": "markdown",
   "id": "0205332f",
   "metadata": {},
   "source": [
    "Fit to the training data"
   ]
  },
  {
   "cell_type": "code",
   "execution_count": 69,
   "id": "1fea61bb",
   "metadata": {},
   "outputs": [
    {
     "name": "stderr",
     "output_type": "stream",
     "text": [
      "23:10:08 - cmdstanpy - INFO - Chain [1] start processing\n",
      "23:10:09 - cmdstanpy - INFO - Chain [1] done processing\n"
     ]
    },
    {
     "data": {
      "text/plain": [
       "<prophet.forecaster.Prophet at 0x16fe1775a90>"
      ]
     },
     "execution_count": 69,
     "metadata": {},
     "output_type": "execute_result"
    }
   ],
   "source": [
    "model.fit(train)"
   ]
  },
  {
   "cell_type": "markdown",
   "id": "12c09e85",
   "metadata": {},
   "source": [
    "Make the future dataframe \n",
    "- This will hold both the current dates (in the train set) + the dates for the next periods that you specify\n",
    "- Since I want to predict 9 months (180 business days) into the future, I will use a period of 180"
   ]
  },
  {
   "cell_type": "code",
   "execution_count": 70,
   "id": "a8508251",
   "metadata": {},
   "outputs": [],
   "source": [
    "future = model.make_future_dataframe(periods = 180, freq='B')"
   ]
  },
  {
   "cell_type": "code",
   "execution_count": 71,
   "id": "102eb664",
   "metadata": {},
   "outputs": [],
   "source": [
    "forecast = model.predict(future)"
   ]
  },
  {
   "cell_type": "code",
   "execution_count": 72,
   "id": "baf70965",
   "metadata": {},
   "outputs": [
    {
     "data": {
      "text/plain": [
       "<AxesSubplot:xlabel='ds'>"
      ]
     },
     "execution_count": 72,
     "metadata": {},
     "output_type": "execute_result"
    },
    {
     "data": {
      "image/png": "[encoded data removed]",
      "text/plain": [
       "<Figure size 864x576 with 1 Axes>"
      ]
     },
     "metadata": {
      "needs_background": "light"
     },
     "output_type": "display_data"
    }
   ],
   "source": [
    "ax = forecast.plot(x='ds', y = 'yhat', label='Predictions', legend=True, figsize=(12,8))\n",
    "test.plot(x='ds', y='y', label ='True Test data', legend=True, ax=ax, xlim = ('2022-03-15','2022-11-22'))"
   ]
  },
  {
   "cell_type": "markdown",
   "id": "059f3b21",
   "metadata": {},
   "source": [
    "### Calculate RMSE "
   ]
  },
  {
   "cell_type": "code",
   "execution_count": 73,
   "id": "cca14724",
   "metadata": {},
   "outputs": [],
   "source": [
    "from statsmodels.tools.eval_measures import rmse"
   ]
  },
  {
   "cell_type": "code",
   "execution_count": 74,
   "id": "3ac87a56",
   "metadata": {},
   "outputs": [],
   "source": [
    "predictions = forecast.iloc[-180:]['yhat']"
   ]
  },
  {
   "cell_type": "code",
   "execution_count": 75,
   "id": "fed37d1f",
   "metadata": {},
   "outputs": [
    {
     "data": {
      "text/plain": [
       "1125    0.770164\n",
       "1126    0.769607\n",
       "1127    0.768783\n",
       "1128    0.767233\n",
       "1129    0.767053\n",
       "          ...   \n",
       "1300    0.744590\n",
       "1301    0.744521\n",
       "1302    0.744139\n",
       "1303    0.743583\n",
       "1304    0.743607\n",
       "Name: yhat, Length: 180, dtype: float64"
      ]
     },
     "execution_count": 75,
     "metadata": {},
     "output_type": "execute_result"
    }
   ],
   "source": [
    "predictions"
   ]
  },
  {
   "cell_type": "code",
   "execution_count": 76,
   "id": "030a80d9",
   "metadata": {},
   "outputs": [
    {
     "data": {
      "text/plain": [
       "0.01863211618564846"
      ]
     },
     "execution_count": 76,
     "metadata": {},
     "output_type": "execute_result"
    }
   ],
   "source": [
    "rmse(test['y'], predictions)"
   ]
  },
  {
   "cell_type": "markdown",
   "id": "cbff3f94",
   "metadata": {},
   "source": [
    "**How did the Prophet Model Perform?**"
   ]
  },
  {
   "cell_type": "markdown",
   "id": "84883c1e",
   "metadata": {},
   "source": [
    "- The prophet model gave the lowest RMSE I've seen so far.\n",
    "- The plot also shows that the model is able to do a fair job of forecasting the future trend.\n",
    "- It was able to forecast the downward trend around May, upward trend around june and even the drop seen around the end of november"
   ]
  },
  {
   "cell_type": "markdown",
   "id": "3bfeeaf5",
   "metadata": {},
   "source": [
    "#### Cross Validation"
   ]
  },
  {
   "cell_type": "markdown",
   "id": "2fc58712",
   "metadata": {},
   "source": [
    "To confirm the performance, I'll do a bit of cross validation"
   ]
  },
  {
   "cell_type": "code",
   "execution_count": 77,
   "id": "d4794b67",
   "metadata": {},
   "outputs": [],
   "source": [
    "#Perform cross validation on several sections"
   ]
  },
  {
   "cell_type": "code",
   "execution_count": 78,
   "id": "37c85d2b",
   "metadata": {},
   "outputs": [],
   "source": [
    "from prophet.diagnostics import cross_validation, performance_metrics\n",
    "from prophet.plot import plot_cross_validation_metric"
   ]
  },
  {
   "cell_type": "code",
   "execution_count": 90,
   "id": "7d3d6ffd",
   "metadata": {},
   "outputs": [],
   "source": [
    "#initial training period - 2 years \n",
    "\n",
    "initial = 260 * 3\n",
    "initial = str(initial) + 'days'\n",
    "\n",
    "#Period length for cross val\n",
    "period = 60\n",
    "period = str(period) + 'days'\n",
    "\n",
    "#horizon of prediction for each fold \n",
    "horizon = 180 #6 months\n",
    "horizon = str(horizon) + 'days'"
   ]
  },
  {
   "cell_type": "code",
   "execution_count": 91,
   "id": "fb819811",
   "metadata": {},
   "outputs": [
    {
     "data": {
      "application/vnd.jupyter.widget-view+json": {
       "model_id": "0814503465144541a2822a7a65daed82",
       "version_major": 2,
       "version_minor": 0
      },
      "text/plain": [
       "  0%|          | 0/11 [00:00<?, ?it/s]"
      ]
     },
     "metadata": {},
     "output_type": "display_data"
    },
    {
     "name": "stderr",
     "output_type": "stream",
     "text": [
      "23:27:50 - cmdstanpy - INFO - Chain [1] start processing\n",
      "23:27:51 - cmdstanpy - INFO - Chain [1] done processing\n",
      "23:27:51 - cmdstanpy - INFO - Chain [1] start processing\n",
      "23:27:51 - cmdstanpy - INFO - Chain [1] done processing\n",
      "23:27:52 - cmdstanpy - INFO - Chain [1] start processing\n",
      "23:27:52 - cmdstanpy - INFO - Chain [1] done processing\n",
      "23:27:53 - cmdstanpy - INFO - Chain [1] start processing\n",
      "23:27:53 - cmdstanpy - INFO - Chain [1] done processing\n",
      "23:27:54 - cmdstanpy - INFO - Chain [1] start processing\n",
      "23:27:54 - cmdstanpy - INFO - Chain [1] done processing\n",
      "23:27:55 - cmdstanpy - INFO - Chain [1] start processing\n",
      "23:27:55 - cmdstanpy - INFO - Chain [1] done processing\n",
      "23:27:56 - cmdstanpy - INFO - Chain [1] start processing\n",
      "23:27:57 - cmdstanpy - INFO - Chain [1] done processing\n",
      "23:27:57 - cmdstanpy - INFO - Chain [1] start processing\n",
      "23:27:57 - cmdstanpy - INFO - Chain [1] done processing\n",
      "23:27:58 - cmdstanpy - INFO - Chain [1] start processing\n",
      "23:27:59 - cmdstanpy - INFO - Chain [1] done processing\n",
      "23:27:59 - cmdstanpy - INFO - Chain [1] start processing\n",
      "23:28:00 - cmdstanpy - INFO - Chain [1] done processing\n",
      "23:28:00 - cmdstanpy - INFO - Chain [1] start processing\n",
      "23:28:01 - cmdstanpy - INFO - Chain [1] done processing\n"
     ]
    }
   ],
   "source": [
    "prices_cv = cross_validation(model, initial = initial , period=period, horizon = horizon)"
   ]
  },
  {
   "cell_type": "code",
   "execution_count": 92,
   "id": "9e740bf6",
   "metadata": {},
   "outputs": [
    {
     "data": {
      "text/html": [
       "<div>\n",
       "<style scoped>\n",
       "    .dataframe tbody tr th:only-of-type {\n",
       "        vertical-align: middle;\n",
       "    }\n",
       "\n",
       "    .dataframe tbody tr th {\n",
       "        vertical-align: top;\n",
       "    }\n",
       "\n",
       "    .dataframe thead th {\n",
       "        text-align: right;\n",
       "    }\n",
       "</style>\n",
       "<table border=\"1\" class=\"dataframe\">\n",
       "  <thead>\n",
       "    <tr style=\"text-align: right;\">\n",
       "      <th></th>\n",
       "      <th>horizon</th>\n",
       "      <th>mse</th>\n",
       "      <th>rmse</th>\n",
       "      <th>mae</th>\n",
       "      <th>mape</th>\n",
       "      <th>mdape</th>\n",
       "      <th>smape</th>\n",
       "      <th>coverage</th>\n",
       "    </tr>\n",
       "  </thead>\n",
       "  <tbody>\n",
       "    <tr>\n",
       "      <th>0</th>\n",
       "      <td>18 days</td>\n",
       "      <td>0.000137</td>\n",
       "      <td>0.011698</td>\n",
       "      <td>0.009280</td>\n",
       "      <td>0.012109</td>\n",
       "      <td>0.009632</td>\n",
       "      <td>0.012120</td>\n",
       "      <td>0.460993</td>\n",
       "    </tr>\n",
       "    <tr>\n",
       "      <th>1</th>\n",
       "      <td>19 days</td>\n",
       "      <td>0.000140</td>\n",
       "      <td>0.011847</td>\n",
       "      <td>0.009472</td>\n",
       "      <td>0.012365</td>\n",
       "      <td>0.010017</td>\n",
       "      <td>0.012386</td>\n",
       "      <td>0.443262</td>\n",
       "    </tr>\n",
       "    <tr>\n",
       "      <th>2</th>\n",
       "      <td>20 days</td>\n",
       "      <td>0.000139</td>\n",
       "      <td>0.011771</td>\n",
       "      <td>0.009430</td>\n",
       "      <td>0.012318</td>\n",
       "      <td>0.010085</td>\n",
       "      <td>0.012349</td>\n",
       "      <td>0.444782</td>\n",
       "    </tr>\n",
       "    <tr>\n",
       "      <th>3</th>\n",
       "      <td>21 days</td>\n",
       "      <td>0.000141</td>\n",
       "      <td>0.011865</td>\n",
       "      <td>0.009533</td>\n",
       "      <td>0.012453</td>\n",
       "      <td>0.010268</td>\n",
       "      <td>0.012495</td>\n",
       "      <td>0.443262</td>\n",
       "    </tr>\n",
       "    <tr>\n",
       "      <th>4</th>\n",
       "      <td>22 days</td>\n",
       "      <td>0.000144</td>\n",
       "      <td>0.012018</td>\n",
       "      <td>0.009711</td>\n",
       "      <td>0.012683</td>\n",
       "      <td>0.010465</td>\n",
       "      <td>0.012730</td>\n",
       "      <td>0.429472</td>\n",
       "    </tr>\n",
       "    <tr>\n",
       "      <th>...</th>\n",
       "      <td>...</td>\n",
       "      <td>...</td>\n",
       "      <td>...</td>\n",
       "      <td>...</td>\n",
       "      <td>...</td>\n",
       "      <td>...</td>\n",
       "      <td>...</td>\n",
       "      <td>...</td>\n",
       "    </tr>\n",
       "    <tr>\n",
       "      <th>158</th>\n",
       "      <td>176 days</td>\n",
       "      <td>0.003409</td>\n",
       "      <td>0.058391</td>\n",
       "      <td>0.046928</td>\n",
       "      <td>0.060060</td>\n",
       "      <td>0.063896</td>\n",
       "      <td>0.061749</td>\n",
       "      <td>0.725768</td>\n",
       "    </tr>\n",
       "    <tr>\n",
       "      <th>159</th>\n",
       "      <td>177 days</td>\n",
       "      <td>0.003486</td>\n",
       "      <td>0.059045</td>\n",
       "      <td>0.047575</td>\n",
       "      <td>0.060882</td>\n",
       "      <td>0.064931</td>\n",
       "      <td>0.062590</td>\n",
       "      <td>0.716312</td>\n",
       "    </tr>\n",
       "    <tr>\n",
       "      <th>160</th>\n",
       "      <td>178 days</td>\n",
       "      <td>0.003438</td>\n",
       "      <td>0.058631</td>\n",
       "      <td>0.047381</td>\n",
       "      <td>0.060588</td>\n",
       "      <td>0.064931</td>\n",
       "      <td>0.062244</td>\n",
       "      <td>0.720745</td>\n",
       "    </tr>\n",
       "    <tr>\n",
       "      <th>161</th>\n",
       "      <td>179 days</td>\n",
       "      <td>0.003358</td>\n",
       "      <td>0.057947</td>\n",
       "      <td>0.046997</td>\n",
       "      <td>0.060080</td>\n",
       "      <td>0.065636</td>\n",
       "      <td>0.061653</td>\n",
       "      <td>0.723404</td>\n",
       "    </tr>\n",
       "    <tr>\n",
       "      <th>162</th>\n",
       "      <td>180 days</td>\n",
       "      <td>0.003343</td>\n",
       "      <td>0.057822</td>\n",
       "      <td>0.047085</td>\n",
       "      <td>0.060212</td>\n",
       "      <td>0.065191</td>\n",
       "      <td>0.061748</td>\n",
       "      <td>0.726064</td>\n",
       "    </tr>\n",
       "  </tbody>\n",
       "</table>\n",
       "<p>163 rows × 8 columns</p>\n",
       "</div>"
      ],
      "text/plain": [
       "     horizon       mse      rmse       mae      mape     mdape     smape  \\\n",
       "0    18 days  0.000137  0.011698  0.009280  0.012109  0.009632  0.012120   \n",
       "1    19 days  0.000140  0.011847  0.009472  0.012365  0.010017  0.012386   \n",
       "2    20 days  0.000139  0.011771  0.009430  0.012318  0.010085  0.012349   \n",
       "3    21 days  0.000141  0.011865  0.009533  0.012453  0.010268  0.012495   \n",
       "4    22 days  0.000144  0.012018  0.009711  0.012683  0.010465  0.012730   \n",
       "..       ...       ...       ...       ...       ...       ...       ...   \n",
       "158 176 days  0.003409  0.058391  0.046928  0.060060  0.063896  0.061749   \n",
       "159 177 days  0.003486  0.059045  0.047575  0.060882  0.064931  0.062590   \n",
       "160 178 days  0.003438  0.058631  0.047381  0.060588  0.064931  0.062244   \n",
       "161 179 days  0.003358  0.057947  0.046997  0.060080  0.065636  0.061653   \n",
       "162 180 days  0.003343  0.057822  0.047085  0.060212  0.065191  0.061748   \n",
       "\n",
       "     coverage  \n",
       "0    0.460993  \n",
       "1    0.443262  \n",
       "2    0.444782  \n",
       "3    0.443262  \n",
       "4    0.429472  \n",
       "..        ...  \n",
       "158  0.725768  \n",
       "159  0.716312  \n",
       "160  0.720745  \n",
       "161  0.723404  \n",
       "162  0.726064  \n",
       "\n",
       "[163 rows x 8 columns]"
      ]
     },
     "execution_count": 92,
     "metadata": {},
     "output_type": "execute_result"
    }
   ],
   "source": [
    "performance_metrics(prices_cv)"
   ]
  },
  {
   "cell_type": "code",
   "execution_count": 93,
   "id": "fe43868b",
   "metadata": {},
   "outputs": [
    {
     "name": "stderr",
     "output_type": "stream",
     "text": [
      "C:\\Users\\olalawal\\Anaconda3\\lib\\site-packages\\prophet\\plot.py:544: FutureWarning: casting timedelta64[ns] values to int64 with .astype(...) is deprecated and will raise in a future version. Use .view(...) instead.\n",
      "  x_plt = df_none['horizon'].astype('timedelta64[ns]').astype(np.int64) / float(dt_conversions[i])\n",
      "C:\\Users\\olalawal\\Anaconda3\\lib\\site-packages\\prophet\\plot.py:545: FutureWarning: casting timedelta64[ns] values to int64 with .astype(...) is deprecated and will raise in a future version. Use .view(...) instead.\n",
      "  x_plt_h = df_h['horizon'].astype('timedelta64[ns]').astype(np.int64) / float(dt_conversions[i])\n"
     ]
    },
    {
     "data": {
      "image/png": "[encoded data removed]",
      "text/plain": [
       "<Figure size 720x432 with 1 Axes>"
      ]
     },
     "metadata": {},
     "output_type": "display_data"
    }
   ],
   "source": [
    "plot_cross_validation_metric(prices_cv, metric='rmse');"
   ]
  },
  {
   "cell_type": "markdown",
   "id": "474c1c27",
   "metadata": {},
   "source": [
    "Even though, the RMSE from the cross validation is higher. I believe this is because less data is been used to train the model"
   ]
  },
  {
   "cell_type": "markdown",
   "id": "1ecc0a3c",
   "metadata": {},
   "source": [
    "## Final Recommendation"
   ]
  },
  {
   "cell_type": "markdown",
   "id": "d68b8593",
   "metadata": {},
   "source": [
    "After implementing different models and comparing their performance on forecasting future trends & prices;\n",
    "- Most of the models didnt perform well and this might be because of the sort of data we are dealing with.\n",
    "- Can we really predict future exchange price based on just past prices. What happends to the external factors that actually affect this price?\n",
    "\n",
    "Therefore, I recommend the following:\n",
    "1. Do more research and obtain data that can be more suitable for this project\n",
    "2. If the business can't obtain more data, The Prophet model can be deployed but bearing in mind its limitations "
   ]
  },
  {
   "cell_type": "markdown",
   "id": "2ccd5a99",
   "metadata": {},
   "source": [
    "## Next Steps"
   ]
  },
  {
   "cell_type": "markdown",
   "id": "4706764a",
   "metadata": {},
   "source": [
    "1. Deploy the Prophet Model"
   ]
  },
  {
   "cell_type": "code",
   "execution_count": null,
   "id": "444cb7a2",
   "metadata": {},
   "outputs": [],
   "source": []
  }
 ],
 "metadata": {
  "kernelspec": {
   "display_name": "Python 3 (ipykernel)",
   "language": "python",
   "name": "python3"
  },
  "language_info": {
   "codemirror_mode": {
    "name": "ipython",
    "version": 3
   },
   "file_extension": ".py",
   "mimetype": "text/x-python",
   "name": "python",
   "nbconvert_exporter": "python",
   "pygments_lexer": "ipython3",
   "version": "3.9.13"
  }
 },
 "nbformat": 4,
 "nbformat_minor": 5
}
